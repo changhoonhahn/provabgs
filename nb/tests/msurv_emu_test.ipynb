{
 "cells": [
  {
   "cell_type": "code",
   "execution_count": 1,
   "id": "c6ebf867",
   "metadata": {},
   "outputs": [],
   "source": [
    "import os\n",
    "import numpy as np\n",
    "from tqdm.auto import trange"
   ]
  },
  {
   "cell_type": "code",
   "execution_count": 2,
   "id": "ae70a84f",
   "metadata": {},
   "outputs": [],
   "source": [
    "from astropy.cosmology import Planck13"
   ]
  },
  {
   "cell_type": "code",
   "execution_count": 3,
   "id": "f066b2b5",
   "metadata": {},
   "outputs": [],
   "source": [
    "from provabgs import infer as Infer\n",
    "from provabgs import models as Models"
   ]
  },
  {
   "cell_type": "code",
   "execution_count": 12,
   "id": "ae9553a7",
   "metadata": {},
   "outputs": [],
   "source": [
    "import matplotlib.pyplot as plt"
   ]
  },
  {
   "cell_type": "code",
   "execution_count": 4,
   "id": "9a562598",
   "metadata": {},
   "outputs": [],
   "source": [
    "priors =  Infer.load_priors([\n",
    "    Infer.FlatDirichletPrior(4, label='sed'),       # flat dirichilet priors\n",
    "    Infer.UniformPrior(0., 1., label='sed'), # burst fraction\n",
    "    Infer.UniformPrior(1.e-2, 13.27),                 # uniform priors on tburst from 10Myr to 13.27 Gyr\n",
    "    Infer.LogUniformPrior(4.5e-5, 4.5e-2, label='sed'), # log uniform priors on ZH coeff\n",
    "    Infer.LogUniformPrior(4.5e-5, 4.5e-2, label='sed'), # log uniform priors on ZH coeff\n",
    "    Infer.UniformPrior(0., 3., label='sed'),        # uniform priors on dust1\n",
    "    Infer.UniformPrior(0., 3., label='sed'),        # uniform priors on dust2\n",
    "    Infer.UniformPrior(-3., 1., label='sed')     # uniform priors on dust_index\n",
    "    ])"
   ]
  },
  {
   "cell_type": "code",
   "execution_count": 5,
   "id": "f76356f8",
   "metadata": {},
   "outputs": [],
   "source": [
    "nsamp = 100\n",
    "thetas = np.array([priors.transform(priors.sample()) for i in range(nsamp)])\n",
    "zreds = np.random.uniform(0., 0.6, size=nsamp)\n",
    "tages = Planck13.age(zreds).value"
   ]
  },
  {
   "cell_type": "code",
   "execution_count": 6,
   "id": "a0e2555f",
   "metadata": {},
   "outputs": [
    {
     "name": "stdout",
     "output_type": "stream",
     "text": [
      "input parameters : logmstar, beta1_sfh, beta2_sfh, beta3_sfh, beta4_sfh, fburst, tburst, gamma1_zh, gamma2_zh, dust1, dust2, dust_index\n"
     ]
    }
   ],
   "source": [
    "m_fsps = Models.NMF(burst=True, emulator=False)"
   ]
  },
  {
   "cell_type": "code",
   "execution_count": 7,
   "id": "a0d3f8c3",
   "metadata": {},
   "outputs": [],
   "source": [
    "m_fsps._ssp_initiate()"
   ]
  },
  {
   "cell_type": "code",
   "execution_count": 8,
   "id": "d9f35c37",
   "metadata": {},
   "outputs": [],
   "source": [
    "tts = np.concatenate([np.zeros((thetas.shape[0],1)), thetas], axis=1)\n",
    "msurv_emu = m_fsps._surviving_mass(tts, tages, emulator=True)\n",
    "\n",
    "msurv = []\n",
    "for _tt, tage in zip(tts, tages):\n",
    "    msurv.append(m_fsps._surviving_mass(_tt, tage, emulator=False))"
   ]
  },
  {
   "cell_type": "code",
   "execution_count": 16,
   "id": "a31aa39b",
   "metadata": {},
   "outputs": [
    {
     "data": {
      "text/plain": [
       "[<matplotlib.lines.Line2D at 0x149e8c3cb110>]"
      ]
     },
     "execution_count": 16,
     "metadata": {},
     "output_type": "execute_result"
    },
    {
     "data": {
      "image/png": "[encoded data removed]",
      "text/plain": [
       "<Figure size 432x288 with 1 Axes>"
      ]
     },
     "metadata": {
      "needs_background": "light"
     },
     "output_type": "display_data"
    }
   ],
   "source": [
    "plt.scatter(np.concatenate(msurv), msurv_emu)\n",
    "plt.plot([0.9*msurv_emu.min(), 1.1*msurv_emu.max()], [0.9*msurv_emu.min(), 1.1*msurv_emu.max()], c='k', ls='--')"
   ]
  },
  {
   "cell_type": "code",
   "execution_count": 9,
   "id": "7dd95bac",
   "metadata": {},
   "outputs": [
    {
     "name": "stdout",
     "output_type": "stream",
     "text": [
      "724 µs ± 4.63 µs per loop (mean ± std. dev. of 7 runs, 1000 loops each)\n"
     ]
    }
   ],
   "source": [
    "%timeit m_fsps._surviving_mass(_tt, tage, emulator=True)"
   ]
  },
  {
   "cell_type": "code",
   "execution_count": 10,
   "id": "23dbcd8d",
   "metadata": {},
   "outputs": [
    {
     "name": "stdout",
     "output_type": "stream",
     "text": [
      "266 ms ± 4.35 ms per loop (mean ± std. dev. of 7 runs, 1 loop each)\n"
     ]
    }
   ],
   "source": [
    "%timeit m_fsps._surviving_mass(_tt, tage, emulator=False)"
   ]
  }
 ],
 "metadata": {
  "kernelspec": {
   "display_name": "gqp [~/.conda/envs/gqp/]",
   "language": "python",
   "name": "conda_gqp"
  },
  "language_info": {
   "codemirror_mode": {
    "name": "ipython",
    "version": 3
   },
   "file_extension": ".py",
   "mimetype": "text/x-python",
   "name": "python",
   "nbconvert_exporter": "python",
   "pygments_lexer": "ipython3",
   "version": "3.7.10"
  }
 },
 "nbformat": 4,
 "nbformat_minor": 5
}
