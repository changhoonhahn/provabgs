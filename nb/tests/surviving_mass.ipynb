{
 "cells": [
  {
   "cell_type": "markdown",
   "id": "9e3c0ef7-f409-4bc7-9325-fb42bb5041e3",
   "metadata": {},
   "source": [
    "# test surviving mass implementation"
   ]
  },
  {
   "cell_type": "code",
   "execution_count": 1,
   "id": "07da471a-3335-4293-8ab2-c9fea54b0fdf",
   "metadata": {},
   "outputs": [],
   "source": [
    "import numpy as np \n",
    "from provabgs import util as UT\n",
    "from provabgs import infer as Infer\n",
    "from provabgs import models as Models"
   ]
  },
  {
   "cell_type": "code",
   "execution_count": 2,
   "id": "2f6890bf-ae7f-4231-bc26-9d0a8b389b37",
   "metadata": {},
   "outputs": [],
   "source": [
    "from astropy.cosmology import Planck13"
   ]
  },
  {
   "cell_type": "code",
   "execution_count": 3,
   "id": "777bda97-6aad-407c-947b-013d833542ef",
   "metadata": {},
   "outputs": [],
   "source": [
    "# declare prior\n",
    "prior = Infer.load_priors([\n",
    "    Infer.UniformPrior(7., 12.5, label='sed'),\n",
    "    Infer.FlatDirichletPrior(4, label='sed'),   # flat dirichilet priors\n",
    "    Infer.UniformPrior(0., 1., label='sed'), # burst fraction\n",
    "    Infer.UniformPrior(1e-2, 13.27, label='sed'), # tburst\n",
    "    Infer.LogUniformPrior(4.5e-5, 1.5e-2, label='sed'), # log uniform priors on ZH coeff\n",
    "    Infer.LogUniformPrior(4.5e-5, 1.5e-2, label='sed'), # log uniform priors on ZH coeff\n",
    "    Infer.UniformPrior(0., 3., label='sed'),        # uniform priors on dust1\n",
    "    Infer.UniformPrior(0., 3., label='sed'),        # uniform priors on dust2\n",
    "    Infer.UniformPrior(-2., 1., label='sed')    # uniform priors on dust_index\n",
    "])"
   ]
  },
  {
   "cell_type": "code",
   "execution_count": 4,
   "id": "e760d3c4-fe5b-4d2c-9646-f079aa47e4a7",
   "metadata": {},
   "outputs": [
    {
     "name": "stdout",
     "output_type": "stream",
     "text": [
      "input parameters : logmstar, beta1_sfh, beta2_sfh, beta3_sfh, beta4_sfh, fburst, tburst, gamma1_zh, gamma2_zh, dust1, dust2, dust_index\n"
     ]
    }
   ],
   "source": [
    "m_nmf = Models.NMF(burst=True, emulator=False)"
   ]
  },
  {
   "cell_type": "code",
   "execution_count": 5,
   "id": "687733d7-7cff-49b8-bd11-b2376e166a35",
   "metadata": {},
   "outputs": [
    {
     "name": "stdout",
     "output_type": "stream",
     "text": [
      "12.453025465217658\n"
     ]
    }
   ],
   "source": [
    "zred = 0.1 \n",
    "tage = Planck13.age(zred).value\n",
    "print(tage)"
   ]
  },
  {
   "cell_type": "code",
   "execution_count": 6,
   "id": "4953d9d1-e4f0-49ee-bef3-18445cea149a",
   "metadata": {},
   "outputs": [
    {
     "name": "stdout",
     "output_type": "stream",
     "text": [
      "[ 1.24377800e+01  7.14744480e-02  6.54079688e-01  2.49341917e-01\n",
      "  2.51039471e-02  3.86571394e-01  7.47698965e+00  9.71015824e-03\n",
      "  1.94249665e-03  1.88079921e+00  1.53606451e+00 -3.46538502e-01]\n"
     ]
    }
   ],
   "source": [
    "tt0 = prior.transform(prior.sample())\n",
    "print(tt0)"
   ]
  },
  {
   "cell_type": "code",
   "execution_count": 7,
   "id": "58720b3a-9915-41a2-b65e-cac348ee6f90",
   "metadata": {},
   "outputs": [
    {
     "data": {
      "text/plain": [
       "array([1.61707015e+12])"
      ]
     },
     "execution_count": 7,
     "metadata": {},
     "output_type": "execute_result"
    }
   ],
   "source": [
    "m_nmf._surviving_mass(tt0, tage)"
   ]
  },
  {
   "cell_type": "code",
   "execution_count": 8,
   "id": "cd3a5680-c9a8-4054-aeac-4dbeb5751fce",
   "metadata": {},
   "outputs": [
    {
     "name": "stdout",
     "output_type": "stream",
     "text": [
      "[0.5901316]\n"
     ]
    }
   ],
   "source": [
    "tt0[0] = 0. \n",
    "print(m_nmf._surviving_mass(tt0, tage))"
   ]
  },
  {
   "cell_type": "code",
   "execution_count": 9,
   "id": "2ddf977c-6f8d-445c-9136-7facf40acf1e",
   "metadata": {},
   "outputs": [
    {
     "name": "stdout",
     "output_type": "stream",
     "text": [
      "[0.58173922]\n",
      "[0.58973692]\n",
      "[0.57884409]\n",
      "[0.60216744]\n",
      "[0.61346587]\n",
      "[0.57153439]\n",
      "[0.58204338]\n",
      "[0.58791991]\n",
      "[0.59017607]\n",
      "[0.62681722]\n"
     ]
    }
   ],
   "source": [
    "for i in range(10):\n",
    "    _tt = prior.transform(prior.sample())\n",
    "    _tt[0] = 0. \n",
    "    print(m_nmf._surviving_mass(_tt, tage))"
   ]
  },
  {
   "cell_type": "code",
   "execution_count": null,
   "id": "62281b77-f0c1-4be6-bf7c-a5de8d124644",
   "metadata": {},
   "outputs": [],
   "source": []
  }
 ],
 "metadata": {
  "kernelspec": {
   "display_name": "gqp",
   "language": "python",
   "name": "gqp"
  },
  "language_info": {
   "codemirror_mode": {
    "name": "ipython",
    "version": 3
   },
   "file_extension": ".py",
   "mimetype": "text/x-python",
   "name": "python",
   "nbconvert_exporter": "python",
   "pygments_lexer": "ipython3",
   "version": "3.7.4"
  }
 },
 "nbformat": 4,
 "nbformat_minor": 5
}
