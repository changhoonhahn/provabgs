{
 "cells": [
  {
   "cell_type": "code",
   "execution_count": 1,
   "id": "42883be3-ae51-4f73-9cab-4d3d21a8e07e",
   "metadata": {},
   "outputs": [
    {
     "name": "stderr",
     "output_type": "stream",
     "text": [
      "/global/homes/c/chahah/.conda/envs/gqp/lib/python3.7/site-packages/tqdm/auto.py:21: TqdmWarning: IProgress not found. Please update jupyter and ipywidgets. See https://ipywidgets.readthedocs.io/en/stable/user_install.html\n",
      "  from .autonotebook import tqdm as notebook_tqdm\n"
     ]
    }
   ],
   "source": [
    "import os, sys\n",
    "import h5py, glob\n",
    "import numpy as np\n",
    "from tqdm.auto import trange\n",
    "\n",
    "from provabgs import util as UT\n",
    "from provabgs import infer as Infer\n",
    "from provabgs import models as Models"
   ]
  },
  {
   "cell_type": "code",
   "execution_count": 2,
   "id": "df99ffae-2202-4dc1-9980-77f1f34281c0",
   "metadata": {},
   "outputs": [],
   "source": [
    "from astropy.table import Table\n",
    "from astropy.cosmology import Planck13"
   ]
  },
  {
   "cell_type": "code",
   "execution_count": 3,
   "id": "0552ac5f-ef16-42b1-8b5c-df00907fda44",
   "metadata": {},
   "outputs": [],
   "source": [
    "bgs = Table.read('/global/cfs/cdirs/desicollab/science/gqp/stellar_mass_comparison/bgs-test.fits')"
   ]
  },
  {
   "cell_type": "code",
   "execution_count": 4,
   "id": "d4bc20da-ea59-49dc-afe0-99a425a7983d",
   "metadata": {},
   "outputs": [],
   "source": [
    "logmstar_bf = np.repeat(-999., len(bgs))\n",
    "logmstar = np.tile(-999, (len(bgs), 100))"
   ]
  },
  {
   "cell_type": "code",
   "execution_count": 5,
   "id": "15727414-7eed-4b3a-a872-481e9d5a52a6",
   "metadata": {},
   "outputs": [
    {
     "name": "stdout",
     "output_type": "stream",
     "text": [
      "input parameters : logmstar, beta1_sfh, beta2_sfh, beta3_sfh, beta4_sfh, fburst, tburst, gamma1_zh, gamma2_zh, dust1, dust2, dust_index\n"
     ]
    }
   ],
   "source": [
    "m_nmf = Models.NMF(burst=True, emulator=True)"
   ]
  },
  {
   "cell_type": "code",
   "execution_count": 6,
   "id": "ff7c9c5c-05ec-44b0-98c4-296b19741fba",
   "metadata": {
    "tags": []
   },
   "outputs": [
    {
     "name": "stderr",
     "output_type": "stream",
     "text": [
      "100%|██████████| 50578/50578 [2:56:11<00:00,  4.78it/s]   \n"
     ]
    }
   ],
   "source": [
    "dat_dir = '/global/cscratch1/sd/chahah/provabgs/challenge/stellar_mass/'\n",
    "for igal in trange(len(bgs)): \n",
    "    \n",
    "    fname = os.path.join(dat_dir, f'bgs_test.{igal}.hdf5')\n",
    "    if not os.path.isfile(fname): continue \n",
    "\n",
    "    with h5py.File(fname, 'r') as fhpix:\n",
    "        if 'redshift' not in fhpix.keys():\n",
    "            print()\n",
    "            print('gal %i is problematic' % hpix)\n",
    "            print()\n",
    "            continue\n",
    "        zreds = fhpix['redshift'][...]\n",
    "        \n",
    "        # get posterior samples and log probabilities\n",
    "        _logp = fhpix['log_prob'][...][-1000:].flatten()\n",
    "        _theta = fhpix['mcmc_chain'][...][-1000:]\n",
    "        _theta = _theta.reshape((_theta.shape[0] * _theta.shape[1], _theta.shape[2]))\n",
    "\n",
    "        # get best-fit theta\n",
    "        theta_bfs = _theta[np.argmax(_logp)]\n",
    "        \n",
    "    # calculate M* (surviving stellar mass)\n",
    "    tage = Planck13.age(zreds).value\n",
    "    logmstar_bf[igal] = np.log10(m_nmf._surviving_mass(theta_bfs[:12], tage))\n",
    "    logmstar[igal,:] = np.random.choice(np.log10(m_nmf._surviving_mass(_theta[:,:-1], tage)), size=100, replace=False)\n",
    "    \n",
    "    #print(22.5 - 2.5 * np.log10(bgs['FLUX_R'])[igal], bgs['Z'][igal], theta_bfs[0], logmstar_bf[igal])"
   ]
  },
  {
   "cell_type": "code",
   "execution_count": 7,
   "id": "8d96cac4-6928-4dc2-ab85-a260074be68c",
   "metadata": {},
   "outputs": [
    {
     "name": "stdout",
     "output_type": "stream",
     "text": [
      "46360\n"
     ]
    }
   ],
   "source": [
    "print(np.sum(logmstar_bf != -999.))"
   ]
  },
  {
   "cell_type": "code",
   "execution_count": 8,
   "id": "bc60909a-e24e-4947-b9fe-e76815ebb24b",
   "metadata": {},
   "outputs": [
    {
     "name": "stderr",
     "output_type": "stream",
     "text": [
      "\n",
      "Bad key text.latex.preview in file /global/homes/c/chahah/.conda/envs/gqp/lib/python3.7/site-packages/matplotlib/mpl-data/stylelib/_classic_test.mplstyle, line 123 ('text.latex.preview : False')\n",
      "You probably need to get an updated matplotlibrc file from\n",
      "https://github.com/matplotlib/matplotlib/blob/v3.5.3/matplotlibrc.template\n",
      "or from the matplotlib source distribution\n",
      "\n",
      "Bad key mathtext.fallback_to_cm in file /global/homes/c/chahah/.conda/envs/gqp/lib/python3.7/site-packages/matplotlib/mpl-data/stylelib/_classic_test.mplstyle, line 155 ('mathtext.fallback_to_cm : True  # When True, use symbols from the Computer Modern')\n",
      "You probably need to get an updated matplotlibrc file from\n",
      "https://github.com/matplotlib/matplotlib/blob/v3.5.3/matplotlibrc.template\n",
      "or from the matplotlib source distribution\n",
      "\n",
      "Bad key savefig.jpeg_quality in file /global/homes/c/chahah/.conda/envs/gqp/lib/python3.7/site-packages/matplotlib/mpl-data/stylelib/_classic_test.mplstyle, line 418 ('savefig.jpeg_quality: 95       # when a jpeg is saved, the default quality parameter.')\n",
      "You probably need to get an updated matplotlibrc file from\n",
      "https://github.com/matplotlib/matplotlib/blob/v3.5.3/matplotlibrc.template\n",
      "or from the matplotlib source distribution\n",
      "\n",
      "Bad key keymap.all_axes in file /global/homes/c/chahah/.conda/envs/gqp/lib/python3.7/site-packages/matplotlib/mpl-data/stylelib/_classic_test.mplstyle, line 466 ('keymap.all_axes : a                 # enable all axes')\n",
      "You probably need to get an updated matplotlibrc file from\n",
      "https://github.com/matplotlib/matplotlib/blob/v3.5.3/matplotlibrc.template\n",
      "or from the matplotlib source distribution\n",
      "\n",
      "Bad key animation.avconv_path in file /global/homes/c/chahah/.conda/envs/gqp/lib/python3.7/site-packages/matplotlib/mpl-data/stylelib/_classic_test.mplstyle, line 477 ('animation.avconv_path: avconv     # Path to avconv binary. Without full path')\n",
      "You probably need to get an updated matplotlibrc file from\n",
      "https://github.com/matplotlib/matplotlib/blob/v3.5.3/matplotlibrc.template\n",
      "or from the matplotlib source distribution\n",
      "\n",
      "Bad key animation.avconv_args in file /global/homes/c/chahah/.conda/envs/gqp/lib/python3.7/site-packages/matplotlib/mpl-data/stylelib/_classic_test.mplstyle, line 479 ('animation.avconv_args:            # Additional arguments to pass to avconv')\n",
      "You probably need to get an updated matplotlibrc file from\n",
      "https://github.com/matplotlib/matplotlib/blob/v3.5.3/matplotlibrc.template\n",
      "or from the matplotlib source distribution\n"
     ]
    }
   ],
   "source": [
    "import matplotlib.pyplot as plt"
   ]
  },
  {
   "cell_type": "code",
   "execution_count": 9,
   "id": "f8b2f829-48dd-4f4b-abd7-1831ce3c30ea",
   "metadata": {},
   "outputs": [
    {
     "data": {
      "text/plain": [
       "<matplotlib.collections.PathCollection at 0x15546419ec50>"
      ]
     },
     "execution_count": 9,
     "metadata": {},
     "output_type": "execute_result"
    },
    {
     "data": {
      "image/png": "[encoded data removed]",
      "text/plain": [
       "<Figure size 432x288 with 1 Axes>"
      ]
     },
     "metadata": {
      "needs_background": "light"
     },
     "output_type": "display_data"
    }
   ],
   "source": [
    "plt.scatter(bgs['Z'][logmstar_bf != -999.], logmstar_bf[logmstar_bf != -999.], s=1)"
   ]
  },
  {
   "cell_type": "code",
   "execution_count": 10,
   "id": "cf5ec527-f207-4be3-aa3d-65d1b0ecaf3a",
   "metadata": {},
   "outputs": [],
   "source": [
    "tab = Table()"
   ]
  },
  {
   "cell_type": "code",
   "execution_count": 11,
   "id": "476b7bca-c55d-4ab5-8255-2172a150915d",
   "metadata": {},
   "outputs": [],
   "source": [
    "for k in ['TARGETID', 'SURVEY', 'PROGRAM', 'HEALPIX', 'Z']: \n",
    "    tab[k] = bgs[k]"
   ]
  },
  {
   "cell_type": "code",
   "execution_count": 12,
   "id": "a57ae80d-e89f-4dc3-afa0-510af43449d3",
   "metadata": {},
   "outputs": [],
   "source": [
    "tab['logmstar_bf'] = logmstar_bf\n",
    "tab['logmstar'] = logmstar"
   ]
  },
  {
   "cell_type": "code",
   "execution_count": 13,
   "id": "adc63bac-52a7-46c7-932d-a0b6a838989e",
   "metadata": {},
   "outputs": [],
   "source": [
    "tab.write('/global/cscratch1/sd/chahah/provabgs/challenge/bgs-test.logmstar.desi_cosmo.fits')"
   ]
  },
  {
   "cell_type": "code",
   "execution_count": null,
   "id": "719f24d3-9487-4fea-8b09-226544f73a7e",
   "metadata": {},
   "outputs": [],
   "source": [
    "\n"
   ]
  }
 ],
 "metadata": {
  "kernelspec": {
   "display_name": "gqp",
   "language": "python",
   "name": "gqp"
  },
  "language_info": {
   "codemirror_mode": {
    "name": "ipython",
    "version": 3
   },
   "file_extension": ".py",
   "mimetype": "text/x-python",
   "name": "python",
   "nbconvert_exporter": "python",
   "pygments_lexer": "ipython3",
   "version": "3.7.12"
  }
 },
 "nbformat": 4,
 "nbformat_minor": 5
}
