{
 "cells": [
  {
   "cell_type": "markdown",
   "id": "21ad48db-d146-4691-a78b-ff180e4fa3c4",
   "metadata": {},
   "source": [
    "# add fiber assign weights"
   ]
  },
  {
   "cell_type": "code",
   "execution_count": 1,
   "id": "aaf678dd-edce-4449-9bf3-95e096d619ec",
   "metadata": {},
   "outputs": [],
   "source": [
    "import os\n",
    "import h5py\n",
    "import fitsio\n",
    "import numpy as np\n",
    "from tqdm import tqdm\n",
    "from scipy.special import erf\n",
    "import astropy.table as aTable"
   ]
  },
  {
   "cell_type": "code",
   "execution_count": 2,
   "id": "0356861f-60e7-4a88-97cf-475f5adee9d8",
   "metadata": {},
   "outputs": [
    {
     "name": "stderr",
     "output_type": "stream",
     "text": [
      "\n",
      "Bad key text.latex.preview in file /global/homes/c/chahah/.conda/envs/gqp/lib/python3.7/site-packages/matplotlib/mpl-data/stylelib/_classic_test.mplstyle, line 123 ('text.latex.preview : False')\n",
      "You probably need to get an updated matplotlibrc file from\n",
      "https://github.com/matplotlib/matplotlib/blob/v3.5.1/matplotlibrc.template\n",
      "or from the matplotlib source distribution\n",
      "\n",
      "Bad key mathtext.fallback_to_cm in file /global/homes/c/chahah/.conda/envs/gqp/lib/python3.7/site-packages/matplotlib/mpl-data/stylelib/_classic_test.mplstyle, line 155 ('mathtext.fallback_to_cm : True  # When True, use symbols from the Computer Modern')\n",
      "You probably need to get an updated matplotlibrc file from\n",
      "https://github.com/matplotlib/matplotlib/blob/v3.5.1/matplotlibrc.template\n",
      "or from the matplotlib source distribution\n",
      "\n",
      "Bad key savefig.jpeg_quality in file /global/homes/c/chahah/.conda/envs/gqp/lib/python3.7/site-packages/matplotlib/mpl-data/stylelib/_classic_test.mplstyle, line 418 ('savefig.jpeg_quality: 95       # when a jpeg is saved, the default quality parameter.')\n",
      "You probably need to get an updated matplotlibrc file from\n",
      "https://github.com/matplotlib/matplotlib/blob/v3.5.1/matplotlibrc.template\n",
      "or from the matplotlib source distribution\n",
      "\n",
      "Bad key keymap.all_axes in file /global/homes/c/chahah/.conda/envs/gqp/lib/python3.7/site-packages/matplotlib/mpl-data/stylelib/_classic_test.mplstyle, line 466 ('keymap.all_axes : a                 # enable all axes')\n",
      "You probably need to get an updated matplotlibrc file from\n",
      "https://github.com/matplotlib/matplotlib/blob/v3.5.1/matplotlibrc.template\n",
      "or from the matplotlib source distribution\n",
      "\n",
      "Bad key animation.avconv_path in file /global/homes/c/chahah/.conda/envs/gqp/lib/python3.7/site-packages/matplotlib/mpl-data/stylelib/_classic_test.mplstyle, line 477 ('animation.avconv_path: avconv     # Path to avconv binary. Without full path')\n",
      "You probably need to get an updated matplotlibrc file from\n",
      "https://github.com/matplotlib/matplotlib/blob/v3.5.1/matplotlibrc.template\n",
      "or from the matplotlib source distribution\n",
      "\n",
      "Bad key animation.avconv_args in file /global/homes/c/chahah/.conda/envs/gqp/lib/python3.7/site-packages/matplotlib/mpl-data/stylelib/_classic_test.mplstyle, line 479 ('animation.avconv_args:            # Additional arguments to pass to avconv')\n",
      "You probably need to get an updated matplotlibrc file from\n",
      "https://github.com/matplotlib/matplotlib/blob/v3.5.1/matplotlibrc.template\n",
      "or from the matplotlib source distribution\n"
     ]
    }
   ],
   "source": [
    "import desitarget.io\n",
    "from desitarget.sv3.sv3_targetmask import bgs_mask as sv3_bgs_mask"
   ]
  },
  {
   "cell_type": "code",
   "execution_count": 3,
   "id": "3e14c8c5-3b46-4f22-86ce-8a237d3e8691",
   "metadata": {},
   "outputs": [],
   "source": [
    "import matplotlib.pyplot as plt"
   ]
  },
  {
   "cell_type": "markdown",
   "id": "eb0c6784-4597-43c2-8000-a2b9b1370de7",
   "metadata": {},
   "source": [
    "## read in target catalog"
   ]
  },
  {
   "cell_type": "code",
   "execution_count": 4,
   "id": "84875527-1d25-4987-8992-2988569cc75a",
   "metadata": {},
   "outputs": [
    {
     "name": "stdout",
     "output_type": "stream",
     "text": [
      "143074 BGS BRIGHT z-success\n",
      "96771 BGS FAINT z-success\n"
     ]
    }
   ],
   "source": [
    "ff = fitsio.read('/global/cfs/cdirs/desi/survey/catalogs/SV3/LSS/fuji/LSScats/EDAbeta/BGS_ANY_full.dat.fits')\n",
    "\n",
    "# select only BGS targets\n",
    "is_bgs_bright = (\n",
    "    (ff['COADD_FIBERSTATUS'] == 0) & \n",
    "    ((ff['SV3_BGS_TARGET'] & sv3_bgs_mask['BGS_BRIGHT']) != 0) & \n",
    "    (ff['SPECTYPE'] == 'GALAXY') & \n",
    "    (ff['Z_HP'] > 0.) & (ff['Z_HP'] < 0.6) & \n",
    "    (ff['ZWARN'] == 0) & \n",
    "    (ff['DELTACHI2'] > 40.) & \n",
    "    (ff['ZERR'] < 0.0005 * (1 + ff['Z_HP'])))\n",
    "\n",
    "is_bgs_faint = (\n",
    "    (ff['COADD_FIBERSTATUS'] == 0) & \n",
    "    ((ff['SV3_BGS_TARGET'] & sv3_bgs_mask['BGS_FAINT']) != 0) & \n",
    "    (ff['SPECTYPE'] == 'GALAXY') & \n",
    "    (ff['Z_HP'] > 0.) & (ff['Z_HP'] < 0.6) & \n",
    "    (ff['ZWARN'] == 0) & \n",
    "    (ff['DELTACHI2'] > 40.) & \n",
    "    (ff['ZERR'] < 0.0005 * (1 + ff['Z_HP'])))\n",
    "\n",
    "print('%i BGS BRIGHT z-success' % np.sum(is_bgs_bright))\n",
    "print('%i BGS FAINT z-success' % np.sum(is_bgs_faint))"
   ]
  },
  {
   "cell_type": "markdown",
   "id": "7d9f7971-5930-4edd-b8e3-70b83a51651e",
   "metadata": {},
   "source": [
    "## read in VAGC"
   ]
  },
  {
   "cell_type": "code",
   "execution_count": 5,
   "id": "cbc72a6a-b203-401c-bfbf-f8373e10e986",
   "metadata": {},
   "outputs": [],
   "source": [
    "fvagc = '/global/cfs/cdirs/desi/users/chahah/provabgs/svda/BGS_ANY_full.provabgs.hdf5'\n",
    "vagc = aTable.Table.read(fvagc)\n",
    "vagc[:5]\n",
    "\n",
    "has_va = (vagc['provabgs_z_max'] != -999.)"
   ]
  },
  {
   "cell_type": "markdown",
   "id": "89119551-c6fa-4252-8052-d34f7ca7a0da",
   "metadata": {},
   "source": [
    "# assign fiber assign weights using MTLS"
   ]
  },
  {
   "cell_type": "code",
   "execution_count": 6,
   "id": "25f9372b-f9eb-473a-8fc6-b5287b638dee",
   "metadata": {},
   "outputs": [],
   "source": [
    "with open('/global/cfs/cdirs/desi/survey/catalogs/SV3/LSS/altmtl/SV3HPList.txt') as f: \n",
    "    hplist = [int(hp) for hp in f.readline().split(',')]"
   ]
  },
  {
   "cell_type": "code",
   "execution_count": 8,
   "id": "78253d0a-2a6e-47c4-8186-37df95909215",
   "metadata": {},
   "outputs": [
    {
     "name": "stdout",
     "output_type": "stream",
     "text": [
      "[False  True False ...  True  True  True]\n",
      "[False False False ...  True False  True]\n",
      "[False False False ...  True  True  True]\n",
      "[False False False ...  True  True  True]\n",
      "[False  True False ...  True  True  True]\n",
      "[False False False ...  True  True  True]\n",
      "[False False False ...  True  True  True]\n",
      "[False False False ...  True False  True]\n",
      "[False False False ...  True  True  True]\n",
      "[False False False ...  True  True  True]\n",
      "[False False False ...  True False  True]\n",
      "[False False False ...  True  True  True]\n",
      "[False  True False ...  True  True  True]\n",
      "[False False False ...  True  True  True]\n",
      "[False  True False ...  True  True  True]\n",
      "[False False False ...  True  True  True]\n",
      "[False  True False ...  True  True  True]\n",
      "[False  True False ...  True  True  True]\n",
      "[False False False ...  True  True  True]\n",
      "[False  True False ...  True  True  True]\n",
      "[False  True False ...  True  True  True]\n",
      "[False False False ...  True  True  True]\n",
      "[False False False ...  True  True  True]\n",
      "[False False False ...  True  True  True]\n",
      "[False False False ...  True  True  True]\n",
      "[False  True False ...  True  True  True]\n",
      "[False False False ...  True  True  True]\n",
      "[False False False ...  True  True  True]\n",
      "[False False False ...  True  True  True]\n",
      "[False False False ...  True  True  True]\n",
      "[False False False ...  True  True  True]\n",
      "[False False False ...  True  True  True]\n",
      "[False False False ...  True  True  True]\n",
      "[False False False ...  True  True  True]\n",
      "[False False False ...  True  True  True]\n",
      "[False False False ...  True  True  True]\n",
      "[False  True False ...  True  True  True]\n",
      "[False False False ...  True  True  True]\n",
      "[False False False ...  True False  True]\n",
      "[False False False ...  True  True  True]\n",
      "[False  True False ...  True  True  True]\n",
      "[False False False ...  True  True  True]\n",
      "[False False False ...  True False  True]\n",
      "[False  True False ...  True  True  True]\n",
      "[False  True False ...  True  True  True]\n",
      "[False False False ...  True  True  True]\n",
      "[False False False ...  True  True  True]\n",
      "[False False False ...  True  True  True]\n",
      "[False False False ...  True  True  True]\n",
      "[False False False ...  True  True  True]\n",
      "[False False False ...  True  True  True]\n",
      "[False False False ...  True  True  True]\n",
      "[False  True False ...  True False  True]\n",
      "[False False False ...  True  True  True]\n",
      "[False False False ...  True  True  True]\n",
      "[False  True False ...  True  True  True]\n",
      "[False False False ...  True  True  True]\n",
      "[False False False ...  True  True  True]\n",
      "[False  True False ...  True  True  True]\n",
      "[False False False ...  True  True  True]\n",
      "[False False False ...  True  True  True]\n",
      "[False False False ...  True  True  True]\n",
      "[False False False ...  True  True  True]\n",
      "[False  True False ...  True  True  True]\n",
      "[False False False ...  True  True  True]\n",
      "[False False False ...  True  True  True]\n",
      "[False  True False ...  True  True  True]\n",
      "[False False False ...  True  True  True]\n",
      "[False  True False ...  True  True  True]\n",
      "[False  True False ...  True  True  True]\n",
      "[False False False ...  True  True  True]\n",
      "[False False False ...  True False  True]\n",
      "[False False False ...  True  True  True]\n",
      "[False  True False ...  True  True  True]\n",
      "[False  True False ...  True False  True]\n",
      "[False False False ...  True  True  True]\n",
      "[False False False ...  True  True  True]\n",
      "[False False False ...  True  True  True]\n",
      "[False False False ...  True  True  True]\n",
      "[False False False ...  True  True  True]\n",
      "[False  True False ...  True  True  True]\n",
      "[False False False ...  True  True  True]\n",
      "[False  True False ...  True  True  True]\n",
      "[False False False ...  True  True  True]\n",
      "[False  True False ...  True False  True]\n",
      "[False False False ...  True  True  True]\n",
      "[False False False ...  True  True  True]\n",
      "[False  True False ...  True  True  True]\n",
      "[False False False ...  True  True  True]\n",
      "[False  True False ...  True  True  True]\n",
      "[False  True False ...  True  True  True]\n",
      "[False False False ...  True  True  True]\n",
      "[False False False ...  True  True  True]\n",
      "[False  True False ...  True  True  True]\n",
      "[False  True False ...  True  True  True]\n",
      "[False  True False ...  True  True  True]\n",
      "[False False False ...  True False  True]\n",
      "[False False False ...  True  True  True]\n",
      "[False  True False ...  True  True  True]\n",
      "[False False False ...  True  True  True]\n",
      "[False False False ...  True  True  True]\n",
      "[False False False ...  True  True  True]\n",
      "[False  True False ...  True  True  True]\n",
      "[False False False ...  True  True  True]\n",
      "[False False False ...  True  True  True]\n",
      "[False  True False ...  True False  True]\n",
      "[False False False ...  True  True  True]\n",
      "[False  True False ...  True  True  True]\n",
      "[False False False ...  True False  True]\n",
      "[False False False ...  True  True  True]\n",
      "[False False False ...  True  True  True]\n",
      "[False False False ...  True  True  True]\n",
      "[False False False ...  True  True  True]\n",
      "[False  True False ...  True False  True]\n",
      "[False  True False ...  True  True  True]\n",
      "[False False False ...  True  True  True]\n",
      "[False False False ...  True  True  True]\n",
      "[False False False ...  True  True  True]\n",
      "[False False False ...  True  True  True]\n",
      "[False False False ...  True  True  True]\n",
      "[False False False ...  True  True  True]\n",
      "[False  True False ...  True  True  True]\n",
      "[False False False ...  True  True  True]\n",
      "[False False False ...  True  True  True]\n",
      "[False  True False ...  True  True  True]\n",
      "[False False False ...  True  True  True]\n",
      "[False False False ...  True  True  True]\n",
      "[False False False ...  True False  True]\n"
     ]
    }
   ],
   "source": [
    "target_ids = ff['TARGETID']\n",
    "\n",
    "nobs = np.zeros((len(target_ids), 128))\n",
    "for imtl in tqdm(range(128)): \n",
    "    # compile mtls\n",
    "    mtls = []\n",
    "    for pix in hplist:\n",
    "        targs = desitarget.io.read_mtl_ledger(\n",
    "            os.path.join('/global/cfs/cdirs/desi/survey/catalogs/SV3/LSS/altmtl/DESI_EDA_SV3AltMTLs/', \n",
    "                         'Univ%s' % str(imtl).zfill(3), 'sv3', 'bright', 'sv3mtl-bright-hp-%i.ecsv' % pix), \n",
    "            unique=True, isodate=None, initial=False, leq=False)\n",
    "        mtls.append(targs)\n",
    "    mtls = np.concatenate(mtls)\n",
    "    mtls = mtls[mtls['NUMOBS'] > 0.5]\n",
    "    \n",
    "    fa_ed = np.in1d(target_ids, mtls['TARGETID'])\n",
    "    nobs[fa_ed,imtl] = 1."
   ]
  },
  {
   "cell_type": "code",
   "execution_count": 9,
   "id": "26bea8e9-5f6d-45e1-b7fc-17123074e918",
   "metadata": {},
   "outputs": [],
   "source": [
    "nobs_mtls = np.sum(nobs, axis=1)"
   ]
  },
  {
   "cell_type": "code",
   "execution_count": 11,
   "id": "2f5c12d7-12a5-4a63-a4c0-4b0f16e93fa4",
   "metadata": {},
   "outputs": [],
   "source": [
    "w_fa = 129. / (nobs_mtls + 1) # calculate the weights"
   ]
  },
  {
   "cell_type": "code",
   "execution_count": 15,
   "id": "a7352e25-b5db-4a16-974f-2a3cb73a7025",
   "metadata": {},
   "outputs": [
    {
     "name": "stdout",
     "output_type": "stream",
     "text": [
      "1.0 10.75\n",
      "1.0 129.0\n"
     ]
    }
   ],
   "source": [
    "print(w_fa[is_bgs_bright].min(), w_fa[is_bgs_bright].max())\n",
    "print(w_fa[is_bgs_faint].min(), w_fa[is_bgs_faint].max())"
   ]
  },
  {
   "cell_type": "code",
   "execution_count": 17,
   "id": "25789d1c-f233-4603-a499-71102ea799fe",
   "metadata": {},
   "outputs": [],
   "source": [
    "vagc['provabgs_w_fibassign'] = w_fa"
   ]
  },
  {
   "cell_type": "code",
   "execution_count": 18,
   "id": "651247bd-5fb3-4ba2-9df8-2fa7d2a45e28",
   "metadata": {},
   "outputs": [
    {
     "name": "stderr",
     "output_type": "stream",
     "text": [
      "/global/homes/c/chahah/.conda/envs/gqp/lib/python3.7/site-packages/astropy/io/misc/hdf5.py:283: UserWarning: table path was not set via the path= argument; using default path __astropy_table__\n",
      "  \"using default path {}\".format(path))\n"
     ]
    }
   ],
   "source": [
    "vagc.write(fvagc, overwrite=True)"
   ]
  },
  {
   "cell_type": "code",
   "execution_count": null,
   "id": "fa8daa5d-5108-4073-aa79-4161b182cc49",
   "metadata": {},
   "outputs": [],
   "source": []
  }
 ],
 "metadata": {
  "kernelspec": {
   "display_name": "gqp",
   "language": "python",
   "name": "gqp"
  },
  "language_info": {
   "codemirror_mode": {
    "name": "ipython",
    "version": 3
   },
   "file_extension": ".py",
   "mimetype": "text/x-python",
   "name": "python",
   "nbconvert_exporter": "python",
   "pygments_lexer": "ipython3",
   "version": "3.7.4"
  }
 },
 "nbformat": 4,
 "nbformat_minor": 5
}
