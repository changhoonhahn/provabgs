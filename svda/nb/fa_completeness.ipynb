{
 "cells": [
  {
   "cell_type": "code",
   "execution_count": 1,
   "id": "4ed296f9-fa03-4714-96a8-3006de7f51fd",
   "metadata": {},
   "outputs": [
    {
     "name": "stderr",
     "output_type": "stream",
     "text": [
      "\n",
      "Bad key text.latex.preview in file /global/homes/c/chahah/.conda/envs/gqp/lib/python3.7/site-packages/matplotlib/mpl-data/stylelib/_classic_test.mplstyle, line 123 ('text.latex.preview : False')\n",
      "You probably need to get an updated matplotlibrc file from\n",
      "https://github.com/matplotlib/matplotlib/blob/v3.5.1/matplotlibrc.template\n",
      "or from the matplotlib source distribution\n",
      "\n",
      "Bad key mathtext.fallback_to_cm in file /global/homes/c/chahah/.conda/envs/gqp/lib/python3.7/site-packages/matplotlib/mpl-data/stylelib/_classic_test.mplstyle, line 155 ('mathtext.fallback_to_cm : True  # When True, use symbols from the Computer Modern')\n",
      "You probably need to get an updated matplotlibrc file from\n",
      "https://github.com/matplotlib/matplotlib/blob/v3.5.1/matplotlibrc.template\n",
      "or from the matplotlib source distribution\n",
      "\n",
      "Bad key savefig.jpeg_quality in file /global/homes/c/chahah/.conda/envs/gqp/lib/python3.7/site-packages/matplotlib/mpl-data/stylelib/_classic_test.mplstyle, line 418 ('savefig.jpeg_quality: 95       # when a jpeg is saved, the default quality parameter.')\n",
      "You probably need to get an updated matplotlibrc file from\n",
      "https://github.com/matplotlib/matplotlib/blob/v3.5.1/matplotlibrc.template\n",
      "or from the matplotlib source distribution\n",
      "\n",
      "Bad key keymap.all_axes in file /global/homes/c/chahah/.conda/envs/gqp/lib/python3.7/site-packages/matplotlib/mpl-data/stylelib/_classic_test.mplstyle, line 466 ('keymap.all_axes : a                 # enable all axes')\n",
      "You probably need to get an updated matplotlibrc file from\n",
      "https://github.com/matplotlib/matplotlib/blob/v3.5.1/matplotlibrc.template\n",
      "or from the matplotlib source distribution\n",
      "\n",
      "Bad key animation.avconv_path in file /global/homes/c/chahah/.conda/envs/gqp/lib/python3.7/site-packages/matplotlib/mpl-data/stylelib/_classic_test.mplstyle, line 477 ('animation.avconv_path: avconv     # Path to avconv binary. Without full path')\n",
      "You probably need to get an updated matplotlibrc file from\n",
      "https://github.com/matplotlib/matplotlib/blob/v3.5.1/matplotlibrc.template\n",
      "or from the matplotlib source distribution\n",
      "\n",
      "Bad key animation.avconv_args in file /global/homes/c/chahah/.conda/envs/gqp/lib/python3.7/site-packages/matplotlib/mpl-data/stylelib/_classic_test.mplstyle, line 479 ('animation.avconv_args:            # Additional arguments to pass to avconv')\n",
      "You probably need to get an updated matplotlibrc file from\n",
      "https://github.com/matplotlib/matplotlib/blob/v3.5.1/matplotlibrc.template\n",
      "or from the matplotlib source distribution\n"
     ]
    }
   ],
   "source": [
    "import os\n",
    "import tqdm\n",
    "import fitsio\n",
    "import healpy\n",
    "import numpy as np\n",
    "from scipy.special import erf\n",
    "from astropy.table import table as aTable\n",
    "\n",
    "import desitarget.io\n",
    "from desitarget.sv3.sv3_targetmask import bgs_mask as sv3_bgs_mask"
   ]
  },
  {
   "cell_type": "code",
   "execution_count": 2,
   "id": "e81f5d1d-606d-4159-b3f1-caf440fce5b2",
   "metadata": {},
   "outputs": [],
   "source": [
    "os.sys.path.append(os.getcwd().replace('/nb', '/bin'))\n",
    "import svda as SVDA"
   ]
  },
  {
   "cell_type": "code",
   "execution_count": 3,
   "id": "bf3f9445-2ec1-48cc-8e49-06ba825a4fe1",
   "metadata": {},
   "outputs": [
    {
     "name": "stdout",
     "output_type": "stream",
     "text": [
      "233831 objects\n"
     ]
    }
   ],
   "source": [
    "ff = fitsio.read('/global/cfs/cdirs/desi/spectro/redux/fuji/zcatalog/ztile-sv3-bright-cumulative.fits')\n",
    "\n",
    "# select only BGS targets\n",
    "is_bgs = ((ff['COADD_FIBERSTATUS'] == 0) & \n",
    "          ((ff['SV3_BGS_TARGET'] & sv3_bgs_mask['BGS_BRIGHT']) != 0) & \n",
    "          (ff['SPECTYPE'] == 'GALAXY') & \n",
    "          (ff['Z'] > 0.) & (ff['Z'] < 0.6))\n",
    "ff = ff[is_bgs]\n",
    "print('%i objects' % ff.shape[0])"
   ]
  },
  {
   "cell_type": "code",
   "execution_count": 4,
   "id": "3414acae-be99-4359-8687-b6b8b257b29f",
   "metadata": {},
   "outputs": [],
   "source": [
    "photsys = ff['PHOTSYS'].astype(str)\n",
    "trans_g = SVDA.mwdust_transmission(ff['EBV'], 'g', photsys, match_legacy_surveys=False)\n",
    "trans_r = SVDA.mwdust_transmission(ff['EBV'], 'r', photsys, match_legacy_surveys=False)\n",
    "trans_z = SVDA.mwdust_transmission(ff['EBV'], 'z', photsys, match_legacy_surveys=False)\n",
    "\n",
    "flux_g = ff['FLUX_G'] / trans_g\n",
    "flux_r = ff['FLUX_R'] / trans_r\n",
    "flux_z = ff['FLUX_Z'] / trans_z\n",
    "fiberflux_r = ff['FIBERFLUX_R'] / trans_r\n",
    "\n",
    "gmag = 22.5 - 2.5 * np.log10(flux_g.clip(1e-7))\n",
    "rmag = 22.5 - 2.5 * np.log10(flux_r.clip(1e-7))\n",
    "zmag = 22.5 - 2.5 * np.log10(flux_z.clip(1e-7))\n",
    "\n",
    "rfib = 22.5 - 2.5 * np.log10(fiberflux_r.clip(1e-7))"
   ]
  },
  {
   "cell_type": "code",
   "execution_count": 5,
   "id": "28799a00-cc04-45d0-80ec-90e6a59478ed",
   "metadata": {},
   "outputs": [],
   "source": [
    "target_ids = ff['TARGETID']"
   ]
  },
  {
   "cell_type": "code",
   "execution_count": 6,
   "id": "30e7a09b-99a9-4d40-bc6b-81a2dbff86f2",
   "metadata": {},
   "outputs": [],
   "source": [
    "with open('/global/cfs/cdirs/desi/survey/catalogs/SV3/LSS/altmtl/SV3HPList.txt') as f: \n",
    "    hplist = [int(hp) for hp in f.readline().split(',')]"
   ]
  },
  {
   "cell_type": "code",
   "execution_count": null,
   "id": "0ab57322-0621-4019-a4bd-45e963c265e9",
   "metadata": {},
   "outputs": [
    {
     "name": "stderr",
     "output_type": "stream",
     "text": [
      "100%|██████████| 233831/233831 [05:58<00:00, 653.11it/s]\n",
      "100%|██████████| 233831/233831 [05:46<00:00, 673.93it/s]\n",
      " 46%|████▌     | 107274/233831 [02:55<03:25, 615.99it/s]IOPub message rate exceeded.\n",
      "The Jupyter server will temporarily stop sending output\n",
      "to the client in order to avoid crashing it.\n",
      "To change this limit, set the config variable\n",
      "`--ServerApp.iopub_msg_rate_limit`.\n",
      "\n",
      "Current values:\n",
      "ServerApp.iopub_msg_rate_limit=1000.0 (msgs/sec)\n",
      "ServerApp.rate_limit_window=3.0 (secs)\n",
      "\n",
      " 24%|██▎       | 55127/233831 [01:18<04:03, 734.13it/s]"
     ]
    }
   ],
   "source": [
    "nobs = np.zeros((len(target_ids), 128))\n",
    "for imtl in range(1):#28): \n",
    "    # compile mtls\n",
    "    mtls = []\n",
    "    for pix in hplist:\n",
    "        targs = desitarget.io.read_mtl_ledger(\n",
    "            os.path.join('/global/cfs/cdirs/desi/survey/catalogs/SV3/LSS/altmtl/DESI_EDA_SV3AltMTLs/', \n",
    "                         'Univ%s' % str(imtl).zfill(3), 'sv3', 'bright', 'sv3mtl-bright-hp-%i.ecsv' % pix), \n",
    "            unique=True, isodate=None, initial=False, leq=False)\n",
    "        mtls.append(targs)\n",
    "    mtls = np.concatenate(mtls)\n",
    "    mtls = mtls[mtls['NUMOBS'] > 0.5]\n",
    "    \n",
    "#     for i in tqdm.tqdm(range(len(target_ids))):                \n",
    "#         if np.sum(mtls['TARGETID'] == target_ids[i]): \n",
    "#             nobs[i,imtl] = 1"
   ]
  },
  {
   "cell_type": "code",
   "execution_count": null,
   "id": "6ba72921-6bff-40ca-9831-f77bb3e06968",
   "metadata": {},
   "outputs": [],
   "source": [
    "nobs_mtls = np.sum(nobs, axis=1)"
   ]
  },
  {
   "cell_type": "code",
   "execution_count": null,
   "id": "5fdbda7e-ac84-449d-9471-15b3da16f542",
   "metadata": {},
   "outputs": [],
   "source": [
    "# calculate the weights\n",
    "w_mtls = 129. / (nobs_mtls + 1)"
   ]
  }
 ],
 "metadata": {
  "kernelspec": {
   "display_name": "gqp",
   "language": "python",
   "name": "gqp"
  },
  "language_info": {
   "codemirror_mode": {
    "name": "ipython",
    "version": 3
   },
   "file_extension": ".py",
   "mimetype": "text/x-python",
   "name": "python",
   "nbconvert_exporter": "python",
   "pygments_lexer": "ipython3",
   "version": "3.7.4"
  }
 },
 "nbformat": 4,
 "nbformat_minor": 5
}
