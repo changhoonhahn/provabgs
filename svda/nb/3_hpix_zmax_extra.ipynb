{
 "cells": [
  {
   "cell_type": "markdown",
   "id": "c8259a70-3365-4502-a277-32846f1297e9",
   "metadata": {},
   "source": [
    "# calculate $z_{\\rm max}$, $\\log M_*$, and any additional values"
   ]
  },
  {
   "cell_type": "code",
   "execution_count": 1,
   "id": "5aa830df-e1ba-4583-8c63-64b5180e17db",
   "metadata": {},
   "outputs": [],
   "source": [
    "import os\n",
    "import h5py \n",
    "import glob\n",
    "import numpy as np\n",
    "from tqdm import tqdm"
   ]
  },
  {
   "cell_type": "code",
   "execution_count": 2,
   "id": "2ec63772-10be-4c15-a4f2-6309d06c10dc",
   "metadata": {},
   "outputs": [],
   "source": [
    "os.sys.path.append(os.getcwd().replace('/nb', '/bin'))\n",
    "import svda as SVDA"
   ]
  },
  {
   "cell_type": "code",
   "execution_count": 3,
   "id": "0d883142-c35d-406d-bdd9-4edf3aa56863",
   "metadata": {},
   "outputs": [],
   "source": [
    "from astropy import units as U\n",
    "from astropy.cosmology import Planck13\n",
    "from scipy.interpolate import interp1d"
   ]
  },
  {
   "cell_type": "code",
   "execution_count": 4,
   "id": "b0c329b3-40b4-49fc-8dfa-94218b0b38b6",
   "metadata": {},
   "outputs": [],
   "source": [
    "from provabgs import util as UT\n",
    "from provabgs import infer as Infer\n",
    "from provabgs import models as Models"
   ]
  },
  {
   "cell_type": "code",
   "execution_count": 5,
   "id": "13dc1a27-d5ed-40e8-880c-6a32e94e2d10",
   "metadata": {},
   "outputs": [],
   "source": [
    "from speclite import filters as specFilter"
   ]
  },
  {
   "cell_type": "code",
   "execution_count": 6,
   "id": "dc0ee759-99a7-4fca-87ee-e3cd8034d44e",
   "metadata": {
    "tags": []
   },
   "outputs": [
    {
     "name": "stderr",
     "output_type": "stream",
     "text": [
      "\n",
      "Bad key text.latex.preview in file /global/homes/c/chahah/.conda/envs/gqp/lib/python3.7/site-packages/matplotlib/mpl-data/stylelib/_classic_test.mplstyle, line 123 ('text.latex.preview : False')\n",
      "You probably need to get an updated matplotlibrc file from\n",
      "https://github.com/matplotlib/matplotlib/blob/v3.5.1/matplotlibrc.template\n",
      "or from the matplotlib source distribution\n",
      "\n",
      "Bad key mathtext.fallback_to_cm in file /global/homes/c/chahah/.conda/envs/gqp/lib/python3.7/site-packages/matplotlib/mpl-data/stylelib/_classic_test.mplstyle, line 155 ('mathtext.fallback_to_cm : True  # When True, use symbols from the Computer Modern')\n",
      "You probably need to get an updated matplotlibrc file from\n",
      "https://github.com/matplotlib/matplotlib/blob/v3.5.1/matplotlibrc.template\n",
      "or from the matplotlib source distribution\n",
      "\n",
      "Bad key savefig.jpeg_quality in file /global/homes/c/chahah/.conda/envs/gqp/lib/python3.7/site-packages/matplotlib/mpl-data/stylelib/_classic_test.mplstyle, line 418 ('savefig.jpeg_quality: 95       # when a jpeg is saved, the default quality parameter.')\n",
      "You probably need to get an updated matplotlibrc file from\n",
      "https://github.com/matplotlib/matplotlib/blob/v3.5.1/matplotlibrc.template\n",
      "or from the matplotlib source distribution\n",
      "\n",
      "Bad key keymap.all_axes in file /global/homes/c/chahah/.conda/envs/gqp/lib/python3.7/site-packages/matplotlib/mpl-data/stylelib/_classic_test.mplstyle, line 466 ('keymap.all_axes : a                 # enable all axes')\n",
      "You probably need to get an updated matplotlibrc file from\n",
      "https://github.com/matplotlib/matplotlib/blob/v3.5.1/matplotlibrc.template\n",
      "or from the matplotlib source distribution\n",
      "\n",
      "Bad key animation.avconv_path in file /global/homes/c/chahah/.conda/envs/gqp/lib/python3.7/site-packages/matplotlib/mpl-data/stylelib/_classic_test.mplstyle, line 477 ('animation.avconv_path: avconv     # Path to avconv binary. Without full path')\n",
      "You probably need to get an updated matplotlibrc file from\n",
      "https://github.com/matplotlib/matplotlib/blob/v3.5.1/matplotlibrc.template\n",
      "or from the matplotlib source distribution\n",
      "\n",
      "Bad key animation.avconv_args in file /global/homes/c/chahah/.conda/envs/gqp/lib/python3.7/site-packages/matplotlib/mpl-data/stylelib/_classic_test.mplstyle, line 479 ('animation.avconv_args:            # Additional arguments to pass to avconv')\n",
      "You probably need to get an updated matplotlibrc file from\n",
      "https://github.com/matplotlib/matplotlib/blob/v3.5.1/matplotlibrc.template\n",
      "or from the matplotlib source distribution\n"
     ]
    }
   ],
   "source": [
    "# -- plotting -- \n",
    "import matplotlib as mpl\n",
    "import matplotlib.pyplot as plt\n",
    "#mpl.rcParams['font.family'] = 'serif'\n",
    "mpl.rcParams['axes.linewidth'] = 1.5\n",
    "mpl.rcParams['axes.xmargin'] = 1\n",
    "mpl.rcParams['xtick.labelsize'] = 'x-large'\n",
    "mpl.rcParams['xtick.major.size'] = 5\n",
    "mpl.rcParams['xtick.major.width'] = 1.5\n",
    "mpl.rcParams['ytick.labelsize'] = 'x-large'\n",
    "mpl.rcParams['ytick.major.size'] = 5\n",
    "mpl.rcParams['ytick.major.width'] = 1.5\n",
    "mpl.rcParams['legend.frameon'] = False"
   ]
  },
  {
   "cell_type": "markdown",
   "id": "5653b722-d7bd-4faa-a5d1-fa8be38d1607",
   "metadata": {},
   "source": [
    "## read in posteriors for `provabgs` healpix runs and calculate $z_{\\rm max}$ for $\\theta_{\\rm bf}$"
   ]
  },
  {
   "cell_type": "code",
   "execution_count": 7,
   "id": "990384ae-ec97-4d3b-af4e-0b7df703e02e",
   "metadata": {},
   "outputs": [],
   "source": [
    "dat_dir = '/global/cfs/cdirs/desi/users/chahah/provabgs/svda/'"
   ]
  },
  {
   "cell_type": "code",
   "execution_count": 8,
   "id": "41d25f51-f973-4fa4-8856-e9bbdc926225",
   "metadata": {},
   "outputs": [],
   "source": [
    "r_pass = specFilter.load_filters('decam2014-r')\n",
    "\n",
    "def r_mag(w, f):\n",
    "    ''' calculate r-band magnitude given w, f\n",
    "    '''\n",
    "    flux_z, w_z = r_pass.pad_spectrum(np.atleast_2d(f) * 1e-17*U.erg/U.s/U.cm**2/U.Angstrom, w * U.Angstrom)\n",
    "    maggies = r_pass.get_ab_maggies(flux_z, wavelength=w_z)\n",
    "    return 22.5 - 2.5 * np.log10(maggies.as_array()[0][0] * 1e9)\n",
    "\n",
    "\n",
    "def bgs_faint_color_cut(hpix):\n",
    "    ''' if True:    rfib < 20.75\n",
    "        if False:   rfib < 21.5\n",
    "\n",
    "    also return r-band fiber fraction\n",
    "    '''\n",
    "    _x = SVDA.healpix(hpix, target='BGS_FAINT', redux='fuji', survey='sv3')\n",
    "    coadd = _x[0]\n",
    "\n",
    "    trans_g = SVDA.mwdust_transmission(coadd['EBV'], 'g',\n",
    "            np.array(coadd['PHOTSYS']).astype(str),\n",
    "            match_legacy_surveys=False)\n",
    "    trans_r = SVDA.mwdust_transmission(coadd['EBV'], 'r',\n",
    "            np.array(coadd['PHOTSYS']).astype(str),\n",
    "            match_legacy_surveys=False)\n",
    "    trans_z = SVDA.mwdust_transmission(coadd['EBV'], 'z',\n",
    "            np.array(coadd['PHOTSYS']).astype(str),\n",
    "            match_legacy_surveys=False)\n",
    "    trans_w = SVDA.mwdust_transmission(coadd['EBV'], 'w1',\n",
    "            np.array(coadd['PHOTSYS']).astype(str),\n",
    "            match_legacy_surveys=False)\n",
    "\n",
    "    g = 22.5 - 2.5*np.log10((coadd['FLUX_G'] / trans_g).clip(1e-16))\n",
    "    r = 22.5 - 2.5*np.log10((coadd['FLUX_R'] / trans_r).clip(1e-16))\n",
    "    z = 22.5 - 2.5*np.log10((coadd['FLUX_Z'] / trans_z).clip(1e-16))\n",
    "    w1 = 22.5 - 2.5*np.log10((coadd['FLUX_W1'] / trans_w).clip(1e-16))\n",
    "\n",
    "    schlegel_color = (z - w1) - 3/2.5 * (g - r) + 1.2\n",
    "\n",
    "    return schlegel_color < 0., coadd['FIBERFLUX_R']/coadd['FLUX_R']"
   ]
  },
  {
   "cell_type": "code",
   "execution_count": 9,
   "id": "4c5aec54-0a9d-4344-b179-d4c114671758",
   "metadata": {},
   "outputs": [
    {
     "name": "stdout",
     "output_type": "stream",
     "text": [
      "input parameters : logmstar, beta1_sfh, beta2_sfh, beta3_sfh, beta4_sfh, fburst, tburst, gamma1_zh, gamma2_zh, dust1, dust2, dust_index\n"
     ]
    },
    {
     "name": "stderr",
     "output_type": "stream",
     "text": [
      "/global/homes/c/chahah/.conda/envs/gqp/lib/python3.7/site-packages/torch/cuda/__init__.py:145: UserWarning: \n",
      "NVIDIA A100-PCIE-40GB with CUDA capability sm_80 is not compatible with the current PyTorch installation.\n",
      "The current PyTorch install supports CUDA capabilities sm_37 sm_50 sm_60 sm_61 sm_70 sm_75 compute_37.\n",
      "If you want to use the NVIDIA A100-PCIE-40GB GPU with PyTorch, please check the instructions at https://pytorch.org/get-started/locally/\n",
      "\n",
      "  warnings.warn(incompatible_device_warn.format(device_name, capability, \" \".join(arch_list), device_name))\n"
     ]
    }
   ],
   "source": [
    "m_nmf = Models.NMF(burst=True, emulator=True)\n",
    "m_nmf._load_emulator_msurv()"
   ]
  },
  {
   "cell_type": "markdown",
   "id": "19cb088d-b6a3-4129-9aea-c4eb8ebeec21",
   "metadata": {},
   "source": [
    "# BGS Bright"
   ]
  },
  {
   "cell_type": "code",
   "execution_count": 10,
   "id": "daa88594-a770-4c2d-be74-fa06152e2e47",
   "metadata": {
    "tags": []
   },
   "outputs": [
    {
     "name": "stdout",
     "output_type": "stream",
     "text": [
      "369 healpixels\n"
     ]
    }
   ],
   "source": [
    "hpixs = [int(f.split('-')[3].split('.')[0]) for f in glob.glob(os.path.join(dat_dir, 'provabgs-*.BGS_BRIGHT.hdf5'))]\n",
    "print('%i healpixels' % len(hpixs))"
   ]
  },
  {
   "cell_type": "code",
   "execution_count": 11,
   "id": "c2e85365-28b0-4289-826a-f256a0b670f7",
   "metadata": {},
   "outputs": [
    {
     "name": "stderr",
     "output_type": "stream",
     "text": [
      " 54%|█████▎    | 198/369 [1:18:22<1:21:18, 28.53s/it]"
     ]
    },
    {
     "name": "stdout",
     "output_type": "stream",
     "text": [
      "\n",
      "9932 is problematic\n",
      "\n"
     ]
    },
    {
     "name": "stderr",
     "output_type": "stream",
     "text": [
      "100%|██████████| 369/369 [2:19:02<00:00, 22.61s/it]  \n"
     ]
    }
   ],
   "source": [
    "for hpix in tqdm(hpixs): \n",
    "    #print(f'healpix {hpix}')\n",
    "    # read posteriors in healpix\n",
    "    with h5py.File(os.path.join(dat_dir, 'provabgs-sv3-bright-%i.BGS_BRIGHT.hdf5' % hpix), 'r') as fhpix: \n",
    "        #if 'zmax' in fpost.keys(): continue \n",
    "        if 'redshift' not in fhpix.keys(): \n",
    "            print()\n",
    "            print('%i is problematic' % hpix)\n",
    "            print()\n",
    "            continue\n",
    "        \n",
    "        zreds   = fhpix['redshift'][...]\n",
    "        if len(zreds) == 0: continue\n",
    "    \n",
    "        targids = fhpix['targetid'][...]\n",
    "        \n",
    "        _logp   = fhpix['log_prob'][...]\n",
    "        _logp   = _logp.reshape((_logp.shape[0], _logp.shape[1] * _logp.shape[2]))\n",
    "\n",
    "        _theta  = fhpix['samples'][...]\n",
    "        _theta  = _theta.reshape((_theta.shape[0], _theta.shape[1] * _theta.shape[2], _theta.shape[3]))\n",
    "\n",
    "        theta_bfs = np.array([tt[imax,:] for imax, tt in zip(np.argmax(_logp, axis=1), _theta)])\n",
    "    \n",
    "    # calculate z-max\n",
    "    ngal = len(zreds)\n",
    "    zmax = np.zeros(ngal)\n",
    "    for i in range(ngal): \n",
    "        zred, theta_bf = zreds[i], theta_bfs[i] \n",
    "        \n",
    "        z_arr = np.linspace(zred, 0.6, 10)\n",
    "        dlz = Planck13.luminosity_distance(z_arr).to(U.cm).value\n",
    "        \n",
    "        # get best-fit SED \n",
    "        w, f = m_nmf.sed(theta_bf[:-1], zred)\n",
    "        \n",
    "        w_z = w / (1. + zred) * (1 + z_arr[:,None])\n",
    "        f_z = f * ((dlz[0]**2 / dlz**2) * (1 + zred)/(1 + z_arr))[:,None]\n",
    "        \n",
    "        r_arr = np.array([r_mag(_w, _f) for _w, _f in zip(w_z, f_z)])\n",
    "\n",
    "        if np.min(r_arr) > 19.5:\n",
    "            zmax[i] = zred\n",
    "        elif np.max(r_arr) < 19.5:\n",
    "            zmax[i] = 0.6\n",
    "        else:\n",
    "            fint_rz = interp1d(r_arr, z_arr, kind='cubic')\n",
    "            zmax[i] = fint_rz(19.5)\n",
    "\n",
    "    # calculate M* (surviving stellar mass)\n",
    "    tages = Planck13.age(zreds).value\n",
    "    logmstar_bf = np.log10(m_nmf._surviving_mass(theta_bfs[:,:12], tages, emulator=True))\n",
    "\n",
    "    logmstar = []\n",
    "    for i in range(ngal):\n",
    "        logmstar.append(np.log10(m_nmf._surviving_mass(_theta[i,:,:-1], tages[i], emulator=True)))\n",
    "    logmstar = np.array(logmstar) \n",
    "    \n",
    "    # append \n",
    "    with h5py.File(os.path.join(dat_dir, f'provabgs-sv3-bright-{hpix}.BGS_BRIGHT.hdf5'), 'r+') as fhpix:\n",
    "        if 'zmax' in fhpix.keys():\n",
    "            fhpix['zmax'][...] = zmax\n",
    "        else:\n",
    "            fhpix.create_dataset('zmax', data=zmax)\n",
    "\n",
    "        if 'logMstar' in fhpix.keys():\n",
    "            fhpix['logMstar'][...] = logmstar\n",
    "        else:\n",
    "            fhpix.create_dataset('logMstar', data=logmstar)\n",
    "\n",
    "        if 'theta_bf' in fhpix.keys():\n",
    "            fhpix['theta_bf'][...] = theta_bfs\n",
    "        else:\n",
    "            fhpix.create_dataset('theta_bf', data=theta_bfs)\n",
    "\n",
    "        if 'logMstar_bf' in fhpix.keys():\n",
    "            fhpix['logMstar_bf'][...] = logmstar_bf\n",
    "        else:\n",
    "            fhpix.create_dataset('logMstar_bf', data=logmstar_bf)"
   ]
  },
  {
   "cell_type": "markdown",
   "id": "eca2342c-ca0f-4190-8d75-cdbbe55c7dbb",
   "metadata": {},
   "source": [
    "# BGS Faint"
   ]
  },
  {
   "cell_type": "code",
   "execution_count": 10,
   "id": "8bb7c6fd-71eb-4988-b837-0cdf1a701e86",
   "metadata": {},
   "outputs": [
    {
     "name": "stdout",
     "output_type": "stream",
     "text": [
      "360 healpixels\n"
     ]
    }
   ],
   "source": [
    "hpixs = [int(f.split('-')[3].split('.')[0]) for f in glob.glob(os.path.join(dat_dir, 'provabgs-*.BGS_FAINT.hdf5'))]\n",
    "print('%i healpixels' % len(hpixs))"
   ]
  },
  {
   "cell_type": "code",
   "execution_count": 11,
   "id": "3adb7084-959a-42cf-a158-feed27019788",
   "metadata": {},
   "outputs": [
    {
     "name": "stderr",
     "output_type": "stream",
     "text": [
      "  0%|          | 0/360 [00:00<?, ?it/s]/global/homes/c/chahah/.conda/envs/gqp/lib/python3.7/site-packages/ipykernel_launcher.py:45: DeprecationWarning: In future, it will be an error for 'np.bool_' scalars to be interpreted as an index\n",
      "100%|██████████| 360/360 [1:42:26<00:00, 17.07s/it]\n"
     ]
    }
   ],
   "source": [
    "for hpix in tqdm(hpixs): \n",
    "    # read posteriors in healpix\n",
    "    with h5py.File(os.path.join(dat_dir, 'provabgs-sv3-bright-%i.BGS_FAINT.hdf5' % hpix), 'r') as fhpix: \n",
    "        #if 'zmax' in fpost.keys(): continue \n",
    "        if 'redshift' not in fhpix.keys(): \n",
    "            print()\n",
    "            print('%i is problematic' % hpix)\n",
    "            print()\n",
    "            continue\n",
    "        \n",
    "        zreds   = fhpix['redshift'][...]\n",
    "        if len(zreds) == 0: continue\n",
    "    \n",
    "        targids = fhpix['targetid'][...]\n",
    "        \n",
    "        _logp   = fhpix['log_prob'][...]\n",
    "        _logp   = _logp.reshape((_logp.shape[0], _logp.shape[1] * _logp.shape[2]))\n",
    "\n",
    "        _theta  = fhpix['samples'][...]\n",
    "        _theta  = _theta.reshape((_theta.shape[0], _theta.shape[1] * _theta.shape[2], _theta.shape[3]))\n",
    "\n",
    "        theta_bfs = np.array([tt[imax,:] for imax, tt in zip(np.argmax(_logp, axis=1), _theta)])\n",
    "\n",
    "    # BGS Faint color cut and fiber aperture fraction\n",
    "    faint_color_cut, f_fiber = bgs_faint_color_cut(hpix)\n",
    "    \n",
    "    # calculate z-max\n",
    "    ngal = len(zreds)\n",
    "    zmax = np.zeros(ngal)\n",
    "    for i in range(ngal): \n",
    "        zred, theta_bf = zreds[i], theta_bfs[i] \n",
    "        \n",
    "        z_arr = np.linspace(zred, 0.6, 10)\n",
    "        dlz = Planck13.luminosity_distance(z_arr).to(U.cm).value\n",
    "        \n",
    "        # get best-fit SED \n",
    "        w, f = m_nmf.sed(theta_bf[:-1], zred)\n",
    "        \n",
    "        w_z = w / (1. + zred) * (1 + z_arr[:,None])\n",
    "        f_z = f * ((dlz[0]**2 / dlz**2) * (1 + zred)/(1 + z_arr))[:,None]\n",
    "        \n",
    "        r_arr = np.array([r_mag(_w, _f) for _w, _f in zip(w_z, f_z)])\n",
    "        \n",
    "        r_fib = r_arr - 2.5 * np.log10(f_fiber[i])\n",
    "        r_fib_cut = [21.5, 20.75][faint_color_cut[i]]\n",
    "\n",
    "        if np.min(r_fib) > r_fib_cut:\n",
    "            zmax[i] = zred\n",
    "        elif np.max(r_fib) < r_fib_cut:\n",
    "            zmax[i] = 0.6\n",
    "        else:\n",
    "            fint_rz = interp1d(r_fib, z_arr, kind='cubic')\n",
    "            zmax[i] = fint_rz(r_fib_cut)\n",
    "\n",
    "    # calculate M* (surviving stellar mass)\n",
    "    tages = Planck13.age(zreds).value\n",
    "    logmstar_bf = np.log10(m_nmf._surviving_mass(theta_bfs[:,:12], tages, emulator=True))\n",
    "\n",
    "    logmstar = []\n",
    "    for i in range(ngal):\n",
    "        logmstar.append(np.log10(m_nmf._surviving_mass(_theta[i,:,:-1], tages[i], emulator=True)))\n",
    "    logmstar = np.array(logmstar) \n",
    "    \n",
    "    # append \n",
    "    with h5py.File(os.path.join(dat_dir, f'provabgs-sv3-bright-{hpix}.BGS_FAINT.hdf5'), 'r+') as fhpix:\n",
    "        if 'zmax' in fhpix.keys():\n",
    "            fhpix['zmax'][...] = zmax\n",
    "        else:\n",
    "            fhpix.create_dataset('zmax', data=zmax)\n",
    "\n",
    "        if 'logMstar' in fhpix.keys():\n",
    "            fhpix['logMstar'][...] = logmstar\n",
    "        else:\n",
    "            fhpix.create_dataset('logMstar', data=logmstar)\n",
    "\n",
    "        if 'theta_bf' in fhpix.keys():\n",
    "            fhpix['theta_bf'][...] = theta_bfs\n",
    "        else:\n",
    "            fhpix.create_dataset('theta_bf', data=theta_bfs)\n",
    "\n",
    "        if 'logMstar_bf' in fhpix.keys():\n",
    "            fhpix['logMstar_bf'][...] = logmstar_bf\n",
    "        else:\n",
    "            fhpix.create_dataset('logMstar_bf', data=logmstar_bf)"
   ]
  },
  {
   "cell_type": "code",
   "execution_count": null,
   "id": "43800f85-3ce7-4723-a115-cd90dd8106e6",
   "metadata": {},
   "outputs": [],
   "source": []
  }
 ],
 "metadata": {
  "kernelspec": {
   "display_name": "gqp",
   "language": "python",
   "name": "gqp"
  },
  "language_info": {
   "codemirror_mode": {
    "name": "ipython",
    "version": 3
   },
   "file_extension": ".py",
   "mimetype": "text/x-python",
   "name": "python",
   "nbconvert_exporter": "python",
   "pygments_lexer": "ipython3",
   "version": "3.7.4"
  }
 },
 "nbformat": 4,
 "nbformat_minor": 5
}
