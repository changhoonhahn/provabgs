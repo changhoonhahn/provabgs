{
 "cells": [
  {
   "cell_type": "markdown",
   "id": "392d5014-b1d5-4df7-809c-e6330bd82e1f",
   "metadata": {},
   "source": [
    "# Targeting Completeness"
   ]
  },
  {
   "cell_type": "code",
   "execution_count": 1,
   "id": "93070584-a658-46f1-b60f-41e48cd40b2d",
   "metadata": {},
   "outputs": [],
   "source": [
    "import os\n",
    "import numpy as np"
   ]
  },
  {
   "cell_type": "code",
   "execution_count": 2,
   "id": "f35e1e2b-55d2-44a8-ae39-cca0e1578103",
   "metadata": {},
   "outputs": [],
   "source": [
    "import astropy.table as aTable"
   ]
  },
  {
   "cell_type": "code",
   "execution_count": 3,
   "id": "9766558d-999c-48d6-be98-a84d90dc030b",
   "metadata": {},
   "outputs": [],
   "source": [
    "#dir_dat = '/global/cfs/cdirs/desi/survey/catalogs/SV3/LSS/fuji/LSScats/3.1/'\n",
    "dir_dat = '/global/cfs/cdirs/desi/survey/catalogs/SV3/LSS/fuji/LSScats/EDAbeta/'"
   ]
  },
  {
   "cell_type": "markdown",
   "id": "c90080a3-6d5b-40ee-9793-2c384b8345a6",
   "metadata": {},
   "source": [
    "details in https://desi.lbl.gov/trac/wiki/ClusteringWG/LSScat/SV3/current_version"
   ]
  },
  {
   "cell_type": "code",
   "execution_count": 8,
   "id": "a2e958d8-468f-476c-b457-e04c77626c60",
   "metadata": {},
   "outputs": [],
   "source": [
    "bgs_n = aTable.Table.read(os.path.join(dir_dat, 'BGS_BRIGHT_N_clustering.dat.fits'))\n",
    "bgs_s = aTable.Table.read(os.path.join(dir_dat, 'BGS_BRIGHT_S_clustering.dat.fits'))"
   ]
  },
  {
   "cell_type": "code",
   "execution_count": 5,
   "id": "b33b5691-3430-4c77-9078-16c402a499dc",
   "metadata": {},
   "outputs": [
    {
     "data": {
      "text/html": [
       "<i>Table length=5</i>\n",
       "<table id=\"table140310226430352\" class=\"table-striped table-bordered table-condensed\">\n",
       "<thead><tr><th>RA</th><th>DEC</th><th>TARGETID</th><th>NTILE</th><th>TILES</th><th>Z</th><th>COMP_TILE</th><th>rosette_number</th><th>rosette_r</th><th>FRACZ_TILELOCID</th><th>BITWEIGHTS [2]</th><th>PROB_OBS</th><th>WEIGHT_ZFAIL</th><th>WEIGHT</th><th>flux_g_dered</th><th>flux_r_dered</th><th>flux_z_dered</th><th>flux_w1_dered</th><th>flux_w2_dered</th><th>NZ</th><th>WEIGHT_FKP</th></tr></thead>\n",
       "<thead><tr><th>float64</th><th>float64</th><th>int64</th><th>int64</th><th>bytes43</th><th>float64</th><th>float64</th><th>float64</th><th>float64</th><th>float64</th><th>int64</th><th>float64</th><th>float64</th><th>float64</th><th>float32</th><th>float32</th><th>float32</th><th>float32</th><th>float32</th><th>float64</th><th>float64</th></tr></thead>\n",
       "<tr><td>191.20458196461243</td><td>60.31535787110577</td><td>39633390185481345</td><td>1</td><td>100</td><td>0.08969256109731599</td><td>0.64</td><td>3.0</td><td>1.613220114177946</td><td>1.0</td><td>-1 .. -1</td><td>1.0</td><td>1.0</td><td>1.0</td><td>11.618794</td><td>18.39226</td><td>20.892622</td><td>13.421043</td><td>9.27371</td><td>0.04778151135868713</td><td>0.0030821516772042766</td></tr>\n",
       "<tr><td>187.04622815471808</td><td>60.82670180284912</td><td>39633396124617897</td><td>1</td><td>100</td><td>0.37400455377945924</td><td>0.64</td><td>3.0</td><td>1.6801915534232357</td><td>1.0</td><td>-1 .. -1</td><td>1.0</td><td>1.0</td><td>1.0</td><td>4.046807</td><td>16.82531</td><td>38.79777</td><td>85.02852</td><td>54.11833</td><td>0.0009577827729000268</td><td>0.133626516949366</td></tr>\n",
       "<tr><td>187.83760708675698</td><td>60.38987543677365</td><td>39633393155049303</td><td>1</td><td>100</td><td>0.1731108191825362</td><td>0.64</td><td>3.0</td><td>1.7267282368438097</td><td>0.5</td><td>6932875859169517021 .. -6858338461939850770</td><td>0.4609375</td><td>1.0</td><td>2.15</td><td>13.26433</td><td>27.728409</td><td>46.020153</td><td>37.03337</td><td>25.867756</td><td>0.01270745015908088</td><td>0.01149149450827468</td></tr>\n",
       "<tr><td>187.05117249536465</td><td>62.614542270156655</td><td>39633416324383107</td><td>1</td><td>100</td><td>0.2703579310142208</td><td>0.64</td><td>3.0</td><td>1.5579854421783794</td><td>1.0</td><td>-1 .. -1</td><td>1.0</td><td>1.0</td><td>1.0</td><td>4.4575434</td><td>17.798513</td><td>37.420948</td><td>46.075268</td><td>30.963612</td><td>0.004051015958871262</td><td>0.035183206585599834</td></tr>\n",
       "<tr><td>191.14757099005186</td><td>60.345815959235</td><td>39633390185480938</td><td>1</td><td>100</td><td>0.2819459922463374</td><td>0.64</td><td>3.0</td><td>1.5743490921284766</td><td>0.5</td><td>4864741233190265570 .. 434972757299228716</td><td>0.359375</td><td>1.0</td><td>2.74468085106383</td><td>6.782468</td><td>16.732075</td><td>29.996437</td><td>31.939342</td><td>25.343126</td><td>0.004051015958871262</td><td>0.035183206585599834</td></tr>\n",
       "</table>"
      ],
      "text/plain": [
       "<Table length=5>\n",
       "        RA                DEC         ...       WEIGHT_FKP     \n",
       "     float64            float64       ...        float64       \n",
       "------------------ ------------------ ... ---------------------\n",
       "191.20458196461243  60.31535787110577 ... 0.0030821516772042766\n",
       "187.04622815471808  60.82670180284912 ...     0.133626516949366\n",
       "187.83760708675698  60.38987543677365 ...   0.01149149450827468\n",
       "187.05117249536465 62.614542270156655 ...  0.035183206585599834\n",
       "191.14757099005186    60.345815959235 ...  0.035183206585599834"
      ]
     },
     "execution_count": 5,
     "metadata": {},
     "output_type": "execute_result"
    }
   ],
   "source": [
    "bgs_n[:5]"
   ]
  },
  {
   "cell_type": "code",
   "execution_count": 9,
   "id": "8e15c26c-e90a-47ae-95fc-cd38e9f8440f",
   "metadata": {},
   "outputs": [
    {
     "data": {
      "text/plain": [
       "143853"
      ]
     },
     "execution_count": 9,
     "metadata": {},
     "output_type": "execute_result"
    }
   ],
   "source": [
    "len(bgs_n) + len(bgs_s)"
   ]
  },
  {
   "cell_type": "markdown",
   "id": "e64fd7d9-4a7f-4084-81f4-1de7ea7336f4",
   "metadata": {},
   "source": [
    "spectroscopic completeness can be estimated using `WEIGHT_ZFAIL` and `PROB_OBS`"
   ]
  },
  {
   "cell_type": "code",
   "execution_count": 10,
   "id": "156b77a5-76e2-448d-8f9d-3559209b9bdf",
   "metadata": {},
   "outputs": [],
   "source": [
    "bgs_full = aTable.Table.read(os.path.join(dir_dat, 'BGS_BRIGHT_full.dat.fits'))"
   ]
  },
  {
   "cell_type": "code",
   "execution_count": 12,
   "id": "d6ba7ec9-5b1f-42f4-8cea-ae0e6e012785",
   "metadata": {},
   "outputs": [
    {
     "data": {
      "text/plain": [
       "154414"
      ]
     },
     "execution_count": 12,
     "metadata": {},
     "output_type": "execute_result"
    }
   ],
   "source": [
    "len(bgs_full)"
   ]
  },
  {
   "cell_type": "code",
   "execution_count": 11,
   "id": "c82d39cc-838f-4a15-8fe1-41082d16ed4d",
   "metadata": {},
   "outputs": [
    {
     "data": {
      "text/html": [
       "<i>Table length=5</i>\n",
       "<table id=\"table140310213219920\" class=\"table-striped table-bordered table-condensed\">\n",
       "<thead><tr><th>RA</th><th>DEC</th><th>REF_EPOCH</th><th>PARALLAX</th><th>PMRA</th><th>PMDEC</th><th>TARGETID</th><th>OBSCONDITIONS</th><th>PRIORITY_INIT</th><th>NUMOBS_INIT</th><th>NUMOBS_MORE</th><th>NUMOBS</th><th>ZWARN_MTL</th><th>ZTILEID</th><th>TARGET_STATE</th><th>TIMESTAMP</th><th>VERSION</th><th>PRIORITY</th><th>LOCATION</th><th>TILEID</th><th>TILELOCID</th><th>Z_not4clus</th><th>ZERR</th><th>ZWARN</th><th>CHI2</th><th>COEFF [10]</th><th>NPIXELS</th><th>SPECTYPE</th><th>SUBTYPE</th><th>NCOEFF</th><th>DELTACHI2</th><th>FIBER</th><th>COADD_FIBERSTATUS</th><th>FIBERASSIGN_X</th><th>FIBERASSIGN_Y</th><th>COADD_NUMEXP</th><th>COADD_EXPTIME</th><th>COADD_NUMNIGHT</th><th>MEAN_DELTA_X</th><th>RMS_DELTA_X</th><th>MEAN_DELTA_Y</th><th>RMS_DELTA_Y</th><th>MEAN_PSF_TO_FIBER_SPECFLUX</th><th>TSNR2_ELG_B</th><th>TSNR2_LYA_B</th><th>TSNR2_BGS_B</th><th>TSNR2_QSO_B</th><th>TSNR2_LRG_B</th><th>TSNR2_ELG_R</th><th>TSNR2_LYA_R</th><th>TSNR2_BGS_R</th><th>TSNR2_QSO_R</th><th>TSNR2_LRG_R</th><th>TSNR2_ELG_Z</th><th>TSNR2_LYA_Z</th><th>TSNR2_BGS_Z</th><th>TSNR2_QSO_Z</th><th>TSNR2_LRG_Z</th><th>TSNR2_ELG</th><th>TSNR2_LYA</th><th>TSNR2_BGS</th><th>TSNR2_QSO</th><th>TSNR2_LRG</th><th>SV3_DESI_TARGET</th><th>SV3_BGS_TARGET</th><th>SV3_MWS_TARGET</th><th>GOODHARDLOC</th><th>RELEASE</th><th>BRICKID</th><th>BRICKNAME</th><th>BRICK_OBJID</th><th>MORPHTYPE</th><th>EBV</th><th>FLUX_G</th><th>FLUX_R</th><th>FLUX_Z</th><th>FLUX_IVAR_G</th><th>FLUX_IVAR_R</th><th>FLUX_IVAR_Z</th><th>MW_TRANSMISSION_G</th><th>MW_TRANSMISSION_R</th><th>MW_TRANSMISSION_Z</th><th>FRACFLUX_G</th><th>FRACFLUX_R</th><th>FRACFLUX_Z</th><th>FRACMASKED_G</th><th>FRACMASKED_R</th><th>FRACMASKED_Z</th><th>FRACIN_G</th><th>FRACIN_R</th><th>FRACIN_Z</th><th>NOBS_G</th><th>NOBS_R</th><th>NOBS_Z</th><th>PSFDEPTH_G</th><th>PSFDEPTH_R</th><th>PSFDEPTH_Z</th><th>GALDEPTH_G</th><th>GALDEPTH_R</th><th>GALDEPTH_Z</th><th>FLUX_W1</th><th>FLUX_W2</th><th>FLUX_IVAR_W1</th><th>FLUX_IVAR_W2</th><th>MW_TRANSMISSION_W1</th><th>MW_TRANSMISSION_W2</th><th>ALLMASK_G</th><th>ALLMASK_R</th><th>ALLMASK_Z</th><th>FIBERFLUX_G</th><th>FIBERFLUX_R</th><th>FIBERFLUX_Z</th><th>FIBERTOTFLUX_G</th><th>FIBERTOTFLUX_R</th><th>FIBERTOTFLUX_Z</th><th>WISEMASK_W1</th><th>WISEMASK_W2</th><th>MASKBITS</th><th>SHAPE_R</th><th>PHOTSYS</th><th>NTILE</th><th>TILES</th><th>TILELOCIDS</th><th>LOCATION_ASSIGNED</th><th>TILELOCID_ASSIGNED</th><th>GOODTSNR</th><th>sort</th><th>Z_HP</th><th>DELTACHI2_HP</th><th>TSNR2_ELG_HP</th><th>TSNR2_BGS_HP</th><th>TSNR2_QSO_HP</th><th>TSNR2_LRG_HP</th><th>COMP_TILE</th><th>rosette_number</th><th>rosette_r</th><th>FRACZ_TILELOCID</th><th>BITWEIGHTS [2]</th><th>PROB_OBS</th></tr></thead>\n",
       "<thead><tr><th>float64</th><th>float64</th><th>float32</th><th>float32</th><th>float32</th><th>float32</th><th>int64</th><th>int32</th><th>int64</th><th>int64</th><th>int64</th><th>int64</th><th>int64</th><th>int32</th><th>bytes30</th><th>bytes25</th><th>bytes14</th><th>int64</th><th>int64</th><th>int64</th><th>int64</th><th>float64</th><th>float64</th><th>int64</th><th>float64</th><th>float64</th><th>int64</th><th>bytes6</th><th>bytes20</th><th>int64</th><th>float64</th><th>int32</th><th>int32</th><th>float32</th><th>float32</th><th>int16</th><th>float32</th><th>int16</th><th>float32</th><th>float32</th><th>float32</th><th>float32</th><th>float32</th><th>float32</th><th>float32</th><th>float32</th><th>float32</th><th>float32</th><th>float32</th><th>float32</th><th>float32</th><th>float32</th><th>float32</th><th>float32</th><th>float32</th><th>float32</th><th>float32</th><th>float32</th><th>float32</th><th>float32</th><th>float32</th><th>float32</th><th>float32</th><th>int64</th><th>int64</th><th>int64</th><th>bool</th><th>int16</th><th>int32</th><th>bytes8</th><th>int32</th><th>bytes4</th><th>float32</th><th>float32</th><th>float32</th><th>float32</th><th>float32</th><th>float32</th><th>float32</th><th>float32</th><th>float32</th><th>float32</th><th>float32</th><th>float32</th><th>float32</th><th>float32</th><th>float32</th><th>float32</th><th>float32</th><th>float32</th><th>float32</th><th>int16</th><th>int16</th><th>int16</th><th>float32</th><th>float32</th><th>float32</th><th>float32</th><th>float32</th><th>float32</th><th>float32</th><th>float32</th><th>float32</th><th>float32</th><th>float32</th><th>float32</th><th>int16</th><th>int16</th><th>int16</th><th>float32</th><th>float32</th><th>float32</th><th>float32</th><th>float32</th><th>float32</th><th>uint8</th><th>uint8</th><th>int16</th><th>float32</th><th>bytes1</th><th>int64</th><th>bytes43</th><th>bytes143</th><th>bool</th><th>int64</th><th>bool</th><th>float64</th><th>float64</th><th>float64</th><th>float32</th><th>float32</th><th>float32</th><th>float32</th><th>float64</th><th>float64</th><th>float64</th><th>float64</th><th>int64</th><th>float64</th></tr></thead>\n",
       "<tr><td>191.20458196461243</td><td>60.31535787110577</td><td>0.0</td><td>0.0</td><td>0.0</td><td>0.0</td><td>39633390185481345</td><td>575</td><td>102100</td><td>9</td><td>9</td><td>0</td><td>-1</td><td>-1</td><td>BGS|UNOBS</td><td>2021-04-04T23:06:17</td><td>0.57.0</td><td>102100</td><td>9511</td><td>100</td><td>1009511</td><td>0.08969256109731599</td><td>1.694914776917946e-05</td><td>0</td><td>7573.21368714422</td><td>18.156835724630927 .. -15.286998237181788</td><td>7925</td><td>GALAXY</td><td></td><td>10</td><td>78.02514473348856</td><td>4912</td><td>0</td><td>-177.59592</td><td>-345.90015</td><td>2</td><td>643.5187</td><td>2</td><td>0.005</td><td>0.0050990195</td><td>-0.0025</td><td>0.0043011624</td><td>0.7227019</td><td>0.016310444</td><td>13.306502</td><td>92.62018</td><td>0.43504763</td><td>0.15275882</td><td>4.049083</td><td>0.008432235</td><td>384.38522</td><td>1.1853977</td><td>5.7420564</td><td>18.28601</td><td>0.0</td><td>832.81836</td><td>3.7066185</td><td>8.22995</td><td>22.351404</td><td>13.314935</td><td>1309.8237</td><td>5.327064</td><td>14.124765</td><td>5764607523034234880</td><td>514</td><td>0</td><td>True</td><td>9011</td><td>618237</td><td>1912p602</td><td>1153</td><td>REX</td><td>0.012743746</td><td>11.18865</td><td>17.930773</td><td>20.597754</td><td>50.198456</td><td>13.571325</td><td>4.4984984</td><td>0.9629786</td><td>0.97490865</td><td>0.9858865</td><td>0.05103353</td><td>0.051650923</td><td>0.13838169</td><td>0.040950883</td><td>0.040124338</td><td>0.03398167</td><td>0.9769962</td><td>0.97842836</td><td>0.7553478</td><td>3</td><td>3</td><td>2</td><td>684.4334</td><td>248.80429</td><td>72.8384</td><td>491.02347</td><td>159.83447</td><td>44.763397</td><td>13.39209</td><td>9.261418</td><td>2.4734669</td><td>0.7246807</td><td>0.99784267</td><td>0.9986746</td><td>0</td><td>0</td><td>0</td><td>0.71276736</td><td>1.1422709</td><td>1.3121697</td><td>0.71336496</td><td>1.1433538</td><td>1.314832</td><td>0</td><td>0</td><td>0</td><td>2.9145315</td><td>N</td><td>1</td><td>100</td><td>1009511</td><td>True</td><td>1</td><td>True</td><td>203.0</td><td>0.08969256109731599</td><td>78.02514473348856</td><td>22.351404</td><td>1309.8237</td><td>5.327064</td><td>14.124765</td><td>0.64</td><td>3.0</td><td>1.613220114177946</td><td>1.0</td><td>-1 .. -1</td><td>1.0</td></tr>\n",
       "<tr><td>187.04622815471808</td><td>60.82670180284912</td><td>0.0</td><td>0.0</td><td>0.0</td><td>0.0</td><td>39633396124617897</td><td>517</td><td>102100</td><td>9</td><td>9</td><td>0</td><td>-1</td><td>-1</td><td>BGS|UNOBS</td><td>2021-04-04T23:06:17</td><td>0.57.0</td><td>102100</td><td>2441</td><td>100</td><td>1002441</td><td>0.37400455377945924</td><td>7.204306804440984e-05</td><td>0</td><td>7671.492557905614</td><td>348.1289104286599 .. 2.087021204351011</td><td>7925</td><td>GALAXY</td><td></td><td>10</td><td>162.88246984034777</td><td>1387</td><td>0</td><td>338.24326</td><td>-212.31467</td><td>2</td><td>643.5187</td><td>2</td><td>0.002</td><td>0.002236068</td><td>0.001</td><td>0.001</td><td>0.72455806</td><td>0.015455837</td><td>11.039621</td><td>92.38718</td><td>0.40598807</td><td>0.16497718</td><td>3.7452197</td><td>0.0026409996</td><td>217.95023</td><td>0.90282995</td><td>4.789901</td><td>17.751469</td><td>0.0</td><td>919.78107</td><td>3.8099039</td><td>8.790004</td><td>21.512144</td><td>11.042262</td><td>1230.1184</td><td>5.118722</td><td>13.744882</td><td>1152921504606855433</td><td>514</td><td>0</td><td>True</td><td>9011</td><td>619653</td><td>1868p607</td><td>3241</td><td>DEV</td><td>0.014121749</td><td>3.8811245</td><td>16.35813</td><td>38.191456</td><td>131.95425</td><td>44.535576</td><td>9.74246</td><td>0.95905846</td><td>0.9722335</td><td>0.9843724</td><td>0.043453116</td><td>0.02114597</td><td>0.00816696</td><td>0.046639826</td><td>0.045814257</td><td>0.049294908</td><td>0.94575584</td><td>0.9499893</td><td>0.95149165</td><td>3</td><td>3</td><td>2</td><td>626.2146</td><td>288.32507</td><td>66.08709</td><td>456.24246</td><td>187.26218</td><td>38.09344</td><td>84.82527</td><td>54.038845</td><td>1.9949503</td><td>0.68099886</td><td>0.9976096</td><td>0.99853134</td><td>0</td><td>0</td><td>0</td><td>0.9877869</td><td>4.1633153</td><td>9.720126</td><td>0.9881274</td><td>4.164053</td><td>9.720526</td><td>0</td><td>0</td><td>0</td><td>2.352693</td><td>N</td><td>1</td><td>100</td><td>1002441</td><td>True</td><td>1</td><td>True</td><td>203.0</td><td>0.37400455377945924</td><td>162.88246984034777</td><td>21.512144</td><td>1230.1184</td><td>5.118722</td><td>13.744882</td><td>0.64</td><td>3.0</td><td>1.6801915534232357</td><td>1.0</td><td>-1 .. -1</td><td>1.0</td></tr>\n",
       "<tr><td>187.8512261193913</td><td>60.382096424983686</td><td>2015.5</td><td>0.0</td><td>0.0</td><td>0.0</td><td>39633393155049428</td><td>516</td><td>102100</td><td>9</td><td>9</td><td>0</td><td>-1</td><td>-1</td><td>BGS|UNOBS</td><td>2021-04-04T23:06:17</td><td>0.57.0</td><td>102100</td><td>1519</td><td>100</td><td>1001519</td><td>999999.0</td><td>nan</td><td>999999</td><td>nan</td><td>nan .. nan</td><td>999999</td><td></td><td></td><td>999999</td><td>nan</td><td>999999</td><td>999999</td><td>nan</td><td>nan</td><td>16959</td><td>nan</td><td>16959</td><td>nan</td><td>nan</td><td>nan</td><td>nan</td><td>nan</td><td>nan</td><td>nan</td><td>nan</td><td>nan</td><td>nan</td><td>nan</td><td>nan</td><td>nan</td><td>nan</td><td>nan</td><td>nan</td><td>nan</td><td>nan</td><td>nan</td><td>nan</td><td>nan</td><td>nan</td><td>0.0</td><td>nan</td><td>nan</td><td>1152921504606846976</td><td>514</td><td>0</td><td>True</td><td>9011</td><td>618945</td><td>1878p605</td><td>2004</td><td>DEV</td><td>0.012421006</td><td>25.750013</td><td>71.518776</td><td>134.52454</td><td>78.57697</td><td>22.05545</td><td>8.411604</td><td>0.9638991</td><td>0.9755362</td><td>0.98624146</td><td>0.013181188</td><td>0.007806865</td><td>0.004895926</td><td>0.046389263</td><td>0.025493907</td><td>0.026280586</td><td>0.9997704</td><td>0.99976444</td><td>0.994111</td><td>4</td><td>4</td><td>3</td><td>699.39197</td><td>370.16425</td><td>97.038445</td><td>526.69385</td><td>238.68651</td><td>53.96916</td><td>124.31686</td><td>81.37864</td><td>1.5314506</td><td>0.5767177</td><td>0.9978972</td><td>0.99870807</td><td>0</td><td>0</td><td>0</td><td>5.559542</td><td>15.441222</td><td>29.044445</td><td>5.559735</td><td>15.441636</td><td>29.045053</td><td>0</td><td>0</td><td>0</td><td>2.3519402</td><td>N</td><td>1</td><td>100</td><td>1001519</td><td>False</td><td>1</td><td>False</td><td>2.0</td><td>0.2004070714061304</td><td>110.9653980191797</td><td>20.667755</td><td>1219.7406</td><td>4.8709335</td><td>12.721755</td><td>0.64</td><td>3.0</td><td>1.7293793289164818</td><td>0.5</td><td>-6932875859169517022 .. 6858338461939850769</td><td>0.5390625</td></tr>\n",
       "<tr><td>187.83760708675698</td><td>60.38987543677365</td><td>0.0</td><td>0.0</td><td>0.0</td><td>0.0</td><td>39633393155049303</td><td>516</td><td>102100</td><td>9</td><td>9</td><td>0</td><td>-1</td><td>-1</td><td>BGS|UNOBS</td><td>2021-04-04T23:06:17</td><td>0.57.0</td><td>102100</td><td>1519</td><td>100</td><td>1001519</td><td>0.1731108191825362</td><td>2.1990725452772437e-05</td><td>0</td><td>8261.064831957221</td><td>432.35253680177 .. 17.22703877309444</td><td>7925</td><td>GALAXY</td><td></td><td>10</td><td>206.30450244247913</td><td>682</td><td>0</td><td>244.21834</td><td>-326.9014</td><td>2</td><td>643.5187</td><td>2</td><td>0.0025</td><td>0.0035355338</td><td>0.0035</td><td>0.0038078865</td><td>0.7231175</td><td>0.00856659</td><td>4.2009583</td><td>55.74567</td><td>0.22093125</td><td>0.10928723</td><td>4.8168006</td><td>0.0052549182</td><td>413.2127</td><td>1.3596759</td><td>6.7328515</td><td>12.9480715</td><td>0.0</td><td>765.5734</td><td>2.910992</td><td>6.8087583</td><td>17.773438</td><td>4.206213</td><td>1234.5317</td><td>4.491599</td><td>13.650897</td><td>1152921504606846976</td><td>514</td><td>0</td><td>True</td><td>9011</td><td>618945</td><td>1878p605</td><td>1879</td><td>SER</td><td>0.012481144</td><td>12.783199</td><td>27.046825</td><td>45.38394</td><td>139.67891</td><td>45.02237</td><td>12.124743</td><td>0.9637275</td><td>0.9754193</td><td>0.98617536</td><td>0.02220771</td><td>0.015242308</td><td>0.008774353</td><td>0.002651616</td><td>0.0019862503</td><td>0.001671761</td><td>0.99978155</td><td>0.999822</td><td>0.9997679</td><td>4</td><td>4</td><td>3</td><td>699.39197</td><td>370.16425</td><td>97.038445</td><td>526.69385</td><td>238.68651</td><td>53.96916</td><td>36.955124</td><td>25.834177</td><td>3.0369883</td><td>0.9655166</td><td>0.9978871</td><td>0.9987019</td><td>0</td><td>0</td><td>0</td><td>1.823304</td><td>3.857766</td><td>6.473241</td><td>1.8233061</td><td>3.857772</td><td>6.4732594</td><td>0</td><td>0</td><td>0</td><td>1.8835446</td><td>N</td><td>1</td><td>100</td><td>1001519</td><td>True</td><td>1</td><td>True</td><td>203.0</td><td>0.1731108191825362</td><td>206.30450244247913</td><td>17.773438</td><td>1234.5317</td><td>4.491599</td><td>13.650897</td><td>0.64</td><td>3.0</td><td>1.7267282368438097</td><td>0.5</td><td>6932875859169517021 .. -6858338461939850770</td><td>0.4609375</td></tr>\n",
       "<tr><td>191.15953882785908</td><td>60.35142216476786</td><td>0.0</td><td>0.0</td><td>0.0</td><td>0.0</td><td>39633390185481032</td><td>516</td><td>102100</td><td>9</td><td>9</td><td>0</td><td>-1</td><td>-1</td><td>BGS|UNOBS</td><td>2021-04-04T23:06:17</td><td>0.57.0</td><td>102100</td><td>9495</td><td>100</td><td>1009495</td><td>999999.0</td><td>nan</td><td>999999</td><td>nan</td><td>nan .. nan</td><td>999999</td><td></td><td></td><td>999999</td><td>nan</td><td>999999</td><td>999999</td><td>nan</td><td>nan</td><td>16959</td><td>nan</td><td>16959</td><td>nan</td><td>nan</td><td>nan</td><td>nan</td><td>nan</td><td>nan</td><td>nan</td><td>nan</td><td>nan</td><td>nan</td><td>nan</td><td>nan</td><td>nan</td><td>nan</td><td>nan</td><td>nan</td><td>nan</td><td>nan</td><td>nan</td><td>nan</td><td>nan</td><td>nan</td><td>0.0</td><td>nan</td><td>nan</td><td>1152921504606846976</td><td>514</td><td>0</td><td>True</td><td>9011</td><td>618237</td><td>1912p602</td><td>840</td><td>REX</td><td>0.013612361</td><td>3.9586241</td><td>15.695501</td><td>32.674038</td><td>337.48166</td><td>82.90578</td><td>49.312866</td><td>0.9605057</td><td>0.9732215</td><td>0.9849318</td><td>0.026477644</td><td>0.017737934</td><td>0.013817352</td><td>0.002756781</td><td>0.0024039752</td><td>0.011896731</td><td>0.99999994</td><td>0.99999994</td><td>0.99999994</td><td>3</td><td>3</td><td>3</td><td>684.4334</td><td>248.80429</td><td>106.55098</td><td>491.02347</td><td>159.83447</td><td>63.875183</td><td>41.66838</td><td>32.09686</td><td>3.2708194</td><td>1.0817761</td><td>0.99769574</td><td>0.9985843</td><td>0</td><td>0</td><td>0</td><td>2.1534028</td><td>8.538001</td><td>17.773945</td><td>2.168782</td><td>8.58662</td><td>17.853363</td><td>0</td><td>0</td><td>0</td><td>0.4522126</td><td>N</td><td>1</td><td>100</td><td>1009495</td><td>False</td><td>1</td><td>False</td><td>2.0</td><td>0.2004070714061304</td><td>110.9653980191797</td><td>20.667755</td><td>1219.7406</td><td>4.8709335</td><td>12.721755</td><td>0.64</td><td>3.0</td><td>1.5713856866359464</td><td>0.5</td><td>1472873990978968848 .. -6200715598063728766</td><td>0.3984375</td></tr>\n",
       "</table>"
      ],
      "text/plain": [
       "<Table length=5>\n",
       "        RA                DEC         ...  PROB_OBS\n",
       "     float64            float64       ...  float64 \n",
       "------------------ ------------------ ... ---------\n",
       "191.20458196461243  60.31535787110577 ...       1.0\n",
       "187.04622815471808  60.82670180284912 ...       1.0\n",
       " 187.8512261193913 60.382096424983686 ... 0.5390625\n",
       "187.83760708675698  60.38987543677365 ... 0.4609375\n",
       "191.15953882785908  60.35142216476786 ... 0.3984375"
      ]
     },
     "execution_count": 11,
     "metadata": {},
     "output_type": "execute_result"
    }
   ],
   "source": [
    "bgs_full[:5]"
   ]
  },
  {
   "cell_type": "code",
   "execution_count": 8,
   "id": "a211edb0-fa43-4162-a1b4-a2dbe5e66cd3",
   "metadata": {},
   "outputs": [],
   "source": [
    "rand = aTable.Table.read(os.path.join(dir_dat, 'BGS_ANY_0_full.ran.fits'))"
   ]
  },
  {
   "cell_type": "code",
   "execution_count": 9,
   "id": "3bbd453f-7a84-4457-802e-82b8a32c2690",
   "metadata": {},
   "outputs": [
    {
     "data": {
      "text/html": [
       "<i>Table length=5</i>\n",
       "<table id=\"table139798164733264\" class=\"table-striped table-bordered table-condensed\">\n",
       "<thead><tr><th>LOCATION</th><th>FIBER</th><th>TARGETID</th><th>RA</th><th>DEC</th><th>TILEID</th><th>ZWARN</th><th>COADD_FIBERSTATUS</th><th>FIBERASSIGN_X</th><th>FIBERASSIGN_Y</th><th>PRIORITY</th><th>COADD_NUMEXP</th><th>COADD_EXPTIME</th><th>COADD_NUMNIGHT</th><th>MEAN_DELTA_X</th><th>RMS_DELTA_X</th><th>MEAN_DELTA_Y</th><th>RMS_DELTA_Y</th><th>MEAN_PSF_TO_FIBER_SPECFLUX</th><th>TSNR2_ELG_B</th><th>TSNR2_LYA_B</th><th>TSNR2_BGS_B</th><th>TSNR2_QSO_B</th><th>TSNR2_LRG_B</th><th>TSNR2_ELG_R</th><th>TSNR2_LYA_R</th><th>TSNR2_BGS_R</th><th>TSNR2_QSO_R</th><th>TSNR2_LRG_R</th><th>TSNR2_ELG_Z</th><th>TSNR2_LYA_Z</th><th>TSNR2_BGS_Z</th><th>TSNR2_QSO_Z</th><th>TSNR2_LRG_Z</th><th>TSNR2_ELG</th><th>TSNR2_LYA</th><th>TSNR2_BGS</th><th>TSNR2_QSO</th><th>TSNR2_LRG</th><th>TILELOCID</th><th>GOODHARDLOC</th><th>ZPOSSLOC</th><th>LOCFULL</th><th>NTILE</th><th>TILES</th><th>TILELOCIDS</th><th>RELEASE</th><th>BRICKID</th><th>BRICKNAME</th><th>BRICK_OBJID</th><th>NOBS_G</th><th>NOBS_R</th><th>NOBS_Z</th><th>PSFDEPTH_G</th><th>PSFDEPTH_R</th><th>PSFDEPTH_Z</th><th>GALDEPTH_G</th><th>GALDEPTH_R</th><th>GALDEPTH_Z</th><th>PSFDEPTH_W1</th><th>PSFDEPTH_W2</th><th>PSFSIZE_G</th><th>PSFSIZE_R</th><th>PSFSIZE_Z</th><th>APFLUX_G</th><th>APFLUX_R</th><th>APFLUX_Z</th><th>APFLUX_IVAR_G</th><th>APFLUX_IVAR_R</th><th>APFLUX_IVAR_Z</th><th>MASKBITS</th><th>WISEMASK_W1</th><th>WISEMASK_W2</th><th>EBV</th><th>PHOTSYS</th><th>HPXPIXEL</th><th>GOODPRI</th><th>GOODTSNR</th><th>sort</th><th>rosette_number</th><th>rosette_r</th><th>COMP_TILE</th></tr></thead>\n",
       "<thead><tr><th>int64</th><th>int32</th><th>int64</th><th>float64</th><th>float64</th><th>int64</th><th>int64</th><th>int32</th><th>float32</th><th>float32</th><th>int32</th><th>int16</th><th>float32</th><th>int16</th><th>float32</th><th>float32</th><th>float32</th><th>float32</th><th>float32</th><th>float32</th><th>float32</th><th>float32</th><th>float32</th><th>float32</th><th>float32</th><th>float32</th><th>float32</th><th>float32</th><th>float32</th><th>float32</th><th>float32</th><th>float32</th><th>float32</th><th>float32</th><th>float32</th><th>float32</th><th>float32</th><th>float32</th><th>float32</th><th>int64</th><th>bool</th><th>bool</th><th>bool</th><th>int64</th><th>bytes43</th><th>bytes143</th><th>int16</th><th>int32</th><th>bytes8</th><th>int32</th><th>int16</th><th>int16</th><th>int16</th><th>float32</th><th>float32</th><th>float32</th><th>float32</th><th>float32</th><th>float32</th><th>float32</th><th>float32</th><th>float32</th><th>float32</th><th>float32</th><th>float32</th><th>float32</th><th>float32</th><th>float32</th><th>float32</th><th>float32</th><th>int16</th><th>uint8</th><th>uint8</th><th>float32</th><th>bytes1</th><th>int64</th><th>bool</th><th>bool</th><th>float64</th><th>int64</th><th>float64</th><th>float64</th></tr></thead>\n",
       "<tr><td>1463</td><td>523</td><td>327858110079172719</td><td>212.07109388775507</td><td>-2.140315091928371</td><td>532</td><td>0</td><td>0</td><td>175.50546</td><td>-366.08752</td><td>102100</td><td>1</td><td>329.2138</td><td>1</td><td>-0.004</td><td>0.004</td><td>0.001</td><td>0.001</td><td>0.7514636</td><td>0.011137594</td><td>5.943045</td><td>67.41676</td><td>0.2955802</td><td>0.13583955</td><td>5.574382</td><td>0.0072475323</td><td>455.46225</td><td>1.6360444</td><td>7.7779646</td><td>18.151245</td><td>0.0</td><td>919.5955</td><td>4.067865</td><td>9.092111</td><td>23.736765</td><td>5.9502926</td><td>1442.4746</td><td>5.99949</td><td>17.005915</td><td>5321463</td><td>True</td><td>True</td><td>False</td><td>1</td><td>532</td><td>5321463</td><td>9010</td><td>318256</td><td>2121m022</td><td>111</td><td>2</td><td>2</td><td>2</td><td>1009.4085</td><td>424.73178</td><td>61.867813</td><td>657.23926</td><td>263.6727</td><td>36.682972</td><td>3.0998917</td><td>0.9078375</td><td>1.5552416</td><td>1.5542562</td><td>1.4723556</td><td>0.0025004449</td><td>0.002038179</td><td>0.008985968</td><td>44457.12</td><td>23513.545</td><td>2506.9216</td><td>0</td><td>0</td><td>0</td><td>0.058865007</td><td>S</td><td>25915</td><td>True</td><td>True</td><td>1.0</td><td>17</td><td>1.703977372177851</td><td>0.4791666666666667</td></tr>\n",
       "<tr><td>1416</td><td>510</td><td>327858110079172748</td><td>212.18419667195167</td><td>-2.1943083503984964</td><td>526</td><td>0</td><td>0</td><td>133.03877</td><td>-378.6486</td><td>102100</td><td>1</td><td>313.4244</td><td>1</td><td>-0.001</td><td>0.001</td><td>0.004</td><td>0.004</td><td>0.7233409</td><td>0.01093372</td><td>5.627245</td><td>69.16113</td><td>0.2829064</td><td>0.13403328</td><td>5.382512</td><td>0.0070170024</td><td>470.1907</td><td>1.5524523</td><td>7.5911126</td><td>17.500776</td><td>0.0</td><td>916.72455</td><td>3.7980762</td><td>8.74629</td><td>22.894222</td><td>5.634262</td><td>1456.0764</td><td>5.633435</td><td>16.471436</td><td>5261416</td><td>True</td><td>True</td><td>False</td><td>3</td><td>526-529-532</td><td>5261416-5291462-5321440</td><td>9010</td><td>318256</td><td>2121m022</td><td>140</td><td>2</td><td>2</td><td>3</td><td>1018.2282</td><td>429.63828</td><td>106.44258</td><td>652.6344</td><td>264.04034</td><td>60.554398</td><td>3.136192</td><td>0.91123754</td><td>1.4767433</td><td>1.4438787</td><td>1.3689809</td><td>0.00412565</td><td>0.0023833192</td><td>-0.0146499155</td><td>41137.664</td><td>16619.418</td><td>3774.7275</td><td>0</td><td>0</td><td>0</td><td>0.05962491</td><td>S</td><td>25915</td><td>True</td><td>True</td><td>1.0</td><td>17</td><td>1.7090298153474874</td><td>0.8095238095238095</td></tr>\n",
       "<tr><td>1442</td><td>515</td><td>327858110079172841</td><td>212.11792899934642</td><td>-2.150749907740645</td><td>532</td><td>0</td><td>0</td><td>159.9167</td><td>-360.7208</td><td>102100</td><td>1</td><td>329.2138</td><td>1</td><td>-0.003</td><td>0.003</td><td>0.0</td><td>0.0</td><td>0.7250493</td><td>0.011177412</td><td>5.9606104</td><td>67.40177</td><td>0.29736698</td><td>0.13629511</td><td>5.554052</td><td>0.007288506</td><td>454.23407</td><td>1.6339651</td><td>7.7505255</td><td>18.001997</td><td>0.0</td><td>905.4041</td><td>4.033347</td><td>8.977127</td><td>23.567226</td><td>5.967899</td><td>1427.04</td><td>5.9646792</td><td>16.863949</td><td>5321442</td><td>True</td><td>True</td><td>False</td><td>1</td><td>532</td><td>5321442</td><td>9010</td><td>318256</td><td>2121m022</td><td>233</td><td>2</td><td>2</td><td>2</td><td>1009.4085</td><td>424.73178</td><td>61.867813</td><td>657.23926</td><td>263.6727</td><td>36.682972</td><td>3.1931236</td><td>0.92251456</td><td>1.5391564</td><td>1.501505</td><td>1.4723556</td><td>-0.0005983162</td><td>-0.0046306853</td><td>0.00862697</td><td>44579.74</td><td>18327.232</td><td>2500.2612</td><td>0</td><td>0</td><td>0</td><td>0.05979426</td><td>S</td><td>25915</td><td>True</td><td>True</td><td>1.0</td><td>17</td><td>1.6940335494699277</td><td>0.4791666666666667</td></tr>\n",
       "<tr><td>1419</td><td>529</td><td>327858110079172947</td><td>212.21888059999338</td><td>-2.140907528993525</td><td>529</td><td>0</td><td>0</td><td>149.00124</td><td>-358.20053</td><td>102100</td><td>1</td><td>836.0849</td><td>1</td><td>0.012</td><td>0.012</td><td>-0.006</td><td>0.006</td><td>0.72217476</td><td>0.011951065</td><td>6.364678</td><td>76.21912</td><td>0.30609018</td><td>0.14431947</td><td>4.295406</td><td>0.0052497075</td><td>379.84784</td><td>1.2128124</td><td>6.04682</td><td>13.834273</td><td>0.0</td><td>714.2592</td><td>2.9018078</td><td>6.7493496</td><td>18.14163</td><td>6.3699274</td><td>1170.3262</td><td>4.4207106</td><td>12.940489</td><td>5291419</td><td>True</td><td>True</td><td>False</td><td>3</td><td>526-529-532</td><td>5261394-5291419-5321396</td><td>9010</td><td>318256</td><td>2121m022</td><td>339</td><td>3</td><td>2</td><td>2</td><td>1455.326</td><td>417.94556</td><td>61.81126</td><td>959.8502</td><td>260.35422</td><td>36.68388</td><td>3.0151045</td><td>0.89581233</td><td>1.553982</td><td>1.558887</td><td>1.4705592</td><td>-1.610856e-05</td><td>0.0023953998</td><td>0.010670678</td><td>54359.953</td><td>17952.584</td><td>2497.0828</td><td>0</td><td>0</td><td>0</td><td>0.05860677</td><td>S</td><td>25915</td><td>True</td><td>True</td><td>1.0</td><td>17</td><td>1.6467793489293132</td><td>0.8095238095238095</td></tr>\n",
       "<tr><td>1417</td><td>500</td><td>327858110079172977</td><td>212.18607135449486</td><td>-2.1637970426570776</td><td>526</td><td>0</td><td>0</td><td>142.27344</td><td>-374.8033</td><td>101500</td><td>1</td><td>313.4244</td><td>1</td><td>0.003</td><td>0.003</td><td>0.001</td><td>0.001</td><td>0.789</td><td>0.010413555</td><td>5.791129</td><td>65.29678</td><td>0.27041236</td><td>0.12268324</td><td>4.5930915</td><td>0.0062749204</td><td>410.69415</td><td>1.3338023</td><td>6.4955025</td><td>14.528447</td><td>0.0</td><td>768.4816</td><td>3.154332</td><td>7.2722073</td><td>19.131952</td><td>5.797404</td><td>1244.4725</td><td>4.758547</td><td>13.890392</td><td>5261417</td><td>True</td><td>True</td><td>False</td><td>2</td><td>526-529</td><td>5261417-5291462</td><td>9010</td><td>318256</td><td>2121m022</td><td>369</td><td>2</td><td>2</td><td>3</td><td>1002.24347</td><td>417.94556</td><td>105.62699</td><td>651.71643</td><td>260.35422</td><td>60.032036</td><td>3.180551</td><td>0.89093137</td><td>1.5371926</td><td>1.5082215</td><td>1.3676476</td><td>-0.0038878566</td><td>0.008546261</td><td>0.012412887</td><td>45113.008</td><td>17491.406</td><td>3684.8972</td><td>0</td><td>0</td><td>0</td><td>0.059470315</td><td>S</td><td>25915</td><td>True</td><td>True</td><td>1.0</td><td>17</td><td>1.6799187290135524</td><td>0.5333333333333333</td></tr>\n",
       "</table>"
      ],
      "text/plain": [
       "<Table length=5>\n",
       "LOCATION FIBER      TARGETID      ...     rosette_r          COMP_TILE     \n",
       " int64   int32       int64        ...      float64            float64      \n",
       "-------- ----- ------------------ ... ------------------ ------------------\n",
       "    1463   523 327858110079172719 ...  1.703977372177851 0.4791666666666667\n",
       "    1416   510 327858110079172748 ... 1.7090298153474874 0.8095238095238095\n",
       "    1442   515 327858110079172841 ... 1.6940335494699277 0.4791666666666667\n",
       "    1419   529 327858110079172947 ... 1.6467793489293132 0.8095238095238095\n",
       "    1417   500 327858110079172977 ... 1.6799187290135524 0.5333333333333333"
      ]
     },
     "execution_count": 9,
     "metadata": {},
     "output_type": "execute_result"
    }
   ],
   "source": [
    "rand[:5]"
   ]
  },
  {
   "cell_type": "code",
   "execution_count": null,
   "id": "65ab0d61-2ce8-4dcc-98a0-6262d7ccb962",
   "metadata": {},
   "outputs": [],
   "source": []
  },
  {
   "cell_type": "code",
   "execution_count": 18,
   "id": "17b47a51-13ed-4787-891b-ae984413ffc4",
   "metadata": {},
   "outputs": [],
   "source": [
    "bgs0 = aTable.Table.read('/global/cfs/cdirs/desi/survey/catalogs/DA02/LSS/guadalupe/LSScats/2.1/BGS_BRIGHT_N_clustering.dat.fits')"
   ]
  },
  {
   "cell_type": "code",
   "execution_count": 19,
   "id": "aaaa78e0-2a80-4dbf-b8b7-83298e03548d",
   "metadata": {},
   "outputs": [
    {
     "data": {
      "text/html": [
       "<i>Table length=5</i>\n",
       "<table id=\"table139795753966224\" class=\"table-striped table-bordered table-condensed\">\n",
       "<thead><tr><th>TARGETID</th><th>Z</th><th>RA</th><th>DEC</th><th>NTILE</th><th>TILES</th><th>WEIGHT</th><th>WEIGHT_ZFAIL</th><th>WEIGHT_COMP</th><th>WEIGHT_SYS</th><th>flux_g_dered</th><th>flux_r_dered</th><th>flux_z_dered</th><th>flux_w1_dered</th><th>flux_w2_dered</th><th>NZ</th><th>WEIGHT_FKP</th><th>REST_GMR_0P1</th><th>KCORR_R0P1</th><th>KCORR_G0P1</th><th>KCORR_R0P0</th><th>KCORR_G0P0</th><th>REST_GMR_0P0</th><th>EQ_ALL_0P0</th><th>EQ_ALL_0P1</th><th>ABSMAG_R</th></tr></thead>\n",
       "<thead><tr><th>int64</th><th>float64</th><th>float64</th><th>float64</th><th>int64</th><th>bytes11</th><th>float64</th><th>float32</th><th>float64</th><th>float64</th><th>float32</th><th>float32</th><th>float32</th><th>float32</th><th>float32</th><th>float64</th><th>float64</th><th>float64</th><th>float64</th><th>float64</th><th>float64</th><th>float64</th><th>float64</th><th>float64</th><th>float64</th><th>float64</th></tr></thead>\n",
       "<tr><td>39633366047264069</td><td>0.23373774756268273</td><td>268.6773406567538</td><td>58.196956322063585</td><td>1</td><td>20001</td><td>4.435997735782925</td><td>1.0164545</td><td>4.0</td><td>1.091046849132405</td><td>5.1988206</td><td>18.016794</td><td>36.307766</td><td>35.975773</td><td>23.484913</td><td>0.00881734514258105</td><td>0.03398605449118556</td><td>0.9539436956606155</td><td>0.08093321342091594</td><td>0.4764215093374489</td><td>0.30965139400867076</td><td>0.8662922728465651</td><td>0.7927911127392542</td><td>-0.22672561513580225</td><td>-0.22672561513580225</td><td>-20.049808198242104</td></tr>\n",
       "<tr><td>39633366047264297</td><td>0.16095951646742163</td><td>268.7008850398322</td><td>58.31651750837625</td><td>1</td><td>20001</td><td>2.0792017649873764</td><td>1.0205693</td><td>2.0</td><td>1.018647981615288</td><td>7.7169294</td><td>16.809292</td><td>28.698618</td><td>21.945616</td><td>12.552565</td><td>0.018975142475420474</td><td>0.01608524288985886</td><td>0.721548822097457</td><td>-0.0480892836645471</td><td>0.07562442170381622</td><td>0.17676402087349832</td><td>0.38471493423821956</td><td>0.637311614101099</td><td>-0.15613073097339897</td><td>-0.15613073097339897</td><td>-19.01505339080518</td></tr>\n",
       "<tr><td>39633366047264412</td><td>0.2262081883049673</td><td>268.7121644210125</td><td>58.17137871856034</td><td>1</td><td>20001</td><td>8.832766413962023</td><td>1.01196</td><td>8.0</td><td>1.091046849132405</td><td>5.6451545</td><td>17.743734</td><td>36.715954</td><td>42.338474</td><td>30.138641</td><td>0.00881734514258105</td><td>0.03398605449118556</td><td>0.8916872718248806</td><td>0.055141909042679765</td><td>0.4068761917832286</td><td>0.28235492619244257</td><td>0.7782674152354703</td><td>0.7475090655224019</td><td>-0.21942194265581827</td><td>-0.21942194265581827</td><td>-19.934640009395764</td></tr>\n",
       "<tr><td>39633366047264487</td><td>0.10750217420934505</td><td>268.72025843577376</td><td>58.150995263304566</td><td>1</td><td>20001</td><td>2.207917430855669</td><td>1.0118344</td><td>2.0</td><td>1.091046849132405</td><td>65.581665</td><td>164.53503</td><td>310.0892</td><td>251.75818</td><td>156.65999</td><td>0.028271004452378103</td><td>0.01085361775164864</td><td>0.9793147837596916</td><td>-0.09317160654032018</td><td>-0.07379673881075391</td><td>0.1383131834916128</td><td>0.320207896877415</td><td>0.8167949381034556</td><td>-0.10427710898306469</td><td>-0.10427710898306469</td><td>-20.549183985528458</td></tr>\n",
       "<tr><td>39633366047264710</td><td>0.20509598282456507</td><td>268.7447179685751</td><td>58.35164090788789</td><td>1</td><td>20001</td><td>3.1152252518585266</td><td>1.0193987</td><td>3.0</td><td>1.018647981615288</td><td>9.199382</td><td>18.115196</td><td>31.323214</td><td>38.144897</td><td>31.80481</td><td>0.012189645846387005</td><td>0.024817052799169067</td><td>0.5397214238839109</td><td>-0.06256931584764004</td><td>0.13341940431141774</td><td>0.14342391928728798</td><td>0.37673369579311694</td><td>0.5024003675371398</td><td>-0.19894310333982812</td><td>-0.19894310333982812</td><td>-19.621429255164735</td></tr>\n",
       "</table>"
      ],
      "text/plain": [
       "<Table length=5>\n",
       "     TARGETID              Z          ...       ABSMAG_R     \n",
       "      int64             float64       ...       float64      \n",
       "----------------- ------------------- ... -------------------\n",
       "39633366047264069 0.23373774756268273 ... -20.049808198242104\n",
       "39633366047264297 0.16095951646742163 ...  -19.01505339080518\n",
       "39633366047264412  0.2262081883049673 ... -19.934640009395764\n",
       "39633366047264487 0.10750217420934505 ... -20.549183985528458\n",
       "39633366047264710 0.20509598282456507 ... -19.621429255164735"
      ]
     },
     "execution_count": 19,
     "metadata": {},
     "output_type": "execute_result"
    }
   ],
   "source": [
    "bgs0[:5]"
   ]
  },
  {
   "cell_type": "code",
   "execution_count": null,
   "id": "7557480d-a352-4684-acbb-e240b77047d1",
   "metadata": {},
   "outputs": [],
   "source": []
  }
 ],
 "metadata": {
  "kernelspec": {
   "display_name": "gqp",
   "language": "python",
   "name": "gqp"
  },
  "language_info": {
   "codemirror_mode": {
    "name": "ipython",
    "version": 3
   },
   "file_extension": ".py",
   "mimetype": "text/x-python",
   "name": "python",
   "nbconvert_exporter": "python",
   "pygments_lexer": "ipython3",
   "version": "3.7.4"
  }
 },
 "nbformat": 4,
 "nbformat_minor": 5
}
