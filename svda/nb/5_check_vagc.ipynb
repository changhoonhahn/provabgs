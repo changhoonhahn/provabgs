{
 "cells": [
  {
   "cell_type": "code",
   "execution_count": 1,
   "id": "8db88bc7-ba59-4224-86e6-ad7daba8e768",
   "metadata": {},
   "outputs": [],
   "source": [
    "import os\n",
    "import h5py\n",
    "import fitsio\n",
    "import numpy as np\n",
    "from tqdm import tqdm\n",
    "import astropy.table as aTable"
   ]
  },
  {
   "cell_type": "code",
   "execution_count": 6,
   "id": "d66cceb0-a389-4790-8699-bde9ee035086",
   "metadata": {},
   "outputs": [],
   "source": [
    "from desitarget.sv3.sv3_targetmask import bgs_mask as sv3_bgs_mask"
   ]
  },
  {
   "cell_type": "markdown",
   "id": "9a42a4a5-688b-480f-a0f0-0669140e1ba9",
   "metadata": {},
   "source": [
    "# read in target catalog"
   ]
  },
  {
   "cell_type": "code",
   "execution_count": 4,
   "id": "22ee0fe4-1a1a-4cd2-8f61-861685a6b984",
   "metadata": {},
   "outputs": [],
   "source": [
    "ff = fitsio.read('/global/cfs/cdirs/desi/survey/catalogs/SV3/LSS/fuji/LSScats/EDAbeta/BGS_ANY_full.dat.fits')"
   ]
  },
  {
   "cell_type": "code",
   "execution_count": 7,
   "id": "02a720e5-6557-43ea-a907-1872346dffdb",
   "metadata": {},
   "outputs": [
    {
     "name": "stdout",
     "output_type": "stream",
     "text": [
      "143074 BGS BRIGHT z-success\n",
      "96771 BGS FAINT z-success\n"
     ]
    }
   ],
   "source": [
    "# select only BGS targets\n",
    "is_bgs_bright = (\n",
    "    (ff['COADD_FIBERSTATUS'] == 0) & \n",
    "    ((ff['SV3_BGS_TARGET'] & sv3_bgs_mask['BGS_BRIGHT']) != 0) & \n",
    "    (ff['SPECTYPE'] == 'GALAXY') & \n",
    "    (ff['Z_HP'] > 0.) & (ff['Z_HP'] < 0.6) & \n",
    "    (ff['ZWARN'] == 0) & \n",
    "    (ff['DELTACHI2'] > 40.) & \n",
    "    (ff['ZERR'] < 0.0005 * (1 + ff['Z_HP'])))\n",
    "\n",
    "is_bgs_faint = (\n",
    "    (ff['COADD_FIBERSTATUS'] == 0) & \n",
    "    ((ff['SV3_BGS_TARGET'] & sv3_bgs_mask['BGS_FAINT']) != 0) & \n",
    "    (ff['SPECTYPE'] == 'GALAXY') & \n",
    "    (ff['Z_HP'] > 0.) & (ff['Z_HP'] < 0.6) & \n",
    "    (ff['ZWARN'] == 0) & \n",
    "    (ff['DELTACHI2'] > 40.) & \n",
    "    (ff['ZERR'] < 0.0005 * (1 + ff['Z_HP'])))\n",
    "\n",
    "print('%i BGS BRIGHT z-success' % np.sum(is_bgs_bright))\n",
    "print('%i BGS FAINT z-success' % np.sum(is_bgs_faint))"
   ]
  },
  {
   "cell_type": "markdown",
   "id": "a52985d4-cf0a-4aff-baa9-ad4ab848aa4b",
   "metadata": {},
   "source": [
    "# read in VAGC"
   ]
  },
  {
   "cell_type": "code",
   "execution_count": 2,
   "id": "9be280d6-edaa-4f30-b3f6-14917b2f5ceb",
   "metadata": {},
   "outputs": [],
   "source": [
    "fvagc = '/global/cfs/cdirs/desi/users/chahah/provabgs/svda/BGS_ANY_full.provabgs.hdf5'\n",
    "vagc = aTable.Table.read(fvagc)"
   ]
  },
  {
   "cell_type": "code",
   "execution_count": 3,
   "id": "6c91061e-bd71-4a04-9c9b-1fa162bc1c9a",
   "metadata": {},
   "outputs": [
    {
     "data": {
      "text/html": [
       "<div><i>Table length=5</i>\n",
       "<table id=\"table22508255209040\" class=\"table-striped table-bordered table-condensed\">\n",
       "<thead><tr><th>TARGETID</th><th>RA</th><th>DEC</th><th>Z_HP</th><th>ZERR</th><th>TSNR2_BGS</th><th>MAG_G</th><th>MAG_R</th><th>MAG_Z</th><th>MAG_W1</th><th>FIBMAG_R</th><th>HPIX_64</th><th>provabgs_mcmc [100,13]</th><th>provabgs_theta_bf [13]</th><th>provabgs_z_max</th><th>provabgs_logMstar_bf</th><th>provabgs_logMstar [100]</th></tr></thead>\n",
       "<thead><tr><th>int64</th><th>float64</th><th>float64</th><th>float64</th><th>float64</th><th>float32</th><th>float64</th><th>float64</th><th>float64</th><th>float64</th><th>float64</th><th>int64</th><th>float64</th><th>float64</th><th>float64</th><th>float64</th><th>float64</th></tr></thead>\n",
       "<tr><td>39633390185481181</td><td>191.17913199949842</td><td>60.25733587654764</td><td>0.2004070714061304</td><td>nan</td><td>0.0</td><td>-999.0</td><td>-999.0</td><td>-999.0</td><td>-999.0</td><td>-999.0</td><td>-999</td><td>-999.0 .. -999.0</td><td>-999.0 .. -999.0</td><td>-999.0</td><td>-999.0</td><td>-999.0 .. -999.0</td></tr>\n",
       "<tr><td>39633390164510024</td><td>188.6998080571996</td><td>60.21175772175424</td><td>0.2004070714061304</td><td>nan</td><td>0.0</td><td>-999.0</td><td>-999.0</td><td>-999.0</td><td>-999.0</td><td>-999.0</td><td>-999</td><td>-999.0 .. -999.0</td><td>-999.0 .. -999.0</td><td>-999.0</td><td>-999.0</td><td>-999.0 .. -999.0</td></tr>\n",
       "<tr><td>39633390185480955</td><td>191.14955067198017</td><td>60.34047183206205</td><td>0.2004070714061304</td><td>nan</td><td>0.0</td><td>-999.0</td><td>-999.0</td><td>-999.0</td><td>-999.0</td><td>-999.0</td><td>-999</td><td>-999.0 .. -999.0</td><td>-999.0 .. -999.0</td><td>-999.0</td><td>-999.0</td><td>-999.0 .. -999.0</td></tr>\n",
       "<tr><td>39633390185480938</td><td>191.14757099005186</td><td>60.345815959235</td><td>0.2819459922463374</td><td>2.191690764397e-05</td><td>1361.7778</td><td>20.420939956138607</td><td>19.440977833152942</td><td>18.807486906915823</td><td>18.725561063547207</td><td>21.083244145949642</td><td>11226</td><td>11.091623656909688 .. 0.3684622521221414</td><td>11.14249424405227 .. 0.3651476796540595</td><td>0.2891440449335749</td><td>10.894820213317871</td><td>10.848259925842285 .. 10.952618598937988</td></tr>\n",
       "<tr><td>39633416324383107</td><td>187.05117249536465</td><td>62.614542270156655</td><td>0.2703579310142208</td><td>0.00018002802349298926</td><td>1218.0295</td><td>20.876585604498494</td><td>19.373871860075226</td><td>18.567397256862876</td><td>18.32574859422363</td><td>20.212708263179056</td><td>11251</td><td>11.127879812361321 .. 0.6691898790548064</td><td>11.16028636319183 .. 0.6710591095679554</td><td>0.2822033708476234</td><td>10.909546852111816</td><td>10.877055168151855 .. 10.874772071838379</td></tr>\n",
       "</table></div>"
      ],
      "text/plain": [
       "<Table length=5>\n",
       "     TARGETID     ...         provabgs_logMstar [100]         \n",
       "      int64       ...                 float64                 \n",
       "----------------- ... ----------------------------------------\n",
       "39633390185481181 ...                         -999.0 .. -999.0\n",
       "39633390164510024 ...                         -999.0 .. -999.0\n",
       "39633390185480955 ...                         -999.0 .. -999.0\n",
       "39633390185480938 ... 10.848259925842285 .. 10.952618598937988\n",
       "39633416324383107 ... 10.877055168151855 .. 10.874772071838379"
      ]
     },
     "execution_count": 3,
     "metadata": {},
     "output_type": "execute_result"
    }
   ],
   "source": [
    "vagc[:5]"
   ]
  },
  {
   "cell_type": "code",
   "execution_count": 8,
   "id": "4b29f967-863f-440b-b85d-0fad99caad54",
   "metadata": {},
   "outputs": [],
   "source": [
    "has_va = (vagc['provabgs_z_max'] != -999.)"
   ]
  },
  {
   "cell_type": "code",
   "execution_count": 11,
   "id": "52900ddb-497b-4f08-bc5e-ae0ceb3a38d6",
   "metadata": {},
   "outputs": [
    {
     "name": "stdout",
     "output_type": "stream",
     "text": [
      "143017 of 143074 BGS BRIGHT has VAGC\n",
      "95499 of 96771 BGS FAINT has VAGC\n"
     ]
    }
   ],
   "source": [
    "print('%i of %i BGS BRIGHT has VAGC' % (np.sum(is_bgs_bright & has_va), np.sum(is_bgs_bright)))\n",
    "print('%i of %i BGS FAINT has VAGC' % (np.sum(is_bgs_faint & has_va), np.sum(is_bgs_faint)))"
   ]
  },
  {
   "cell_type": "code",
   "execution_count": 12,
   "id": "9192b7df-b243-4a00-ae8a-b8a7c313528c",
   "metadata": {},
   "outputs": [
    {
     "name": "stdout",
     "output_type": "stream",
     "text": [
      "57 of 143074 BGS BRIGHT does not have VAGC\n",
      "1272 of 96771 BGS FAINT does not have VAGC\n"
     ]
    }
   ],
   "source": [
    "print('%i of %i BGS BRIGHT does not have VAGC' % (np.sum(is_bgs_bright & ~has_va), np.sum(is_bgs_bright)))\n",
    "print('%i of %i BGS FAINT does not have VAGC' % (np.sum(is_bgs_faint & ~has_va), np.sum(is_bgs_faint)))"
   ]
  },
  {
   "cell_type": "code",
   "execution_count": null,
   "id": "d97b28d6-1d52-4887-86c3-7dc44b95a95f",
   "metadata": {},
   "outputs": [],
   "source": []
  }
 ],
 "metadata": {
  "kernelspec": {
   "display_name": "gqp",
   "language": "python",
   "name": "gqp"
  },
  "language_info": {
   "codemirror_mode": {
    "name": "ipython",
    "version": 3
   },
   "file_extension": ".py",
   "mimetype": "text/x-python",
   "name": "python",
   "nbconvert_exporter": "python",
   "pygments_lexer": "ipython3",
   "version": "3.7.4"
  }
 },
 "nbformat": 4,
 "nbformat_minor": 5
}
