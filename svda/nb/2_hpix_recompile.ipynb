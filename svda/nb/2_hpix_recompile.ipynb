{
 "cells": [
  {
   "cell_type": "code",
   "execution_count": 1,
   "id": "bb1e2090-7b70-4b7c-909e-b19e0b73629e",
   "metadata": {},
   "outputs": [],
   "source": [
    "import os\n",
    "import h5py\n",
    "import datetime\n",
    "import numpy as np\n",
    "from tqdm import tqdm\n",
    "from provabgs import infer as Infer"
   ]
  },
  {
   "cell_type": "code",
   "execution_count": 2,
   "id": "8c643376-8d5f-49e8-8616-0bda9d410745",
   "metadata": {},
   "outputs": [],
   "source": [
    "# get healpixels and target ids of rerun posteriors\n",
    "dat_dir = '/global/cfs/cdirs/desi/users/chahah/provabgs/svda/'"
   ]
  },
  {
   "cell_type": "code",
   "execution_count": 4,
   "id": "ba24a87e-3a65-4b3b-bed7-359feb22dc2c",
   "metadata": {},
   "outputs": [
    {
     "name": "stderr",
     "output_type": "stream",
     "text": [
      "  9%|▉         | 29/324 [03:30<16:47,  3.42s/it]  "
     ]
    },
    {
     "name": "stdout",
     "output_type": "stream",
     "text": [
      "/global/cfs/cdirs/desi/users/chahah/provabgs/svda/healpix/9819/provabgs.39633127684967516.hdf5\n",
      "\t healpix 9819 targetid 39633127684967516 missing\n"
     ]
    },
    {
     "name": "stderr",
     "output_type": "stream",
     "text": [
      " 11%|█         | 36/324 [04:09<22:58,  4.79s/it]"
     ]
    },
    {
     "name": "stdout",
     "output_type": "stream",
     "text": [
      "/global/cfs/cdirs/desi/users/chahah/provabgs/svda/healpix/9834/provabgs.39633118675601593.hdf5\n",
      "\t healpix 9834 targetid 39633118675601593 missing\n"
     ]
    },
    {
     "name": "stderr",
     "output_type": "stream",
     "text": [
      " 30%|███       | 98/324 [12:17<41:02, 10.90s/it]"
     ]
    },
    {
     "name": "stdout",
     "output_type": "stream",
     "text": [
      "/global/cfs/cdirs/desi/users/chahah/provabgs/svda/healpix/10379/provabgs.39628438629254793.hdf5\n",
      "\t healpix 10379 targetid 39628438629254793 missing\n"
     ]
    },
    {
     "name": "stderr",
     "output_type": "stream",
     "text": [
      " 33%|███▎      | 106/324 [13:58<42:13, 11.62s/it]"
     ]
    },
    {
     "name": "stdout",
     "output_type": "stream",
     "text": [
      "/global/cfs/cdirs/desi/users/chahah/provabgs/svda/healpix/10404/provabgs.39628470447245344.hdf5\n",
      "\t healpix 10404 targetid 39628470447245344 missing\n"
     ]
    },
    {
     "name": "stderr",
     "output_type": "stream",
     "text": [
      " 33%|███▎      | 108/324 [14:06<28:58,  8.05s/it]"
     ]
    },
    {
     "name": "stdout",
     "output_type": "stream",
     "text": [
      "/global/cfs/cdirs/desi/users/chahah/provabgs/svda/healpix/10513/provabgs.39632966409783953.hdf5\n",
      "\t healpix 10513 targetid 39632966409783953 missing\n"
     ]
    },
    {
     "name": "stderr",
     "output_type": "stream",
     "text": [
      " 52%|█████▏    | 167/324 [20:35<19:43,  7.54s/it]"
     ]
    },
    {
     "name": "stdout",
     "output_type": "stream",
     "text": [
      "/global/cfs/cdirs/desi/users/chahah/provabgs/svda/healpix/15354/provabgs.39633425283418106.hdf5\n",
      "\t healpix 15354 targetid 39633425283418106 missing\n"
     ]
    },
    {
     "name": "stderr",
     "output_type": "stream",
     "text": [
      " 84%|████████▎ | 271/324 [34:59<08:17,  9.38s/it]"
     ]
    },
    {
     "name": "stdout",
     "output_type": "stream",
     "text": [
      "/global/cfs/cdirs/desi/users/chahah/provabgs/svda/healpix/26285/provabgs.39627824046278274.hdf5\n",
      "\t healpix 26285 targetid 39627824046278274 missing\n"
     ]
    },
    {
     "name": "stderr",
     "output_type": "stream",
     "text": [
      "100%|██████████| 324/324 [41:21<00:00,  7.66s/it]"
     ]
    },
    {
     "name": "stdout",
     "output_type": "stream",
     "text": [
      "[9819, 9834, 10379, 10404, 10513, 15354, 26285]\n",
      "[39633127684967516, 39633118675601593, 39628438629254793, 39628470447245344, 39632966409783953, 39633425283418106, 39627824046278274]\n"
     ]
    },
    {
     "name": "stderr",
     "output_type": "stream",
     "text": [
      "\n"
     ]
    }
   ],
   "source": [
    "for target in ['BGS_BRIGHT', 'BGS_FAINT']: \n",
    "    hpixs, tids = np.loadtxt(os.path.join(dat_dir, f'sv3-bright-{target}.flagged.dat'),\n",
    "                             dtype=int, unpack=True, usecols=[0,1])\n",
    "    uhpixs = np.unique(hpixs)\n",
    "\n",
    "    missed_hpix, missed_tids = [], []\n",
    "    for hpix in tqdm(uhpixs):\n",
    "        tids_redone = tids[hpixs == hpix]\n",
    "\n",
    "        fhpix = os.path.join(dat_dir, f'provabgs-sv3-bright-{hpix}.{target}.hdf5')\n",
    "\n",
    "        #if os.path.isfile(fhpix) and datetime.datetime.fromtimestamp(os.path.getmtime(fhpix)).month == 12:\n",
    "        #    if datetime.datetime.fromtimestamp(os.path.getmtime(fhpix)).day >= 22:\n",
    "        #        print('already updated %s' % fhpix)\n",
    "        #        continue        \n",
    "        #print('updating %i posteriors in healpix %i' % (len(tids_redone), hpix))\n",
    "\n",
    "        # read hpix file\n",
    "        with h5py.File(fhpix, 'r+') as fhpix:\n",
    "            for tid in tids_redone:\n",
    "                is_tid = (fhpix['targetid'][...] == tid)\n",
    "                if np.sum(is_tid) == 0: continue # hmm, it's not in the original file for whatever reason\n",
    "                i_tid = np.arange(len(fhpix['targetid'][...]))[is_tid][0]\n",
    "\n",
    "                # read updated posterior file\n",
    "                fmcmc = os.path.join(dat_dir, 'healpix', str(hpix), 'provabgs.%i.hdf5' % tid)\n",
    "\n",
    "                if not os.path.isfile(fmcmc):\n",
    "                    print(fmcmc)\n",
    "                    print('\\t healpix %i targetid %i missing' % (hpix, tid))\n",
    "                    missed_hpix.append(hpix)\n",
    "                    missed_tids.append(tid)\n",
    "                    continue\n",
    "\n",
    "                post_i = Infer.PostOut()\n",
    "                post_i.read(fmcmc)\n",
    "\n",
    "                # update value\n",
    "                fhpix['samples'][i_tid]     = post_i.samples\n",
    "                fhpix['log_prob'][i_tid]    = post_i.log_prob\n",
    "                fhpix['redshift'][i_tid]    = post_i.redshift\n",
    "                fhpix['wavelength_obs'][i_tid]  = post_i.wavelength_obs\n",
    "                fhpix['flux_spec_obs'][i_tid]   = post_i.flux_spec_obs\n",
    "                fhpix['ivar_spec_obs'][i_tid]   = post_i.ivar_spec_obs\n",
    "                fhpix['flux_photo_obs'][i_tid]  = post_i.flux_photo_obs\n",
    "                fhpix['ivar_photo_obs'][i_tid]  = post_i.ivar_photo_obs\n",
    "\n",
    "                fhpix['flux_spec_model'][i_tid]   = post_i.flux_spec_model\n",
    "                fhpix['flux_photo_model'][i_tid]  = post_i.flux_spec_model # this is a bug but it will blow up otherwise\n",
    "    print(missed_hpix)\n",
    "    print(missed_tids)"
   ]
  },
  {
   "cell_type": "code",
   "execution_count": null,
   "id": "452be396-1617-4ff3-bd4f-63fdddf0c528",
   "metadata": {},
   "outputs": [],
   "source": []
  }
 ],
 "metadata": {
  "kernelspec": {
   "display_name": "gqp",
   "language": "python",
   "name": "gqp"
  },
  "language_info": {
   "codemirror_mode": {
    "name": "ipython",
    "version": 3
   },
   "file_extension": ".py",
   "mimetype": "text/x-python",
   "name": "python",
   "nbconvert_exporter": "python",
   "pygments_lexer": "ipython3",
   "version": "3.7.4"
  }
 },
 "nbformat": 4,
 "nbformat_minor": 5
}
