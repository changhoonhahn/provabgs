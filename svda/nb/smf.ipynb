{
 "cells": [
  {
   "cell_type": "markdown",
   "id": "a4423297-7c6a-415b-b3d9-e30fa09a80a4",
   "metadata": {},
   "source": [
    "$$\\log p(\\phi | \\{x_i\\}) \\approx \\prod\\limits_{i=1}^N \\frac{1}{S_i} \\sum\\limits_{j=1}^{S_i} p(\\theta_{ij} | \\phi)$$\n",
    "\n",
    "For normalizing flows \n",
    "$$p(\\theta_{ij} | \\phi) = q_\\phi(\\theta_{ij})$$\n",
    "\n",
    "Then a MAP solution for $\\phi$ can be obtained by maximizing $\\log p(\\phi | \\{ x_i \\})$, which is equivalent to maximizing\n",
    "$$\\sum_{i=1}^N \\log \\sum\\limits_{j=1}^S q_\\phi(\\theta_{ij})$$\n"
   ]
  },
  {
   "cell_type": "code",
   "execution_count": 1,
   "id": "dae0cfff-d41c-40c8-ba76-a7b9652df31c",
   "metadata": {},
   "outputs": [],
   "source": [
    "import os\n",
    "import h5py \n",
    "import numpy as np\n",
    "import fitsio\n",
    "from tqdm.auto import trange\n",
    "import astropy.table as aTable\n",
    "from astropy.cosmology import Planck13"
   ]
  },
  {
   "cell_type": "code",
   "execution_count": 2,
   "id": "0ce04eb8-8555-410e-b933-bfa1a79d1007",
   "metadata": {},
   "outputs": [],
   "source": [
    "import copy\n",
    "from nflows import transforms, distributions, flows\n",
    "\n",
    "import torch\n",
    "from torch import nn\n",
    "from torch import optim\n",
    "import torch.distributions as D"
   ]
  },
  {
   "cell_type": "code",
   "execution_count": 3,
   "id": "c06eb997-3dfa-45b7-8a3e-b5d742013277",
   "metadata": {},
   "outputs": [],
   "source": [
    "# -- plotting -- \n",
    "import matplotlib as mpl\n",
    "import matplotlib.pyplot as plt\n",
    "mpl.rcParams['font.family'] = 'serif'\n",
    "mpl.rcParams['axes.linewidth'] = 1.5\n",
    "mpl.rcParams['axes.xmargin'] = 1\n",
    "mpl.rcParams['xtick.labelsize'] = 'x-large'\n",
    "mpl.rcParams['xtick.major.size'] = 5\n",
    "mpl.rcParams['xtick.major.width'] = 1.5\n",
    "mpl.rcParams['ytick.labelsize'] = 'x-large'\n",
    "mpl.rcParams['ytick.major.size'] = 5\n",
    "mpl.rcParams['ytick.major.width'] = 1.5\n",
    "mpl.rcParams['legend.frameon'] = False"
   ]
  },
  {
   "cell_type": "code",
   "execution_count": 4,
   "id": "efd90248-edb2-48ac-89be-283b9fdfef30",
   "metadata": {},
   "outputs": [],
   "source": [
    "dat_dir = '/tigress/chhahn/provabgs/svda'"
   ]
  },
  {
   "cell_type": "code",
   "execution_count": 5,
   "id": "3c351bf1-3eee-4848-8fb8-cdc70d153997",
   "metadata": {},
   "outputs": [],
   "source": [
    "if torch.cuda.is_available(): \n",
    "    device = torch.device(type='cuda', index=0)\n",
    "else: \n",
    "    device = 'cpu'"
   ]
  },
  {
   "cell_type": "markdown",
   "id": "5a11b7bd-a54d-471f-9069-e11951977292",
   "metadata": {},
   "source": [
    "# compile $M_*$ posteriors"
   ]
  },
  {
   "cell_type": "code",
   "execution_count": 6,
   "id": "ea147835",
   "metadata": {},
   "outputs": [],
   "source": [
    "bgs = aTable.Table.read(os.path.join(dat_dir, 'BGS_ANY_full.provabgs.hdf5'))"
   ]
  },
  {
   "cell_type": "code",
   "execution_count": 7,
   "id": "7f5aa016",
   "metadata": {},
   "outputs": [
    {
     "data": {
      "text/html": [
       "<i>Table length=5</i>\n",
       "<table id=\"table22436670608144\" class=\"table-striped table-bordered table-condensed\">\n",
       "<thead><tr><th>TARGETID</th><th>RA</th><th>DEC</th><th>Z_HP</th><th>ZERR</th><th>TSNR2_BGS</th><th>MAG_G</th><th>MAG_R</th><th>MAG_Z</th><th>MAG_W1</th><th>FIBMAG_R</th><th>HPIX_64</th><th>provabgs_mcmc [100,13]</th><th>provabgs_theta_bf [13]</th><th>provabgs_z_max</th><th>provabgs_logMstar_bf</th><th>provabgs_logMstar [100]</th><th>SCHLEGEL_COLOR</th><th>provabgs_w_zfail</th><th>provabgs_w_fibassign</th><th>is_bgs_bright</th><th>is_bgs_faint</th></tr></thead>\n",
       "<thead><tr><th>int64</th><th>float64</th><th>float64</th><th>float64</th><th>float64</th><th>float32</th><th>float64</th><th>float64</th><th>float64</th><th>float64</th><th>float64</th><th>int64</th><th>float64</th><th>float64</th><th>float64</th><th>float64</th><th>float64</th><th>float64</th><th>float64</th><th>float64</th><th>bool</th><th>bool</th></tr></thead>\n",
       "<tr><td>39633390185481181</td><td>191.17913199949842</td><td>60.25733587654764</td><td>0.2004070714061304</td><td>nan</td><td>0.0</td><td>-999.0</td><td>-999.0</td><td>-999.0</td><td>-999.0</td><td>-999.0</td><td>-999</td><td>-999.0 .. -999.0</td><td>-999.0 .. -999.0</td><td>-999.0</td><td>-999.0</td><td>-999.0 .. -999.0</td><td>-999.0</td><td>-999.0</td><td>129.0</td><td>False</td><td>False</td></tr>\n",
       "<tr><td>39633390164510024</td><td>188.6998080571996</td><td>60.21175772175424</td><td>0.2004070714061304</td><td>nan</td><td>0.0</td><td>-999.0</td><td>-999.0</td><td>-999.0</td><td>-999.0</td><td>-999.0</td><td>-999</td><td>-999.0 .. -999.0</td><td>-999.0 .. -999.0</td><td>-999.0</td><td>-999.0</td><td>-999.0 .. -999.0</td><td>-999.0</td><td>-999.0</td><td>3.225</td><td>False</td><td>False</td></tr>\n",
       "<tr><td>39633390185480955</td><td>191.14955067198017</td><td>60.34047183206205</td><td>0.2004070714061304</td><td>nan</td><td>0.0</td><td>-999.0</td><td>-999.0</td><td>-999.0</td><td>-999.0</td><td>-999.0</td><td>-999</td><td>-999.0 .. -999.0</td><td>-999.0 .. -999.0</td><td>-999.0</td><td>-999.0</td><td>-999.0 .. -999.0</td><td>-999.0</td><td>-999.0</td><td>129.0</td><td>False</td><td>False</td></tr>\n",
       "<tr><td>39633390185480938</td><td>191.14757099005186</td><td>60.345815959235</td><td>0.2819459922463374</td><td>2.191690764397e-05</td><td>1361.7778</td><td>20.420939956138607</td><td>19.440977833152942</td><td>18.807486906915823</td><td>18.725561063547207</td><td>21.083244145949642</td><td>11226</td><td>11.091623656909688 .. 0.3684622521221414</td><td>11.14249424405227 .. 0.3651476796540595</td><td>0.2891440449335749</td><td>10.894820213317871</td><td>10.848259925842285 .. 10.952618598937988</td><td>0.1059712957858181</td><td>1.0369954283580962</td><td>3.0714285714285716</td><td>True</td><td>False</td></tr>\n",
       "<tr><td>39633416324383107</td><td>187.05117249536465</td><td>62.614542270156655</td><td>0.2703579310142208</td><td>0.00018002802349298926</td><td>1218.0295</td><td>20.876585604498494</td><td>19.373871860075226</td><td>18.567397256862876</td><td>18.32574859422363</td><td>20.212708263179056</td><td>11251</td><td>11.127879812361321 .. 0.6691898790548064</td><td>11.16028636319183 .. 0.6710591095679554</td><td>0.2822033708476234</td><td>10.909546852111816</td><td>10.877055168151855 .. 10.874772071838379</td><td>-0.3616078306686752</td><td>1.0018031916676053</td><td>1.0</td><td>True</td><td>False</td></tr>\n",
       "</table>"
      ],
      "text/plain": [
       "<Table length=5>\n",
       "     TARGETID             RA         ... is_bgs_bright is_bgs_faint\n",
       "      int64            float64       ...      bool         bool    \n",
       "----------------- ------------------ ... ------------- ------------\n",
       "39633390185481181 191.17913199949842 ...         False        False\n",
       "39633390164510024  188.6998080571996 ...         False        False\n",
       "39633390185480955 191.14955067198017 ...         False        False\n",
       "39633390185480938 191.14757099005186 ...          True        False\n",
       "39633416324383107 187.05117249536465 ...          True        False"
      ]
     },
     "execution_count": 7,
     "metadata": {},
     "output_type": "execute_result"
    }
   ],
   "source": [
    "bgs[:5]"
   ]
  },
  {
   "cell_type": "code",
   "execution_count": 8,
   "id": "978b7afb",
   "metadata": {},
   "outputs": [],
   "source": [
    "has_posterior = (bgs['provabgs_z_max'].data != -999.)\n",
    "is_bgs_bright = bgs['is_bgs_bright']\n",
    "is_bgs_faint = bgs['is_bgs_faint']"
   ]
  },
  {
   "cell_type": "code",
   "execution_count": 9,
   "id": "8775fb18",
   "metadata": {},
   "outputs": [
    {
     "name": "stdout",
     "output_type": "stream",
     "text": [
      "143017 BGS Bright galaxies with posteriors\n"
     ]
    }
   ],
   "source": [
    "bgs = bgs[has_posterior & is_bgs_bright]\n",
    "print('%i BGS Bright galaxies with posteriors' % len(bgs))"
   ]
  },
  {
   "cell_type": "markdown",
   "id": "4c56217f",
   "metadata": {},
   "source": [
    "# calculate $V_{\\rm max}$ with *Planck (2013)* cosmology"
   ]
  },
  {
   "cell_type": "code",
   "execution_count": 10,
   "id": "70f59d3a",
   "metadata": {},
   "outputs": [],
   "source": [
    "bgs['Vmax'] = Planck13.comoving_volume(bgs['provabgs_z_max'].data).value * Planck13.h**3 # (Mpc/h)^3"
   ]
  },
  {
   "cell_type": "code",
   "execution_count": 13,
   "id": "9c3b38e5",
   "metadata": {},
   "outputs": [
    {
     "data": {
      "text/plain": [
       "(6.0, 13.0)"
      ]
     },
     "execution_count": 13,
     "metadata": {},
     "output_type": "execute_result"
    },
    {
     "data": {
      "image/png": "[encoded data removed]",
      "text/plain": [
       "<Figure size 576x432 with 1 Axes>"
      ]
     },
     "metadata": {
      "needs_background": "light"
     },
     "output_type": "display_data"
    }
   ],
   "source": [
    "fig = plt.figure(figsize=(8,6))\n",
    "sub = fig.add_subplot(111)\n",
    "sub.scatter(bgs['Z_HP'].data, bgs['provabgs_logMstar_bf'].data, \n",
    "            s=bgs['provabgs_w_zfail'].data * bgs['provabgs_w_fibassign'].data, c='C0', label='BGS Bright')\n",
    "sub.legend(loc='lower right', fontsize=25, markerscale=10, handletextpad=0.1)\n",
    "sub.set_xlabel(r\"redshift ($z$)\", fontsize=25)\n",
    "sub.set_xlim(0., 0.6)\n",
    "sub.set_ylabel(r\"best-fit $\\log M_*$\", fontsize=25)\n",
    "sub.set_ylim(6., 13.)"
   ]
  },
  {
   "cell_type": "code",
   "execution_count": 14,
   "id": "d61a6bef",
   "metadata": {},
   "outputs": [],
   "source": [
    "logM_posteriors = bgs['provabgs_logMstar'].data\n",
    "vmaxes = bgs['Vmax'].data"
   ]
  },
  {
   "cell_type": "code",
   "execution_count": 15,
   "id": "a0a8725e-2882-4282-b8bc-567afda3a2c2",
   "metadata": {},
   "outputs": [
    {
     "data": {
      "text/plain": [
       "(7.0, 12.5)"
      ]
     },
     "execution_count": 15,
     "metadata": {},
     "output_type": "execute_result"
    },
    {
     "data": {
      "image/png": "[encoded data removed]",
      "text/plain": [
       "<Figure size 432x288 with 1 Axes>"
      ]
     },
     "metadata": {
      "needs_background": "light"
     },
     "output_type": "display_data"
    }
   ],
   "source": [
    "for i in np.random.choice(np.arange(logM_posteriors.shape[0]), size=20, replace=False): \n",
    "    plt.hist(logM_posteriors[i,:], bins=5, alpha=0.5, density=True)\n",
    "plt.xlim(7., 12.5)"
   ]
  },
  {
   "cell_type": "markdown",
   "id": "b3bbe49f-82f6-4cea-8749-9fd33582c0ff",
   "metadata": {},
   "source": [
    "# estimate $p(M_* | \\{x_i, z_i \\})$ in $z$ bins --- incorrectly\n",
    "\n",
    "Lets just look at the median of the posteriors"
   ]
  },
  {
   "cell_type": "code",
   "execution_count": 19,
   "id": "7685066a",
   "metadata": {},
   "outputs": [
    {
     "name": "stderr",
     "output_type": "stream",
     "text": [
      "/home/chhahn/.conda/envs/sbi/lib/python3.7/site-packages/ipykernel_launcher.py:10: RuntimeWarning: divide by zero encountered in true_divide\n",
      "  # Remove the CWD from sys.path while we load stuff.\n",
      "/home/chhahn/.conda/envs/sbi/lib/python3.7/site-packages/ipykernel_launcher.py:10: RuntimeWarning: divide by zero encountered in true_divide\n",
      "  # Remove the CWD from sys.path while we load stuff.\n",
      "/home/chhahn/.conda/envs/sbi/lib/python3.7/site-packages/ipykernel_launcher.py:10: RuntimeWarning: divide by zero encountered in true_divide\n",
      "  # Remove the CWD from sys.path while we load stuff.\n"
     ]
    },
    {
     "data": {
      "image/png": "[encoded data removed]",
      "text/plain": [
       "<Figure size 576x432 with 1 Axes>"
      ]
     },
     "metadata": {
      "needs_background": "light"
     },
     "output_type": "display_data"
    }
   ],
   "source": [
    "fig = plt.figure(figsize=(8,6))\n",
    "sub = fig.add_subplot(111)\n",
    "for i, zmin, zmax in zip(range(4), [0., 0.1, 0.2, 0.3], [0.1, 0.2, 0.3, 0.4]):\n",
    "    # Vmax based importance weights\n",
    "    zlim = (bgs['Z_HP'].data > zmin) & (bgs['Z_HP'].data < zmax) & bgs['is_bgs_bright']\n",
    "\n",
    "    v_zmin = Planck13.comoving_volume(zmin).value * Planck13.h**3 # (Mpc/h)^3\n",
    "    v_zmax = Planck13.comoving_volume(zmax).value * Planck13.h**3 # (Mpc/h)^3\n",
    "    \n",
    "    w_import = (v_zmax - v_zmin) / (vmaxes.clip(v_zmin, v_zmax) - v_zmin) \n",
    "    w_import *= bgs['provabgs_w_zfail'].data * bgs['provabgs_w_fibassign']\n",
    "    \n",
    "    _ = sub.hist(np.median(logM_posteriors[zlim], axis=1), bins=40, range=(6., 13.), color='C%i' % i, \n",
    "                 linestyle='--', histtype='step', density=True)\n",
    "    _ = sub.hist(np.median(logM_posteriors[zlim], axis=1), weights=w_import[zlim], bins=40, range=(6., 13.), \n",
    "                 color='C%i' % i, linewidth=2, histtype='step', alpha=0.5, density=True)\n",
    "sub.set_xlabel(r'$\\log M_*$', fontsize=25)\n",
    "sub.set_xlim(6., 13)\n",
    "sub.set_ylabel(r'$p(\\log M_*)$', fontsize=25)\n",
    "sub.set_yscale('log')\n",
    "plt.show()"
   ]
  },
  {
   "cell_type": "markdown",
   "id": "f3a97b3b",
   "metadata": {},
   "source": [
    "# estimate $p(M_* | \\{x_i, z_i \\})$ in $z$ bins --- correctly"
   ]
  },
  {
   "cell_type": "code",
   "execution_count": 20,
   "id": "1eb8d4c1",
   "metadata": {},
   "outputs": [],
   "source": [
    "def normflow(ndim, nhidden, nblocks): \n",
    "    blocks = []\n",
    "    for iblock in range(nblocks): \n",
    "        blocks += [\n",
    "            transforms.MaskedAffineAutoregressiveTransform(\n",
    "                features=ndim, \n",
    "                hidden_features=nhidden, \n",
    "                use_residual_blocks=True)#, transforms.RandomPermutation(features=ndim)\n",
    "        ]\n",
    "    transform = transforms.CompositeTransform(blocks)\n",
    "\n",
    "    # Define a base distribution.\n",
    "    base_distribution = distributions.StandardNormal(shape=[ndim])\n",
    "\n",
    "    # Combine into a flow.\n",
    "    return flows.Flow(transform=transform, distribution=base_distribution)\n",
    "\n",
    "\n",
    "class GaussianMixtureModel(nn.Module):\n",
    "    def __init__(self, n_components: int=2):\n",
    "        super().__init__()\n",
    "        logweights = torch.zeros(n_components, )\n",
    "        means   = torch.randn(n_components, ) + 10.\n",
    "        logstdevs  = 0.1 * torch.tensor(np.random.randn(n_components, ))\n",
    "        self.logweights = torch.nn.Parameter(logweights)\n",
    "        self.means   = torch.nn.Parameter(means)\n",
    "        self.logstdevs  = torch.nn.Parameter(logstdevs)\n",
    "    \n",
    "    def forward(self, x):\n",
    "        mix  = D.Categorical(torch.exp(self.logweights))\n",
    "        comp = D.Normal(self.means, torch.exp(self.logstdevs))\n",
    "        gmm  = D.MixtureSameFamily(mix, comp)\n",
    "        return - gmm.log_prob(x).mean()\n",
    "    \n",
    "    def log_prob(self, x): \n",
    "        mix  = D.Categorical(torch.exp(self.logweights))\n",
    "        comp = D.Normal(self.means, torch.exp(self.logstdevs))\n",
    "        gmm  = D.MixtureSameFamily(mix, comp)\n",
    "        return gmm.log_prob(x)\n",
    "    \n",
    "    def sample(self, N):\n",
    "        mix  = D.Categorical(torch.exp(self.logweights))\n",
    "        comp = D.Normal(self.means, torch.exp(self.logstdevs))\n",
    "        gmm  = D.MixtureSameFamily(mix, comp)\n",
    "        \n",
    "        return gmm.sample(N)\n",
    "    \n",
    "    \n",
    "def Loss(qphi, post, w): \n",
    "    ''' calculate loss\n",
    "    \n",
    "    \\sum_i^Ng w_i * \\log \\sum_j^Ns qphi(\\theta_ij)\n",
    "    \n",
    "    '''\n",
    "    logqphi = qphi.log_prob(post.flatten()[:,None]).reshape(post.shape)\n",
    "\n",
    "    return -torch.sum(w * torch.logsumexp(logqphi, axis=1))  "
   ]
  },
  {
   "cell_type": "code",
   "execution_count": 34,
   "id": "6291a4ae",
   "metadata": {
    "scrolled": true
   },
   "outputs": [
    {
     "name": "stdout",
     "output_type": "stream",
     "text": [
      "GMM with 36 components\n"
     ]
    },
    {
     "name": "stderr",
     "output_type": "stream",
     "text": [
      "/home/chhahn/.conda/envs/sbi/lib/python3.7/site-packages/ipykernel_launcher.py:12: RuntimeWarning: divide by zero encountered in true_divide\n",
      "  if sys.path[0] == '':\n"
     ]
    },
    {
     "data": {
      "application/vnd.jupyter.widget-view+json": {
       "model_id": "41d68c251777472094b6e94e5ccb936f",
       "version_major": 2,
       "version_minor": 0
      },
      "text/plain": [
       "  0%|          | 0/1000 [00:00<?, ?it/s]"
      ]
     },
     "metadata": {},
     "output_type": "display_data"
    },
    {
     "name": "stdout",
     "output_type": "stream",
     "text": [
      ">>>248 \t -7.68809e+00\n",
      "GMM with 17 components\n"
     ]
    },
    {
     "data": {
      "application/vnd.jupyter.widget-view+json": {
       "model_id": "6bd16be0e2bd4e9198faef2094cf4204",
       "version_major": 2,
       "version_minor": 0
      },
      "text/plain": [
       "  0%|          | 0/1000 [00:00<?, ?it/s]"
      ]
     },
     "metadata": {},
     "output_type": "display_data"
    },
    {
     "name": "stdout",
     "output_type": "stream",
     "text": [
      ">>>341 \t -7.70357e+00\n",
      "GMM with 44 components\n"
     ]
    },
    {
     "data": {
      "application/vnd.jupyter.widget-view+json": {
       "model_id": "3ec74861073f469aacc7854dad589c4e",
       "version_major": 2,
       "version_minor": 0
      },
      "text/plain": [
       "  0%|          | 0/1000 [00:00<?, ?it/s]"
      ]
     },
     "metadata": {},
     "output_type": "display_data"
    },
    {
     "name": "stdout",
     "output_type": "stream",
     "text": [
      ">>>238 \t -7.67251e+00\n",
      "GMM with 81 components\n"
     ]
    },
    {
     "data": {
      "application/vnd.jupyter.widget-view+json": {
       "model_id": "44cf822a879442f29fee1e964f121c0b",
       "version_major": 2,
       "version_minor": 0
      },
      "text/plain": [
       "  0%|          | 0/1000 [00:00<?, ?it/s]"
      ]
     },
     "metadata": {},
     "output_type": "display_data"
    },
    {
     "name": "stdout",
     "output_type": "stream",
     "text": [
      ">>>239 \t -7.67040e+00\n",
      "GMM with 44 components\n"
     ]
    },
    {
     "data": {
      "application/vnd.jupyter.widget-view+json": {
       "model_id": "c58ba91c1dbd464d9e4d20b226224cfc",
       "version_major": 2,
       "version_minor": 0
      },
      "text/plain": [
       "  0%|          | 0/1000 [00:00<?, ?it/s]"
      ]
     },
     "metadata": {},
     "output_type": "display_data"
    },
    {
     "name": "stdout",
     "output_type": "stream",
     "text": [
      ">>>245 \t -7.64839e+00\n"
     ]
    },
    {
     "data": {
      "image/png": "[encoded data removed]",
      "text/plain": [
       "<Figure size 432x288 with 1 Axes>"
      ]
     },
     "metadata": {
      "needs_background": "light"
     },
     "output_type": "display_data"
    },
    {
     "name": "stdout",
     "output_type": "stream",
     "text": [
      "GMM with 85 components\n"
     ]
    },
    {
     "name": "stderr",
     "output_type": "stream",
     "text": [
      "/home/chhahn/.conda/envs/sbi/lib/python3.7/site-packages/ipykernel_launcher.py:12: RuntimeWarning: divide by zero encountered in true_divide\n",
      "  if sys.path[0] == '':\n"
     ]
    },
    {
     "data": {
      "application/vnd.jupyter.widget-view+json": {
       "model_id": "952ede3d078944249e2fa12f0ff9fd63",
       "version_major": 2,
       "version_minor": 0
      },
      "text/plain": [
       "  0%|          | 0/1000 [00:00<?, ?it/s]"
      ]
     },
     "metadata": {},
     "output_type": "display_data"
    },
    {
     "name": "stdout",
     "output_type": "stream",
     "text": [
      ">>>202 \t -8.20466e+00\n",
      "GMM with 21 components\n"
     ]
    },
    {
     "data": {
      "application/vnd.jupyter.widget-view+json": {
       "model_id": "5315a8ecc7464b5d976c05b90c756527",
       "version_major": 2,
       "version_minor": 0
      },
      "text/plain": [
       "  0%|          | 0/1000 [00:00<?, ?it/s]"
      ]
     },
     "metadata": {},
     "output_type": "display_data"
    },
    {
     "name": "stdout",
     "output_type": "stream",
     "text": [
      ">>>209 \t -8.20677e+00\n",
      "GMM with 93 components\n"
     ]
    },
    {
     "data": {
      "application/vnd.jupyter.widget-view+json": {
       "model_id": "ffc5a8a2773443639e3277d65d06c290",
       "version_major": 2,
       "version_minor": 0
      },
      "text/plain": [
       "  0%|          | 0/1000 [00:00<?, ?it/s]"
      ]
     },
     "metadata": {},
     "output_type": "display_data"
    },
    {
     "name": "stdout",
     "output_type": "stream",
     "text": [
      ">>>240 \t -8.21913e+00\n",
      "GMM with 71 components\n"
     ]
    },
    {
     "data": {
      "application/vnd.jupyter.widget-view+json": {
       "model_id": "3ad141e8c7b046d0909894e770623287",
       "version_major": 2,
       "version_minor": 0
      },
      "text/plain": [
       "  0%|          | 0/1000 [00:00<?, ?it/s]"
      ]
     },
     "metadata": {},
     "output_type": "display_data"
    },
    {
     "name": "stdout",
     "output_type": "stream",
     "text": [
      ">>>230 \t -8.21819e+00\n",
      "GMM with 87 components\n"
     ]
    },
    {
     "data": {
      "application/vnd.jupyter.widget-view+json": {
       "model_id": "a1472b11c1664485beef5dc097a8fd02",
       "version_major": 2,
       "version_minor": 0
      },
      "text/plain": [
       "  0%|          | 0/1000 [00:00<?, ?it/s]"
      ]
     },
     "metadata": {},
     "output_type": "display_data"
    },
    {
     "name": "stdout",
     "output_type": "stream",
     "text": [
      ">>>240 \t -8.21841e+00\n"
     ]
    },
    {
     "data": {
      "image/png": "[encoded data removed]",
      "text/plain": [
       "<Figure size 432x288 with 1 Axes>"
      ]
     },
     "metadata": {
      "needs_background": "light"
     },
     "output_type": "display_data"
    },
    {
     "name": "stdout",
     "output_type": "stream",
     "text": [
      "GMM with 48 components\n"
     ]
    },
    {
     "name": "stderr",
     "output_type": "stream",
     "text": [
      "/home/chhahn/.conda/envs/sbi/lib/python3.7/site-packages/ipykernel_launcher.py:12: RuntimeWarning: divide by zero encountered in true_divide\n",
      "  if sys.path[0] == '':\n"
     ]
    },
    {
     "data": {
      "application/vnd.jupyter.widget-view+json": {
       "model_id": "0c725fd78857445cbb88ee3bbae62d65",
       "version_major": 2,
       "version_minor": 0
      },
      "text/plain": [
       "  0%|          | 0/1000 [00:00<?, ?it/s]"
      ]
     },
     "metadata": {},
     "output_type": "display_data"
    },
    {
     "name": "stdout",
     "output_type": "stream",
     "text": [
      ">>>219 \t -5.07509e+00\n",
      "GMM with 72 components\n"
     ]
    },
    {
     "data": {
      "application/vnd.jupyter.widget-view+json": {
       "model_id": "b51579271c534eed9f4a2e571bbfff03",
       "version_major": 2,
       "version_minor": 0
      },
      "text/plain": [
       "  0%|          | 0/1000 [00:00<?, ?it/s]"
      ]
     },
     "metadata": {},
     "output_type": "display_data"
    },
    {
     "name": "stdout",
     "output_type": "stream",
     "text": [
      ">>>221 \t -5.07332e+00\n",
      "GMM with 8 components\n"
     ]
    },
    {
     "data": {
      "application/vnd.jupyter.widget-view+json": {
       "model_id": "6be6e757abe14f7ca2303cd73462dff7",
       "version_major": 2,
       "version_minor": 0
      },
      "text/plain": [
       "  0%|          | 0/1000 [00:00<?, ?it/s]"
      ]
     },
     "metadata": {},
     "output_type": "display_data"
    },
    {
     "name": "stdout",
     "output_type": "stream",
     "text": [
      ">>>232 \t -5.07015e+00\n",
      "GMM with 20 components\n"
     ]
    },
    {
     "data": {
      "application/vnd.jupyter.widget-view+json": {
       "model_id": "a6f5b291d88b410393159e6c0df2c587",
       "version_major": 2,
       "version_minor": 0
      },
      "text/plain": [
       "  0%|          | 0/1000 [00:00<?, ?it/s]"
      ]
     },
     "metadata": {},
     "output_type": "display_data"
    },
    {
     "name": "stdout",
     "output_type": "stream",
     "text": [
      ">>>244 \t -5.07269e+00\n",
      "GMM with 55 components\n"
     ]
    },
    {
     "data": {
      "application/vnd.jupyter.widget-view+json": {
       "model_id": "b870038354534edf97207025edec9aeb",
       "version_major": 2,
       "version_minor": 0
      },
      "text/plain": [
       "  0%|          | 0/1000 [00:00<?, ?it/s]"
      ]
     },
     "metadata": {},
     "output_type": "display_data"
    },
    {
     "name": "stdout",
     "output_type": "stream",
     "text": [
      ">>>207 \t -5.06850e+00\n"
     ]
    },
    {
     "data": {
      "image/png": "[encoded data removed]",
      "text/plain": [
       "<Figure size 432x288 with 1 Axes>"
      ]
     },
     "metadata": {
      "needs_background": "light"
     },
     "output_type": "display_data"
    },
    {
     "name": "stdout",
     "output_type": "stream",
     "text": [
      "GMM with 48 components\n"
     ]
    },
    {
     "name": "stderr",
     "output_type": "stream",
     "text": [
      "/home/chhahn/.conda/envs/sbi/lib/python3.7/site-packages/ipykernel_launcher.py:12: RuntimeWarning: divide by zero encountered in true_divide\n",
      "  if sys.path[0] == '':\n"
     ]
    },
    {
     "data": {
      "application/vnd.jupyter.widget-view+json": {
       "model_id": "fcd3c84668b444538439c988595adc49",
       "version_major": 2,
       "version_minor": 0
      },
      "text/plain": [
       "  0%|          | 0/1000 [00:00<?, ?it/s]"
      ]
     },
     "metadata": {},
     "output_type": "display_data"
    },
    {
     "name": "stdout",
     "output_type": "stream",
     "text": [
      ">>>161 \t -5.63256e+00\n",
      "GMM with 5 components\n"
     ]
    },
    {
     "data": {
      "application/vnd.jupyter.widget-view+json": {
       "model_id": "8b9b24cf9feb41029da24728f457ef76",
       "version_major": 2,
       "version_minor": 0
      },
      "text/plain": [
       "  0%|          | 0/1000 [00:00<?, ?it/s]"
      ]
     },
     "metadata": {},
     "output_type": "display_data"
    },
    {
     "name": "stdout",
     "output_type": "stream",
     "text": [
      ">>>187 \t -5.63137e+00\n",
      "GMM with 82 components\n"
     ]
    },
    {
     "data": {
      "application/vnd.jupyter.widget-view+json": {
       "model_id": "8240dd7b733d4b04a2d3c4888f51e1e6",
       "version_major": 2,
       "version_minor": 0
      },
      "text/plain": [
       "  0%|          | 0/1000 [00:00<?, ?it/s]"
      ]
     },
     "metadata": {},
     "output_type": "display_data"
    },
    {
     "name": "stdout",
     "output_type": "stream",
     "text": [
      ">>>162 \t -5.63273e+00\n",
      "GMM with 10 components\n"
     ]
    },
    {
     "data": {
      "application/vnd.jupyter.widget-view+json": {
       "model_id": "acc9e6e65042474ab284e175ce920488",
       "version_major": 2,
       "version_minor": 0
      },
      "text/plain": [
       "  0%|          | 0/1000 [00:00<?, ?it/s]"
      ]
     },
     "metadata": {},
     "output_type": "display_data"
    },
    {
     "name": "stdout",
     "output_type": "stream",
     "text": [
      ">>>169 \t -5.63287e+00\n",
      "GMM with 51 components\n"
     ]
    },
    {
     "data": {
      "application/vnd.jupyter.widget-view+json": {
       "model_id": "3ca9ca4a4d734c85bee7e42b676c7208",
       "version_major": 2,
       "version_minor": 0
      },
      "text/plain": [
       "  0%|          | 0/1000 [00:00<?, ?it/s]"
      ]
     },
     "metadata": {},
     "output_type": "display_data"
    },
    {
     "name": "stdout",
     "output_type": "stream",
     "text": [
      ">>>176 \t -5.63227e+00\n"
     ]
    },
    {
     "data": {
      "image/png": "[encoded data removed]",
      "text/plain": [
       "<Figure size 432x288 with 1 Axes>"
      ]
     },
     "metadata": {
      "needs_background": "light"
     },
     "output_type": "display_data"
    },
    {
     "name": "stdout",
     "output_type": "stream",
     "text": [
      "GMM with 13 components\n"
     ]
    },
    {
     "name": "stderr",
     "output_type": "stream",
     "text": [
      "/home/chhahn/.conda/envs/sbi/lib/python3.7/site-packages/ipykernel_launcher.py:12: RuntimeWarning: divide by zero encountered in true_divide\n",
      "  if sys.path[0] == '':\n"
     ]
    },
    {
     "data": {
      "application/vnd.jupyter.widget-view+json": {
       "model_id": "9d6eeb1a03be4cbd83c3785bd4bc9f4d",
       "version_major": 2,
       "version_minor": 0
      },
      "text/plain": [
       "  0%|          | 0/1000 [00:00<?, ?it/s]"
      ]
     },
     "metadata": {},
     "output_type": "display_data"
    },
    {
     "name": "stdout",
     "output_type": "stream",
     "text": [
      ">>>129 \t -6.35693e+00\n",
      "GMM with 50 components\n"
     ]
    },
    {
     "data": {
      "application/vnd.jupyter.widget-view+json": {
       "model_id": "cb87a2b14c1f4f4cacba32e3e31794c4",
       "version_major": 2,
       "version_minor": 0
      },
      "text/plain": [
       "  0%|          | 0/1000 [00:00<?, ?it/s]"
      ]
     },
     "metadata": {},
     "output_type": "display_data"
    },
    {
     "name": "stdout",
     "output_type": "stream",
     "text": [
      ">>>105 \t -6.36621e+00\n",
      "GMM with 86 components\n"
     ]
    },
    {
     "data": {
      "application/vnd.jupyter.widget-view+json": {
       "model_id": "190b2cab3f37448f9e3810fc16327329",
       "version_major": 2,
       "version_minor": 0
      },
      "text/plain": [
       "  0%|          | 0/1000 [00:00<?, ?it/s]"
      ]
     },
     "metadata": {},
     "output_type": "display_data"
    },
    {
     "name": "stdout",
     "output_type": "stream",
     "text": [
      ">>>105 \t -6.36694e+00\n",
      "GMM with 31 components\n"
     ]
    },
    {
     "data": {
      "application/vnd.jupyter.widget-view+json": {
       "model_id": "affb240561e8466e8ce0ade7ac4f99fa",
       "version_major": 2,
       "version_minor": 0
      },
      "text/plain": [
       "  0%|          | 0/1000 [00:00<?, ?it/s]"
      ]
     },
     "metadata": {},
     "output_type": "display_data"
    },
    {
     "name": "stdout",
     "output_type": "stream",
     "text": [
      ">>>107 \t -6.36176e+00\n",
      "GMM with 57 components\n"
     ]
    },
    {
     "data": {
      "application/vnd.jupyter.widget-view+json": {
       "model_id": "cca9da539ac14d9194111053487cbaa7",
       "version_major": 2,
       "version_minor": 0
      },
      "text/plain": [
       "  0%|          | 0/1000 [00:00<?, ?it/s]"
      ]
     },
     "metadata": {},
     "output_type": "display_data"
    },
    {
     "name": "stdout",
     "output_type": "stream",
     "text": [
      ">>>108 \t -6.35916e+00\n"
     ]
    },
    {
     "data": {
      "image/png": "[encoded data removed]",
      "text/plain": [
       "<Figure size 432x288 with 1 Axes>"
      ]
     },
     "metadata": {
      "needs_background": "light"
     },
     "output_type": "display_data"
    },
    {
     "name": "stdout",
     "output_type": "stream",
     "text": [
      "GMM with 82 components\n"
     ]
    },
    {
     "name": "stderr",
     "output_type": "stream",
     "text": [
      "/home/chhahn/.conda/envs/sbi/lib/python3.7/site-packages/ipykernel_launcher.py:12: RuntimeWarning: divide by zero encountered in true_divide\n",
      "  if sys.path[0] == '':\n"
     ]
    },
    {
     "data": {
      "application/vnd.jupyter.widget-view+json": {
       "model_id": "7152d880efa44456b52342f29792e2f6",
       "version_major": 2,
       "version_minor": 0
      },
      "text/plain": [
       "  0%|          | 0/1000 [00:00<?, ?it/s]"
      ]
     },
     "metadata": {},
     "output_type": "display_data"
    },
    {
     "name": "stdout",
     "output_type": "stream",
     "text": [
      ">>>286 \t -6.48359e+00\n",
      "GMM with 9 components\n"
     ]
    },
    {
     "data": {
      "application/vnd.jupyter.widget-view+json": {
       "model_id": "60f24de216514b968c065e9c9b435ff4",
       "version_major": 2,
       "version_minor": 0
      },
      "text/plain": [
       "  0%|          | 0/1000 [00:00<?, ?it/s]"
      ]
     },
     "metadata": {},
     "output_type": "display_data"
    },
    {
     "name": "stdout",
     "output_type": "stream",
     "text": [
      ">>>232 \t -6.48050e+00\n",
      "GMM with 5 components\n"
     ]
    },
    {
     "data": {
      "application/vnd.jupyter.widget-view+json": {
       "model_id": "8cdc371928e1487196a07b2f1649e7e5",
       "version_major": 2,
       "version_minor": 0
      },
      "text/plain": [
       "  0%|          | 0/1000 [00:00<?, ?it/s]"
      ]
     },
     "metadata": {},
     "output_type": "display_data"
    },
    {
     "name": "stdout",
     "output_type": "stream",
     "text": [
      ">>>478 \t -6.47687e+00\n",
      "GMM with 35 components\n"
     ]
    },
    {
     "data": {
      "application/vnd.jupyter.widget-view+json": {
       "model_id": "d28bb06089584c6ea5bcedb23f61deee",
       "version_major": 2,
       "version_minor": 0
      },
      "text/plain": [
       "  0%|          | 0/1000 [00:00<?, ?it/s]"
      ]
     },
     "metadata": {},
     "output_type": "display_data"
    },
    {
     "name": "stdout",
     "output_type": "stream",
     "text": [
      ">>>285 \t -6.48399e+00\n",
      "GMM with 29 components\n"
     ]
    },
    {
     "data": {
      "application/vnd.jupyter.widget-view+json": {
       "model_id": "c9dea45e55124ed78559f0ab72438b06",
       "version_major": 2,
       "version_minor": 0
      },
      "text/plain": [
       "  0%|          | 0/1000 [00:00<?, ?it/s]"
      ]
     },
     "metadata": {},
     "output_type": "display_data"
    },
    {
     "name": "stdout",
     "output_type": "stream",
     "text": [
      ">>>329 \t -6.48488e+00\n"
     ]
    },
    {
     "data": {
      "image/png": "[encoded data removed]",
      "text/plain": [
       "<Figure size 432x288 with 1 Axes>"
      ]
     },
     "metadata": {
      "needs_background": "light"
     },
     "output_type": "display_data"
    },
    {
     "name": "stdout",
     "output_type": "stream",
     "text": [
      "GMM with 35 components\n"
     ]
    },
    {
     "name": "stderr",
     "output_type": "stream",
     "text": [
      "/home/chhahn/.conda/envs/sbi/lib/python3.7/site-packages/ipykernel_launcher.py:12: RuntimeWarning: divide by zero encountered in true_divide\n",
      "  if sys.path[0] == '':\n"
     ]
    },
    {
     "data": {
      "application/vnd.jupyter.widget-view+json": {
       "model_id": "067e27b787a74876a781968456c838e6",
       "version_major": 2,
       "version_minor": 0
      },
      "text/plain": [
       "  0%|          | 0/1000 [00:00<?, ?it/s]"
      ]
     },
     "metadata": {},
     "output_type": "display_data"
    },
    {
     "name": "stdout",
     "output_type": "stream",
     "text": [
      ">>>264 \t -6.89669e+00\n",
      "GMM with 52 components\n"
     ]
    },
    {
     "data": {
      "application/vnd.jupyter.widget-view+json": {
       "model_id": "e2286f9b2d354e059d32d5c287ff7be9",
       "version_major": 2,
       "version_minor": 0
      },
      "text/plain": [
       "  0%|          | 0/1000 [00:00<?, ?it/s]"
      ]
     },
     "metadata": {},
     "output_type": "display_data"
    },
    {
     "name": "stdout",
     "output_type": "stream",
     "text": [
      ">>>239 \t -6.89764e+00\n",
      "GMM with 8 components\n"
     ]
    },
    {
     "data": {
      "application/vnd.jupyter.widget-view+json": {
       "model_id": "177a5b2f9ac540ac918e87fd311c2c93",
       "version_major": 2,
       "version_minor": 0
      },
      "text/plain": [
       "  0%|          | 0/1000 [00:00<?, ?it/s]"
      ]
     },
     "metadata": {},
     "output_type": "display_data"
    },
    {
     "name": "stdout",
     "output_type": "stream",
     "text": [
      ">>>159 \t -6.88501e+00\n",
      "GMM with 44 components\n"
     ]
    },
    {
     "data": {
      "application/vnd.jupyter.widget-view+json": {
       "model_id": "49e54b7e371441ae8ac2091a0fee7e72",
       "version_major": 2,
       "version_minor": 0
      },
      "text/plain": [
       "  0%|          | 0/1000 [00:00<?, ?it/s]"
      ]
     },
     "metadata": {},
     "output_type": "display_data"
    },
    {
     "name": "stdout",
     "output_type": "stream",
     "text": [
      ">>>270 \t -6.89847e+00\n",
      "GMM with 26 components\n"
     ]
    },
    {
     "data": {
      "application/vnd.jupyter.widget-view+json": {
       "model_id": "eaad123bbfdf49e3ae60db3106a54ad7",
       "version_major": 2,
       "version_minor": 0
      },
      "text/plain": [
       "  0%|          | 0/1000 [00:00<?, ?it/s]"
      ]
     },
     "metadata": {},
     "output_type": "display_data"
    },
    {
     "name": "stdout",
     "output_type": "stream",
     "text": [
      ">>>270 \t -6.89790e+00\n"
     ]
    },
    {
     "data": {
      "image/png": "[encoded data removed]",
      "text/plain": [
       "<Figure size 432x288 with 1 Axes>"
      ]
     },
     "metadata": {
      "needs_background": "light"
     },
     "output_type": "display_data"
    },
    {
     "name": "stdout",
     "output_type": "stream",
     "text": [
      "GMM with 81 components\n"
     ]
    },
    {
     "name": "stderr",
     "output_type": "stream",
     "text": [
      "/home/chhahn/.conda/envs/sbi/lib/python3.7/site-packages/ipykernel_launcher.py:12: RuntimeWarning: divide by zero encountered in true_divide\n",
      "  if sys.path[0] == '':\n"
     ]
    },
    {
     "data": {
      "application/vnd.jupyter.widget-view+json": {
       "model_id": "eb8adfa4bc8d41bd853392ec5ac779d3",
       "version_major": 2,
       "version_minor": 0
      },
      "text/plain": [
       "  0%|          | 0/1000 [00:00<?, ?it/s]"
      ]
     },
     "metadata": {},
     "output_type": "display_data"
    },
    {
     "name": "stdout",
     "output_type": "stream",
     "text": [
      ">>>297 \t -1.02807e+01\n",
      "GMM with 58 components\n"
     ]
    },
    {
     "data": {
      "application/vnd.jupyter.widget-view+json": {
       "model_id": "29d37b7579ee4c59813d5c54d547afbb",
       "version_major": 2,
       "version_minor": 0
      },
      "text/plain": [
       "  0%|          | 0/1000 [00:00<?, ?it/s]"
      ]
     },
     "metadata": {},
     "output_type": "display_data"
    },
    {
     "name": "stdout",
     "output_type": "stream",
     "text": [
      ">>>229 \t -1.02694e+01\n",
      "GMM with 47 components\n"
     ]
    },
    {
     "data": {
      "application/vnd.jupyter.widget-view+json": {
       "model_id": "e055c87f99f346bb96655e3a7ceac325",
       "version_major": 2,
       "version_minor": 0
      },
      "text/plain": [
       "  0%|          | 0/1000 [00:00<?, ?it/s]"
      ]
     },
     "metadata": {},
     "output_type": "display_data"
    },
    {
     "name": "stdout",
     "output_type": "stream",
     "text": [
      ">>>233 \t -1.02679e+01\n",
      "GMM with 60 components\n"
     ]
    },
    {
     "data": {
      "application/vnd.jupyter.widget-view+json": {
       "model_id": "a41302e1909d431cac4683fde81719f6",
       "version_major": 2,
       "version_minor": 0
      },
      "text/plain": [
       "  0%|          | 0/1000 [00:00<?, ?it/s]"
      ]
     },
     "metadata": {},
     "output_type": "display_data"
    },
    {
     "name": "stdout",
     "output_type": "stream",
     "text": [
      ">>>213 \t -1.02667e+01\n",
      "GMM with 10 components\n"
     ]
    },
    {
     "data": {
      "application/vnd.jupyter.widget-view+json": {
       "model_id": "b33d70b093734cc2b3ef46a612f848df",
       "version_major": 2,
       "version_minor": 0
      },
      "text/plain": [
       "  0%|          | 0/1000 [00:00<?, ?it/s]"
      ]
     },
     "metadata": {},
     "output_type": "display_data"
    },
    {
     "name": "stdout",
     "output_type": "stream",
     "text": [
      ">>>225 \t -1.02674e+01\n"
     ]
    },
    {
     "data": {
      "image/png": "[encoded data removed]",
      "text/plain": [
       "<Figure size 432x288 with 1 Axes>"
      ]
     },
     "metadata": {
      "needs_background": "light"
     },
     "output_type": "display_data"
    },
    {
     "name": "stdout",
     "output_type": "stream",
     "text": [
      "GMM with 28 components\n"
     ]
    },
    {
     "name": "stderr",
     "output_type": "stream",
     "text": [
      "/home/chhahn/.conda/envs/sbi/lib/python3.7/site-packages/ipykernel_launcher.py:12: RuntimeWarning: divide by zero encountered in true_divide\n",
      "  if sys.path[0] == '':\n"
     ]
    },
    {
     "data": {
      "application/vnd.jupyter.widget-view+json": {
       "model_id": "3319bb6eb22e48be815e4792e4be1519",
       "version_major": 2,
       "version_minor": 0
      },
      "text/plain": [
       "  0%|          | 0/1000 [00:00<?, ?it/s]"
      ]
     },
     "metadata": {},
     "output_type": "display_data"
    },
    {
     "name": "stdout",
     "output_type": "stream",
     "text": [
      ">>>351 \t -8.17989e+00\n",
      "GMM with 14 components\n"
     ]
    },
    {
     "data": {
      "application/vnd.jupyter.widget-view+json": {
       "model_id": "b397f8f0e5314628ba7e107d18b02203",
       "version_major": 2,
       "version_minor": 0
      },
      "text/plain": [
       "  0%|          | 0/1000 [00:00<?, ?it/s]"
      ]
     },
     "metadata": {},
     "output_type": "display_data"
    },
    {
     "name": "stdout",
     "output_type": "stream",
     "text": [
      ">>>497 \t -8.17908e+00\n",
      "GMM with 26 components\n"
     ]
    },
    {
     "data": {
      "application/vnd.jupyter.widget-view+json": {
       "model_id": "1240583a0f8848dba4fb0e0e57fed394",
       "version_major": 2,
       "version_minor": 0
      },
      "text/plain": [
       "  0%|          | 0/1000 [00:00<?, ?it/s]"
      ]
     },
     "metadata": {},
     "output_type": "display_data"
    },
    {
     "name": "stdout",
     "output_type": "stream",
     "text": [
      ">>>394 \t -8.17942e+00\n",
      "GMM with 82 components\n"
     ]
    },
    {
     "data": {
      "application/vnd.jupyter.widget-view+json": {
       "model_id": "4965843491ea41dc8bba67db8f31c0dc",
       "version_major": 2,
       "version_minor": 0
      },
      "text/plain": [
       "  0%|          | 0/1000 [00:00<?, ?it/s]"
      ]
     },
     "metadata": {},
     "output_type": "display_data"
    },
    {
     "name": "stdout",
     "output_type": "stream",
     "text": [
      ">>>411 \t -8.18204e+00\n",
      "GMM with 51 components\n"
     ]
    },
    {
     "data": {
      "application/vnd.jupyter.widget-view+json": {
       "model_id": "b61636633ff34459b3d8b23cc7b2a0c3",
       "version_major": 2,
       "version_minor": 0
      },
      "text/plain": [
       "  0%|          | 0/1000 [00:00<?, ?it/s]"
      ]
     },
     "metadata": {},
     "output_type": "display_data"
    },
    {
     "name": "stdout",
     "output_type": "stream",
     "text": [
      ">>>530 \t -8.18676e+00\n"
     ]
    },
    {
     "data": {
      "image/png": "[encoded data removed]",
      "text/plain": [
       "<Figure size 432x288 with 1 Axes>"
      ]
     },
     "metadata": {
      "needs_background": "light"
     },
     "output_type": "display_data"
    },
    {
     "name": "stdout",
     "output_type": "stream",
     "text": [
      "GMM with 83 components\n"
     ]
    },
    {
     "name": "stderr",
     "output_type": "stream",
     "text": [
      "/home/chhahn/.conda/envs/sbi/lib/python3.7/site-packages/ipykernel_launcher.py:12: RuntimeWarning: divide by zero encountered in true_divide\n",
      "  if sys.path[0] == '':\n"
     ]
    },
    {
     "data": {
      "application/vnd.jupyter.widget-view+json": {
       "model_id": "0d667a3d157c493bb7b03511d0183160",
       "version_major": 2,
       "version_minor": 0
      },
      "text/plain": [
       "  0%|          | 0/1000 [00:00<?, ?it/s]"
      ]
     },
     "metadata": {},
     "output_type": "display_data"
    },
    {
     "name": "stdout",
     "output_type": "stream",
     "text": [
      ">>>391 \t -7.92027e+00\n",
      "GMM with 76 components\n"
     ]
    },
    {
     "data": {
      "application/vnd.jupyter.widget-view+json": {
       "model_id": "aaa1c3017bda49019a20a7ecd120d5fe",
       "version_major": 2,
       "version_minor": 0
      },
      "text/plain": [
       "  0%|          | 0/1000 [00:00<?, ?it/s]"
      ]
     },
     "metadata": {},
     "output_type": "display_data"
    },
    {
     "name": "stdout",
     "output_type": "stream",
     "text": [
      ">>>406 \t -7.91935e+00\n",
      "GMM with 45 components\n"
     ]
    },
    {
     "data": {
      "application/vnd.jupyter.widget-view+json": {
       "model_id": "13ac167709424e9e8477e829f0ea81c4",
       "version_major": 2,
       "version_minor": 0
      },
      "text/plain": [
       "  0%|          | 0/1000 [00:00<?, ?it/s]"
      ]
     },
     "metadata": {},
     "output_type": "display_data"
    },
    {
     "name": "stdout",
     "output_type": "stream",
     "text": [
      ">>>402 \t -7.92118e+00\n",
      "GMM with 49 components\n"
     ]
    },
    {
     "data": {
      "application/vnd.jupyter.widget-view+json": {
       "model_id": "f0dbb5876e554b01a0dc8a79f644d892",
       "version_major": 2,
       "version_minor": 0
      },
      "text/plain": [
       "  0%|          | 0/1000 [00:00<?, ?it/s]"
      ]
     },
     "metadata": {},
     "output_type": "display_data"
    },
    {
     "name": "stdout",
     "output_type": "stream",
     "text": [
      ">>>361 \t -7.92048e+00\n",
      "GMM with 26 components\n"
     ]
    },
    {
     "data": {
      "application/vnd.jupyter.widget-view+json": {
       "model_id": "db21b3e6187b45848d6285951d5b6f43",
       "version_major": 2,
       "version_minor": 0
      },
      "text/plain": [
       "  0%|          | 0/1000 [00:00<?, ?it/s]"
      ]
     },
     "metadata": {},
     "output_type": "display_data"
    },
    {
     "name": "stdout",
     "output_type": "stream",
     "text": [
      ">>>381 \t -7.91751e+00\n"
     ]
    },
    {
     "data": {
      "image/png": "[encoded data removed]",
      "text/plain": [
       "<Figure size 432x288 with 1 Axes>"
      ]
     },
     "metadata": {
      "needs_background": "light"
     },
     "output_type": "display_data"
    }
   ],
   "source": [
    "zmins = [0.01 + 0.04 * i for i in range(10)]\n",
    "zmaxs = [0.01 + 0.04 * (i+1) for i in range(10)]\n",
    "\n",
    "best_models_z = [] \n",
    "for zmin, zmax in zip(zmins, zmaxs):\n",
    "    # Vmax based importance weights\n",
    "    zlim = (bgs['Z_HP'].data > zmin) & (bgs['Z_HP'].data < zmax)\n",
    "\n",
    "    v_zmin = Planck13.comoving_volume(zmin).value * Planck13.h**3 # (Mpc/h)^3\n",
    "    v_zmax = Planck13.comoving_volume(zmax).value * Planck13.h**3 # (Mpc/h)^3\n",
    "    \n",
    "    w_import = (v_zmax - v_zmin) / (vmaxes.clip(v_zmin, v_zmax) - v_zmin) \n",
    "    w_import *= bgs['provabgs_w_zfail'].data * bgs['provabgs_w_fibassign']\n",
    "    \n",
    "    x_data = torch.tensor(logM_posteriors[zlim].astype(np.float32)).to(device)\n",
    "    w_data = torch.tensor(w_import[zlim].astype(np.float32)).to(device)\n",
    "    \n",
    "    batch_size = 128\n",
    "    Ntrain = int(0.9 * x_data.shape[0])\n",
    "    Nvalid = x_data.shape[0] - Ntrain # int(0.1 * x_data.shape[0])\n",
    "\n",
    "    trainloader = torch.utils.data.DataLoader(\n",
    "            torch.utils.data.TensorDataset(x_data[:Ntrain], w_data[:Ntrain]),\n",
    "            batch_size=batch_size,\n",
    "            shuffle=True)\n",
    "\n",
    "    validloader = torch.utils.data.DataLoader(\n",
    "            torch.utils.data.TensorDataset(x_data[Ntrain:], w_data[Ntrain:]),\n",
    "            batch_size=batch_size)\n",
    "    \n",
    "    lr = 1e-3\n",
    "    num_iter = 1000\n",
    "    patience = 20\n",
    "\n",
    "    fig = plt.figure(figsize=(6,4))\n",
    "    sub = fig.add_subplot(111)\n",
    "    \n",
    "    _ = sub.hist(np.median(logM_posteriors[zlim], axis=1), \n",
    "             weights=w_import[zlim]*10000./np.sum(w_import[zlim]), \n",
    "             range=(7., 13.), bins=40, histtype='step', \n",
    "             color='k', linestyle='--', linewidth=2)\n",
    "    \n",
    "    best_flows, best_valid_losses, vls = [], [], []\n",
    "    for i in range(5): \n",
    "        ncomp = int(np.random.uniform(5, 100))\n",
    "        flow = GaussianMixtureModel(n_components=ncomp)\n",
    "        flow.to(device)\n",
    "        print('GMM with %i components' % ncomp)\n",
    "\n",
    "        # parameters = [weights, means, stdevs]\n",
    "        optimizer = optim.Adam(flow.parameters(), lr=lr)\n",
    "        scheduler = optim.lr_scheduler.OneCycleLR(optimizer, lr, total_steps=num_iter)\n",
    "\n",
    "        best_epoch, best_valid_loss = 0, np.inf\n",
    "        valid_losses = []\n",
    "\n",
    "        t = trange(num_iter, leave=False)\n",
    "        for epoch in t:\n",
    "            train_loss = 0.\n",
    "            for batch in trainloader: \n",
    "                optimizer.zero_grad()\n",
    "                _post, _w = batch\n",
    "                _post = _post.to(device)\n",
    "                _w = _w.to(device)\n",
    "\n",
    "                loss = Loss(flow, _post, _w)\n",
    "                loss.backward()\n",
    "                train_loss += loss.item()\n",
    "                optimizer.step()\n",
    "            train_loss /= len(trainloader.dataset)\n",
    "\n",
    "            with torch.no_grad():\n",
    "                valid_loss = 0.\n",
    "                for batch in validloader: \n",
    "                    _post, _w = batch\n",
    "                    _post = _post.to(device)\n",
    "                    _w = _w.to(device)\n",
    "\n",
    "                    loss = Loss(flow, _post, _w)                \n",
    "                    valid_loss += loss.item()\n",
    "                valid_loss /= len(validloader.dataset)           \n",
    "                valid_losses.append(valid_loss)\n",
    "\n",
    "            scheduler.step()\n",
    "\n",
    "            t.set_description('Epoch: %i TRAINING Loss: %.2e VALIDATION Loss: %.2e' % \n",
    "                              (epoch, train_loss, valid_loss), refresh=False)\n",
    "\n",
    "            if valid_loss < best_valid_loss: \n",
    "                best_valid_loss = valid_loss\n",
    "                best_epoch = epoch\n",
    "                best_flow = copy.deepcopy(flow)\n",
    "            else: \n",
    "                if best_epoch < epoch - patience: \n",
    "                    print('>>>%i \\t %.5e' % (epoch, best_valid_loss))\n",
    "                    break\n",
    "            \n",
    "        with torch.no_grad(): \n",
    "            post_prime = best_flow.sample((10000,))\n",
    "            _ = sub.hist(np.array(post_prime.detach().cpu()), range=(7., 13.), bins=40, histtype='step', linewidth=2)\n",
    "\n",
    "        best_flows.append(best_flow)\n",
    "        best_valid_losses.append(best_valid_loss)\n",
    "        vls.append(valid_losses)\n",
    "        \n",
    "    sub.set_xlabel(r'$\\log M_*$', fontsize=25)\n",
    "    sub.set_xlim(7., 13.)\n",
    "    sub.set_ylabel(r'$p(\\log M_*)$', fontsize=25)\n",
    "    sub.set_yscale('log')\n",
    "    plt.show()\n",
    "    \n",
    "    ibest = np.argmin(best_valid_losses)\n",
    "    best_models_z.append(best_flows[ibest])"
   ]
  },
  {
   "cell_type": "code",
   "execution_count": 39,
   "id": "9ffbd710",
   "metadata": {},
   "outputs": [
    {
     "name": "stderr",
     "output_type": "stream",
     "text": [
      "/home/chhahn/.conda/envs/sbi/lib/python3.7/site-packages/ipykernel_launcher.py:10: RuntimeWarning: divide by zero encountered in true_divide\n",
      "  # Remove the CWD from sys.path while we load stuff.\n",
      "/home/chhahn/.conda/envs/sbi/lib/python3.7/site-packages/ipykernel_launcher.py:10: RuntimeWarning: divide by zero encountered in true_divide\n",
      "  # Remove the CWD from sys.path while we load stuff.\n",
      "/home/chhahn/.conda/envs/sbi/lib/python3.7/site-packages/ipykernel_launcher.py:10: RuntimeWarning: divide by zero encountered in true_divide\n",
      "  # Remove the CWD from sys.path while we load stuff.\n",
      "/home/chhahn/.conda/envs/sbi/lib/python3.7/site-packages/ipykernel_launcher.py:10: RuntimeWarning: divide by zero encountered in true_divide\n",
      "  # Remove the CWD from sys.path while we load stuff.\n",
      "/home/chhahn/.conda/envs/sbi/lib/python3.7/site-packages/ipykernel_launcher.py:10: RuntimeWarning: divide by zero encountered in true_divide\n",
      "  # Remove the CWD from sys.path while we load stuff.\n"
     ]
    },
    {
     "data": {
      "image/png": "[encoded data removed]",
      "text/plain": [
       "<Figure size 576x432 with 1 Axes>"
      ]
     },
     "metadata": {
      "needs_background": "light"
     },
     "output_type": "display_data"
    }
   ],
   "source": [
    "fig = plt.figure(figsize=(8,6))\n",
    "sub = fig.add_subplot(111)\n",
    "for i, zmin, zmax in zip(range(5), zmins, zmaxs):\n",
    "    # Vmax based importance weights\n",
    "    zlim = (bgs['Z_HP'].data > zmin) & (bgs['Z_HP'].data < zmax)\n",
    "\n",
    "    v_zmin = Planck13.comoving_volume(zmin).value * Planck13.h**3 # (Mpc/h)^3\n",
    "    v_zmax = Planck13.comoving_volume(zmax).value * Planck13.h**3 # (Mpc/h)^3\n",
    "    \n",
    "    w_import = (v_zmax - v_zmin) / (vmaxes.clip(v_zmin, v_zmax) - v_zmin) \n",
    "    w_import *= bgs['provabgs_w_zfail'].data * bgs['provabgs_w_fibassign']\n",
    "    \n",
    "    psmf_model = best_models_z[i] \n",
    "    #torch.load(os.path.join(dat_dir, 'psmf.gmm.bgs_bright.z%.1f_%.1f.1.pt' % (zmin, zmax)), map_location=device)\n",
    "    with torch.no_grad(): \n",
    "        post_prime = psmf_model.sample((10000,))\n",
    "    \n",
    "    _ = sub.hist(np.median(logM_posteriors[zlim], axis=1), \n",
    "                 weights=w_import[zlim]*10000./np.sum(w_import[zlim]), \n",
    "                 range=(6., 13.), bins=40, histtype='step', \n",
    "                 color='k', linestyle='--', linewidth=1) \n",
    "    \n",
    "    _ = sub.hist(np.array(post_prime.detach().cpu()), range=(6., 13.), bins=40, \n",
    "                 color='C%i' % i, histtype='step', linewidth=2)\n",
    "    sub.plot([], [], c='C%i' % i, label='$%.2f < z < %.2f$' % (zmin, zmax))\n",
    "\n",
    "sub.legend(loc='lower left', fontsize=20)\n",
    "sub.set_xlabel(r'$\\log M_*$', fontsize=25)\n",
    "sub.set_xlim(6., 13.)\n",
    "sub.set_ylabel(r'$p(\\log M_*)$', fontsize=25)\n",
    "sub.set_yscale('log')\n",
    "plt.show()"
   ]
  },
  {
   "cell_type": "markdown",
   "id": "5f81c415",
   "metadata": {},
   "source": [
    "# save pSMF files"
   ]
  },
  {
   "cell_type": "code",
   "execution_count": 40,
   "id": "f2f13d3e",
   "metadata": {},
   "outputs": [],
   "source": [
    "for best_model, zmin, zmax in zip(best_models_z[:8], zmins, zmaxs): \n",
    "    torch.save(best_model, os.path.join(dat_dir, 'psmf.gmm.bgs_bright.z%.2f_%.2f.best.pt' % (zmin, zmax)))"
   ]
  },
  {
   "cell_type": "code",
   "execution_count": null,
   "id": "f37a7571",
   "metadata": {},
   "outputs": [],
   "source": []
  }
 ],
 "metadata": {
  "kernelspec": {
   "display_name": "sbi",
   "language": "python",
   "name": "sbi"
  },
  "language_info": {
   "codemirror_mode": {
    "name": "ipython",
    "version": 3
   },
   "file_extension": ".py",
   "mimetype": "text/x-python",
   "name": "python",
   "nbconvert_exporter": "python",
   "pygments_lexer": "ipython3",
   "version": "3.7.10"
  }
 },
 "nbformat": 4,
 "nbformat_minor": 5
}
