{
 "cells": [
  {
   "cell_type": "markdown",
   "id": "a4423297-7c6a-415b-b3d9-e30fa09a80a4",
   "metadata": {},
   "source": [
    "$$\\log p(\\phi | \\{x_i\\}) \\approx \\prod\\limits_{i=1}^N \\frac{1}{S_i} \\sum\\limits_{j=1}^{S_i} p(\\theta_{ij} | \\phi)$$\n",
    "\n",
    "For normalizing flows \n",
    "$$p(\\theta_{ij} | \\phi) = q_\\phi(\\theta_{ij})$$\n",
    "\n",
    "Then a MAP solution for $\\phi$ can be obtained by maximizing $\\log p(\\phi | \\{ x_i \\})$, which is equivalent to maximizing\n",
    "$$\\sum_{i=1}^N \\log \\sum\\limits_{j=1}^S q_\\phi(\\theta_{ij})$$\n"
   ]
  },
  {
   "cell_type": "code",
   "execution_count": 1,
   "id": "dae0cfff-d41c-40c8-ba76-a7b9652df31c",
   "metadata": {},
   "outputs": [],
   "source": [
    "import os\n",
    "import h5py \n",
    "import numpy as np\n",
    "import fitsio\n",
    "from tqdm.auto import trange\n",
    "import astropy.table as aTable\n",
    "from astropy.cosmology import Planck13"
   ]
  },
  {
   "cell_type": "code",
   "execution_count": 2,
   "id": "0ce04eb8-8555-410e-b933-bfa1a79d1007",
   "metadata": {},
   "outputs": [],
   "source": [
    "import copy\n",
    "#from nflows import transforms, distributions, flows\n",
    "import torch\n",
    "from torch import nn\n",
    "from torch import optim\n",
    "import torch.distributions as D"
   ]
  },
  {
   "cell_type": "code",
   "execution_count": 3,
   "id": "c06eb997-3dfa-45b7-8a3e-b5d742013277",
   "metadata": {},
   "outputs": [],
   "source": [
    "# -- plotting -- \n",
    "import matplotlib as mpl\n",
    "import matplotlib.pyplot as plt\n",
    "mpl.rcParams['text.usetex'] = True\n",
    "mpl.rcParams['font.family'] = 'serif'\n",
    "mpl.rcParams['axes.linewidth'] = 1.5\n",
    "mpl.rcParams['axes.xmargin'] = 1\n",
    "mpl.rcParams['xtick.labelsize'] = 'x-large'\n",
    "mpl.rcParams['xtick.major.size'] = 5\n",
    "mpl.rcParams['xtick.major.width'] = 1.5\n",
    "mpl.rcParams['ytick.labelsize'] = 'x-large'\n",
    "mpl.rcParams['ytick.major.size'] = 5\n",
    "mpl.rcParams['ytick.major.width'] = 1.5\n",
    "mpl.rcParams['legend.frameon'] = False"
   ]
  },
  {
   "cell_type": "code",
   "execution_count": 4,
   "id": "efd90248-edb2-48ac-89be-283b9fdfef30",
   "metadata": {},
   "outputs": [],
   "source": [
    "dat_dir = '/tigress/chhahn/provabgs/svda'"
   ]
  },
  {
   "cell_type": "code",
   "execution_count": 5,
   "id": "3c351bf1-3eee-4848-8fb8-cdc70d153997",
   "metadata": {},
   "outputs": [],
   "source": [
    "if torch.cuda.is_available(): \n",
    "    device = torch.device(type='cuda', index=0)\n",
    "else: \n",
    "    device = 'cpu'"
   ]
  },
  {
   "cell_type": "markdown",
   "id": "5a11b7bd-a54d-471f-9069-e11951977292",
   "metadata": {},
   "source": [
    "# compile $M_*$ posteriors"
   ]
  },
  {
   "cell_type": "code",
   "execution_count": 6,
   "id": "ea147835",
   "metadata": {},
   "outputs": [],
   "source": [
    "bgs = aTable.Table.read(os.path.join(dat_dir, 'BGS_ANY_full.provabgs.hdf5'))"
   ]
  },
  {
   "cell_type": "code",
   "execution_count": 7,
   "id": "7f5aa016",
   "metadata": {},
   "outputs": [
    {
     "data": {
      "text/html": [
       "<i>Table length=5</i>\n",
       "<table id=\"table23139459200080\" class=\"table-striped table-bordered table-condensed\">\n",
       "<thead><tr><th>TARGETID</th><th>RA</th><th>DEC</th><th>Z_HP</th><th>ZERR</th><th>TSNR2_BGS</th><th>MAG_G</th><th>MAG_R</th><th>MAG_Z</th><th>MAG_W1</th><th>FIBMAG_R</th><th>HPIX_64</th><th>provabgs_mcmc [100,13]</th><th>provabgs_theta_bf [13]</th><th>provabgs_z_max</th><th>provabgs_logMstar_bf</th><th>provabgs_logMstar [100]</th><th>SCHLEGEL_COLOR</th><th>provabgs_w_zfail</th><th>provabgs_w_fibassign</th><th>is_bgs_bright</th><th>is_bgs_faint</th></tr></thead>\n",
       "<thead><tr><th>int64</th><th>float64</th><th>float64</th><th>float64</th><th>float64</th><th>float32</th><th>float64</th><th>float64</th><th>float64</th><th>float64</th><th>float64</th><th>int64</th><th>float64</th><th>float64</th><th>float64</th><th>float64</th><th>float64</th><th>float64</th><th>float64</th><th>float64</th><th>bool</th><th>bool</th></tr></thead>\n",
       "<tr><td>39633390185481181</td><td>191.17913199949842</td><td>60.25733587654764</td><td>0.2004070714061304</td><td>nan</td><td>0.0</td><td>-999.0</td><td>-999.0</td><td>-999.0</td><td>-999.0</td><td>-999.0</td><td>-999</td><td>-999.0 .. -999.0</td><td>-999.0 .. -999.0</td><td>-999.0</td><td>-999.0</td><td>-999.0 .. -999.0</td><td>-999.0</td><td>-999.0</td><td>129.0</td><td>False</td><td>False</td></tr>\n",
       "<tr><td>39633390164510024</td><td>188.6998080571996</td><td>60.21175772175424</td><td>0.2004070714061304</td><td>nan</td><td>0.0</td><td>-999.0</td><td>-999.0</td><td>-999.0</td><td>-999.0</td><td>-999.0</td><td>-999</td><td>-999.0 .. -999.0</td><td>-999.0 .. -999.0</td><td>-999.0</td><td>-999.0</td><td>-999.0 .. -999.0</td><td>-999.0</td><td>-999.0</td><td>3.225</td><td>False</td><td>False</td></tr>\n",
       "<tr><td>39633390185480955</td><td>191.14955067198017</td><td>60.34047183206205</td><td>0.2004070714061304</td><td>nan</td><td>0.0</td><td>-999.0</td><td>-999.0</td><td>-999.0</td><td>-999.0</td><td>-999.0</td><td>-999</td><td>-999.0 .. -999.0</td><td>-999.0 .. -999.0</td><td>-999.0</td><td>-999.0</td><td>-999.0 .. -999.0</td><td>-999.0</td><td>-999.0</td><td>129.0</td><td>False</td><td>False</td></tr>\n",
       "<tr><td>39633390185480938</td><td>191.14757099005186</td><td>60.345815959235</td><td>0.2819459922463374</td><td>2.191690764397e-05</td><td>1361.7778</td><td>20.420939956138607</td><td>19.440977833152942</td><td>18.807486906915823</td><td>18.725561063547207</td><td>21.083244145949642</td><td>11226</td><td>11.091623656909688 .. 0.3684622521221414</td><td>11.14249424405227 .. 0.3651476796540595</td><td>0.2891440449335749</td><td>10.894820213317871</td><td>10.848259925842285 .. 10.952618598937988</td><td>0.1059712957858181</td><td>1.0369954283580962</td><td>3.0714285714285716</td><td>True</td><td>False</td></tr>\n",
       "<tr><td>39633416324383107</td><td>187.05117249536465</td><td>62.614542270156655</td><td>0.2703579310142208</td><td>0.00018002802349298926</td><td>1218.0295</td><td>20.876585604498494</td><td>19.373871860075226</td><td>18.567397256862876</td><td>18.32574859422363</td><td>20.212708263179056</td><td>11251</td><td>11.127879812361321 .. 0.6691898790548064</td><td>11.16028636319183 .. 0.6710591095679554</td><td>0.2822033708476234</td><td>10.909546852111816</td><td>10.877055168151855 .. 10.874772071838379</td><td>-0.3616078306686752</td><td>1.0018031916676053</td><td>1.0</td><td>True</td><td>False</td></tr>\n",
       "</table>"
      ],
      "text/plain": [
       "<Table length=5>\n",
       "     TARGETID             RA         ... is_bgs_bright is_bgs_faint\n",
       "      int64            float64       ...      bool         bool    \n",
       "----------------- ------------------ ... ------------- ------------\n",
       "39633390185481181 191.17913199949842 ...         False        False\n",
       "39633390164510024  188.6998080571996 ...         False        False\n",
       "39633390185480955 191.14955067198017 ...         False        False\n",
       "39633390185480938 191.14757099005186 ...          True        False\n",
       "39633416324383107 187.05117249536465 ...          True        False"
      ]
     },
     "execution_count": 7,
     "metadata": {},
     "output_type": "execute_result"
    }
   ],
   "source": [
    "bgs[:5]"
   ]
  },
  {
   "cell_type": "code",
   "execution_count": 8,
   "id": "978b7afb",
   "metadata": {},
   "outputs": [],
   "source": [
    "has_posterior = (bgs['provabgs_z_max'].data != -999.)\n",
    "is_bgs_bright = bgs['is_bgs_bright']\n",
    "is_bgs_faint = bgs['is_bgs_faint']"
   ]
  },
  {
   "cell_type": "code",
   "execution_count": 9,
   "id": "8775fb18",
   "metadata": {},
   "outputs": [
    {
     "name": "stdout",
     "output_type": "stream",
     "text": [
      "143017 BGS Bright galaxies with posteriors\n"
     ]
    }
   ],
   "source": [
    "bgs = bgs[has_posterior & is_bgs_bright]\n",
    "print('%i BGS Bright galaxies with posteriors' % len(bgs))"
   ]
  },
  {
   "cell_type": "markdown",
   "id": "4c56217f",
   "metadata": {},
   "source": [
    "# calculate $V_{\\rm max}$ with *Planck (2013)* cosmology"
   ]
  },
  {
   "cell_type": "code",
   "execution_count": 20,
   "id": "70f59d3a",
   "metadata": {},
   "outputs": [],
   "source": [
    "f_area = (173.641/(4.*np.pi*(180/np.pi)**2))\n",
    "bgs['Vmax'] = Planck13.comoving_volume(bgs['provabgs_z_max'].data).value * Planck13.h**3 * f_area # (Mpc/h)^3"
   ]
  },
  {
   "cell_type": "code",
   "execution_count": 12,
   "id": "9c3b38e5",
   "metadata": {},
   "outputs": [
    {
     "data": {
      "text/plain": [
       "(6.0, 13.0)"
      ]
     },
     "execution_count": 12,
     "metadata": {},
     "output_type": "execute_result"
    },
    {
     "data": {
      "image/png": "[encoded data removed]",
      "text/plain": [
       "<Figure size 576x432 with 1 Axes>"
      ]
     },
     "metadata": {
      "needs_background": "light"
     },
     "output_type": "display_data"
    }
   ],
   "source": [
    "fig = plt.figure(figsize=(8,6))\n",
    "sub = fig.add_subplot(111)\n",
    "sub.scatter(bgs['Z_HP'].data, bgs['provabgs_logMstar_bf'].data, \n",
    "            s=bgs['provabgs_w_zfail'].data * bgs['provabgs_w_fibassign'].data, c='C0', label='BGS Bright')\n",
    "sub.legend(loc='lower right', fontsize=25, markerscale=10, handletextpad=0.1)\n",
    "sub.set_xlabel(r\"redshift ($z$)\", fontsize=25)\n",
    "sub.set_xlim(0., 0.6)\n",
    "sub.set_ylabel(r\"best-fit $\\log M_*$\", fontsize=25)\n",
    "sub.set_ylim(6., 13.)"
   ]
  },
  {
   "cell_type": "code",
   "execution_count": 13,
   "id": "d61a6bef",
   "metadata": {},
   "outputs": [],
   "source": [
    "logM_posteriors = bgs['provabgs_logMstar'].data\n",
    "vmaxes = bgs['Vmax'].data"
   ]
  },
  {
   "cell_type": "code",
   "execution_count": 14,
   "id": "a0a8725e-2882-4282-b8bc-567afda3a2c2",
   "metadata": {},
   "outputs": [
    {
     "data": {
      "text/plain": [
       "(7.0, 12.5)"
      ]
     },
     "execution_count": 14,
     "metadata": {},
     "output_type": "execute_result"
    },
    {
     "data": {
      "image/png": "[encoded data removed]",
      "text/plain": [
       "<Figure size 432x288 with 1 Axes>"
      ]
     },
     "metadata": {
      "needs_background": "light"
     },
     "output_type": "display_data"
    }
   ],
   "source": [
    "for i in np.random.choice(np.arange(logM_posteriors.shape[0]), size=20, replace=False): \n",
    "    plt.hist(logM_posteriors[i,:], bins=5, alpha=0.5, density=True)\n",
    "plt.xlim(7., 12.5)"
   ]
  },
  {
   "cell_type": "markdown",
   "id": "b3bbe49f-82f6-4cea-8749-9fd33582c0ff",
   "metadata": {},
   "source": [
    "# estimate $p(M_* | \\{x_i, z_i \\})$ in $z$ bins --- incorrectly\n",
    "\n",
    "Lets just look at the median of the posteriors"
   ]
  },
  {
   "cell_type": "code",
   "execution_count": 21,
   "id": "7685066a",
   "metadata": {},
   "outputs": [
    {
     "name": "stderr",
     "output_type": "stream",
     "text": [
      "/home/chhahn/.conda/envs/sbi/lib/python3.7/site-packages/ipykernel_launcher.py:10: RuntimeWarning: divide by zero encountered in true_divide\n",
      "  # Remove the CWD from sys.path while we load stuff.\n",
      "/home/chhahn/.conda/envs/sbi/lib/python3.7/site-packages/ipykernel_launcher.py:10: RuntimeWarning: divide by zero encountered in true_divide\n",
      "  # Remove the CWD from sys.path while we load stuff.\n",
      "/home/chhahn/.conda/envs/sbi/lib/python3.7/site-packages/ipykernel_launcher.py:10: RuntimeWarning: divide by zero encountered in true_divide\n",
      "  # Remove the CWD from sys.path while we load stuff.\n"
     ]
    },
    {
     "data": {
      "image/png": "[encoded data removed]",
      "text/plain": [
       "<Figure size 576x432 with 1 Axes>"
      ]
     },
     "metadata": {
      "needs_background": "light"
     },
     "output_type": "display_data"
    }
   ],
   "source": [
    "fig = plt.figure(figsize=(8,6))\n",
    "sub = fig.add_subplot(111)\n",
    "for i, zmin, zmax in zip(range(4), [0., 0.1, 0.2, 0.3], [0.1, 0.2, 0.3, 0.4]):\n",
    "    # Vmax based importance weights\n",
    "    zlim = (bgs['Z_HP'].data > zmin) & (bgs['Z_HP'].data < zmax) & bgs['is_bgs_bright']\n",
    "\n",
    "    v_zmin = Planck13.comoving_volume(zmin).value * Planck13.h**3 * f_area # (Mpc/h)^3\n",
    "    v_zmax = Planck13.comoving_volume(zmax).value * Planck13.h**3 * f_area # (Mpc/h)^3\n",
    "    \n",
    "    w_import = (v_zmax - v_zmin) / (vmaxes.clip(v_zmin, v_zmax) - v_zmin) \n",
    "    w_import *= bgs['provabgs_w_zfail'].data * bgs['provabgs_w_fibassign']\n",
    "    \n",
    "    _ = sub.hist(np.median(logM_posteriors[zlim], axis=1), bins=40, range=(6., 13.), color='C%i' % i, \n",
    "                 linestyle='--', histtype='step', density=True)\n",
    "    _ = sub.hist(np.median(logM_posteriors[zlim], axis=1), weights=w_import[zlim], bins=40, range=(6., 13.), \n",
    "                 color='C%i' % i, linewidth=2, histtype='step', alpha=0.5, density=True)\n",
    "sub.set_xlabel(r'$\\log M_*$', fontsize=25)\n",
    "sub.set_xlim(6., 13)\n",
    "sub.set_ylabel(r'$p(\\log M_*)$', fontsize=25)\n",
    "sub.set_yscale('log')\n",
    "plt.show()"
   ]
  },
  {
   "cell_type": "markdown",
   "id": "f3a97b3b",
   "metadata": {},
   "source": [
    "# estimate $p(M_* | \\{x_i, z_i \\})$ in $z$ bins --- correctly"
   ]
  },
  {
   "cell_type": "code",
   "execution_count": 22,
   "id": "1eb8d4c1",
   "metadata": {},
   "outputs": [],
   "source": [
    "# def normflow(ndim, nhidden, nblocks): \n",
    "#     blocks = []\n",
    "#     for iblock in range(nblocks): \n",
    "#         blocks += [\n",
    "#             transforms.MaskedAffineAutoregressiveTransform(\n",
    "#                 features=ndim, \n",
    "#                 hidden_features=nhidden, \n",
    "#                 use_residual_blocks=True)#, transforms.RandomPermutation(features=ndim)\n",
    "#         ]\n",
    "#     transform = transforms.CompositeTransform(blocks)\n",
    "\n",
    "#     # Define a base distribution.\n",
    "#     base_distribution = distributions.StandardNormal(shape=[ndim])\n",
    "\n",
    "#     # Combine into a flow.\n",
    "#     return flows.Flow(transform=transform, distribution=base_distribution)\n",
    "\n",
    "\n",
    "class GaussianMixtureModel(nn.Module):\n",
    "    def __init__(self, n_components: int=2):\n",
    "        super().__init__()\n",
    "        logweights = torch.zeros(n_components, )\n",
    "        means   = torch.randn(n_components, ) + 10.\n",
    "        logstdevs  = 0.1 * torch.tensor(np.random.randn(n_components, ))\n",
    "        self.logweights = torch.nn.Parameter(logweights)\n",
    "        self.means   = torch.nn.Parameter(means)\n",
    "        self.logstdevs  = torch.nn.Parameter(logstdevs)\n",
    "    \n",
    "    def forward(self, x):\n",
    "        mix  = D.Categorical(torch.exp(self.logweights))\n",
    "        comp = D.Normal(self.means, torch.exp(self.logstdevs))\n",
    "        gmm  = D.MixtureSameFamily(mix, comp)\n",
    "        return - gmm.log_prob(x).mean()\n",
    "    \n",
    "    def log_prob(self, x): \n",
    "        mix  = D.Categorical(torch.exp(self.logweights))\n",
    "        comp = D.Normal(self.means, torch.exp(self.logstdevs))\n",
    "        gmm  = D.MixtureSameFamily(mix, comp)\n",
    "        return gmm.log_prob(x)\n",
    "    \n",
    "    def sample(self, N):\n",
    "        mix  = D.Categorical(torch.exp(self.logweights))\n",
    "        comp = D.Normal(self.means, torch.exp(self.logstdevs))\n",
    "        gmm  = D.MixtureSameFamily(mix, comp)\n",
    "        \n",
    "        return gmm.sample(N)\n",
    "    \n",
    "    \n",
    "def Loss(qphi, post, w): \n",
    "    ''' calculate loss\n",
    "    \n",
    "    \\sum_i^Ng w_i * \\log \\sum_j^Ns qphi(\\theta_ij)\n",
    "    \n",
    "    '''\n",
    "    logqphi = qphi.log_prob(post.flatten()[:,None]).reshape(post.shape)\n",
    "\n",
    "    return -torch.sum(w * torch.logsumexp(logqphi, axis=1))  "
   ]
  },
  {
   "cell_type": "code",
   "execution_count": 23,
   "id": "0cf7800e",
   "metadata": {},
   "outputs": [],
   "source": [
    "zmins = [0.01 + 0.04 * i for i in range(10)]\n",
    "zmaxs = [0.01 + 0.04 * (i+1) for i in range(10)]"
   ]
  },
  {
   "cell_type": "markdown",
   "id": "f7b193f1",
   "metadata": {
    "scrolled": true
   },
   "source": [
    "```python \n",
    "best_models_z = [] \n",
    "for zmin, zmax in zip(zmins, zmaxs):\n",
    "    # Vmax based importance weights\n",
    "    zlim = (bgs['Z_HP'].data > zmin) & (bgs['Z_HP'].data < zmax)\n",
    "\n",
    "    v_zmin = Planck13.comoving_volume(zmin).value * Planck13.h**3 # (Mpc/h)^3\n",
    "    v_zmax = Planck13.comoving_volume(zmax).value * Planck13.h**3 # (Mpc/h)^3\n",
    "    \n",
    "    w_import = (v_zmax - v_zmin) / (vmaxes.clip(v_zmin, v_zmax) - v_zmin) \n",
    "    w_import *= bgs['provabgs_w_zfail'].data * bgs['provabgs_w_fibassign']\n",
    "    \n",
    "    x_data = torch.tensor(logM_posteriors[zlim].astype(np.float32)).to(device)\n",
    "    w_data = torch.tensor(w_import[zlim].astype(np.float32)).to(device)\n",
    "    \n",
    "    batch_size = 128\n",
    "    Ntrain = int(0.9 * x_data.shape[0])\n",
    "    Nvalid = x_data.shape[0] - Ntrain # int(0.1 * x_data.shape[0])\n",
    "\n",
    "    trainloader = torch.utils.data.DataLoader(\n",
    "            torch.utils.data.TensorDataset(x_data[:Ntrain], w_data[:Ntrain]),\n",
    "            batch_size=batch_size,\n",
    "            shuffle=True)\n",
    "\n",
    "    validloader = torch.utils.data.DataLoader(\n",
    "            torch.utils.data.TensorDataset(x_data[Ntrain:], w_data[Ntrain:]),\n",
    "            batch_size=batch_size)\n",
    "    \n",
    "    lr = 1e-3\n",
    "    num_iter = 1000\n",
    "    patience = 20\n",
    "\n",
    "    fig = plt.figure(figsize=(6,4))\n",
    "    sub = fig.add_subplot(111)\n",
    "    \n",
    "    _ = sub.hist(np.median(logM_posteriors[zlim], axis=1), \n",
    "             weights=w_import[zlim]*10000./np.sum(w_import[zlim]), \n",
    "             range=(7., 13.), bins=40, histtype='step', \n",
    "             color='k', linestyle='--', linewidth=2)\n",
    "    \n",
    "    best_flows, best_valid_losses, vls = [], [], []\n",
    "    for i in range(5): \n",
    "        ncomp = int(np.random.uniform(5, 100))\n",
    "        flow = GaussianMixtureModel(n_components=ncomp)\n",
    "        flow.to(device)\n",
    "        print('GMM with %i components' % ncomp)\n",
    "\n",
    "        # parameters = [weights, means, stdevs]\n",
    "        optimizer = optim.Adam(flow.parameters(), lr=lr)\n",
    "        scheduler = optim.lr_scheduler.OneCycleLR(optimizer, lr, total_steps=num_iter)\n",
    "\n",
    "        best_epoch, best_valid_loss = 0, np.inf\n",
    "        valid_losses = []\n",
    "\n",
    "        t = trange(num_iter, leave=False)\n",
    "        for epoch in t:\n",
    "            train_loss = 0.\n",
    "            for batch in trainloader: \n",
    "                optimizer.zero_grad()\n",
    "                _post, _w = batch\n",
    "                _post = _post.to(device)\n",
    "                _w = _w.to(device)\n",
    "\n",
    "                loss = Loss(flow, _post, _w)\n",
    "                loss.backward()\n",
    "                train_loss += loss.item()\n",
    "                optimizer.step()\n",
    "            train_loss /= len(trainloader.dataset)\n",
    "\n",
    "            with torch.no_grad():\n",
    "                valid_loss = 0.\n",
    "                for batch in validloader: \n",
    "                    _post, _w = batch\n",
    "                    _post = _post.to(device)\n",
    "                    _w = _w.to(device)\n",
    "\n",
    "                    loss = Loss(flow, _post, _w)                \n",
    "                    valid_loss += loss.item()\n",
    "                valid_loss /= len(validloader.dataset)           \n",
    "                valid_losses.append(valid_loss)\n",
    "\n",
    "            scheduler.step()\n",
    "\n",
    "            t.set_description('Epoch: %i TRAINING Loss: %.2e VALIDATION Loss: %.2e' % \n",
    "                              (epoch, train_loss, valid_loss), refresh=False)\n",
    "\n",
    "            if valid_loss < best_valid_loss: \n",
    "                best_valid_loss = valid_loss\n",
    "                best_epoch = epoch\n",
    "                best_flow = copy.deepcopy(flow)\n",
    "            else: \n",
    "                if best_epoch < epoch - patience: \n",
    "                    print('>>>%i \\t %.5e' % (epoch, best_valid_loss))\n",
    "                    break\n",
    "            \n",
    "        with torch.no_grad(): \n",
    "            post_prime = best_flow.sample((10000,))\n",
    "            _ = sub.hist(np.array(post_prime.detach().cpu()), range=(7., 13.), bins=40, histtype='step', linewidth=2)\n",
    "\n",
    "        best_flows.append(best_flow)\n",
    "        best_valid_losses.append(best_valid_loss)\n",
    "        vls.append(valid_losses)\n",
    "        \n",
    "    sub.set_xlabel(r'$\\log M_*$', fontsize=25)\n",
    "    sub.set_xlim(7., 13.)\n",
    "    sub.set_ylabel(r'$p(\\log M_*)$', fontsize=25)\n",
    "    sub.set_yscale('log')\n",
    "    plt.show()\n",
    "    \n",
    "    ibest = np.argmin(best_valid_losses)\n",
    "    best_models_z.append(best_flows[ibest])\n",
    "\n",
    "for best_model, zmin, zmax in zip(best_models_z[:8], zmins, zmaxs): \n",
    "    torch.save(best_model, os.path.join(dat_dir, 'psmf.gmm.bgs_bright.z%.2f_%.2f.best.pt' % (zmin, zmax)))            \n",
    "```"
   ]
  },
  {
   "cell_type": "code",
   "execution_count": 24,
   "id": "9ffbd710",
   "metadata": {},
   "outputs": [
    {
     "name": "stderr",
     "output_type": "stream",
     "text": [
      "/home/chhahn/.conda/envs/sbi/lib/python3.7/site-packages/ipykernel_launcher.py:10: RuntimeWarning: divide by zero encountered in true_divide\n",
      "  # Remove the CWD from sys.path while we load stuff.\n",
      "/home/chhahn/.conda/envs/sbi/lib/python3.7/site-packages/ipykernel_launcher.py:10: RuntimeWarning: divide by zero encountered in true_divide\n",
      "  # Remove the CWD from sys.path while we load stuff.\n",
      "/home/chhahn/.conda/envs/sbi/lib/python3.7/site-packages/ipykernel_launcher.py:10: RuntimeWarning: divide by zero encountered in true_divide\n",
      "  # Remove the CWD from sys.path while we load stuff.\n",
      "/home/chhahn/.conda/envs/sbi/lib/python3.7/site-packages/ipykernel_launcher.py:10: RuntimeWarning: divide by zero encountered in true_divide\n",
      "  # Remove the CWD from sys.path while we load stuff.\n"
     ]
    },
    {
     "data": {
      "image/png": "[encoded data removed]",
      "text/plain": [
       "<Figure size 576x432 with 1 Axes>"
      ]
     },
     "metadata": {
      "needs_background": "light"
     },
     "output_type": "display_data"
    }
   ],
   "source": [
    "fig = plt.figure(figsize=(8,6))\n",
    "sub = fig.add_subplot(111)\n",
    "for i, zmin, zmax in zip(range(4), zmins, zmaxs):\n",
    "    # Vmax based importance weights\n",
    "    zlim = (bgs['Z_HP'].data > zmin) & (bgs['Z_HP'].data < zmax)\n",
    "\n",
    "    v_zmin = Planck13.comoving_volume(zmin).value * Planck13.h**3 * f_area # (Mpc/h)^3\n",
    "    v_zmax = Planck13.comoving_volume(zmax).value * Planck13.h**3 * f_area # (Mpc/h)^3\n",
    "    \n",
    "    w_import = (v_zmax - v_zmin) / (vmaxes.clip(v_zmin, v_zmax) - v_zmin) \n",
    "    w_import *= bgs['provabgs_w_zfail'].data * bgs['provabgs_w_fibassign']\n",
    "    \n",
    "    #psmf_model = best_models_z[i] \n",
    "    psmf_model = torch.load(os.path.join(dat_dir, 'psmf.gmm.bgs_bright.z%.2f_%.2f.best.pt' % (zmin, zmax)), map_location=device)\n",
    "    with torch.no_grad(): \n",
    "        post_prime = psmf_model.sample((10000,))\n",
    "    \n",
    "    _ = sub.hist(np.median(logM_posteriors[zlim], axis=1), \n",
    "                 weights=w_import[zlim]*10000./np.sum(w_import[zlim]), \n",
    "                 range=(6., 13.), bins=40, histtype='step', \n",
    "                 color='k', linestyle='--', linewidth=1) \n",
    "    \n",
    "    _ = sub.hist(np.array(post_prime.detach().cpu()), range=(6., 13.), bins=40, \n",
    "                 color='C%i' % i, histtype='step', linewidth=2)\n",
    "    sub.plot([], [], c='C%i' % i, label='$%.2f < z < %.2f$' % (zmin, zmax))\n",
    "\n",
    "sub.legend(loc='upper right', fontsize=15)\n",
    "sub.set_xlabel(r'$\\log M_*$', fontsize=25)\n",
    "sub.set_xlim(7., 13.)\n",
    "sub.set_ylabel(r'$p(\\log M_*)$', fontsize=25)\n",
    "sub.set_yscale('log')\n",
    "sub.set_ylim(5e-1, 5e4)\n",
    "plt.show()"
   ]
  },
  {
   "cell_type": "markdown",
   "id": "447c1c62",
   "metadata": {},
   "source": [
    "# normalizing the pSMF"
   ]
  },
  {
   "cell_type": "code",
   "execution_count": 25,
   "id": "aa02feee",
   "metadata": {},
   "outputs": [],
   "source": [
    "_zmin, _zmax, mlim = np.loadtxt(os.path.join(dat_dir, 'psmf.logmstar_comp_limit.dat'), unpack=True, usecols=[0, 1, 2])"
   ]
  },
  {
   "cell_type": "code",
   "execution_count": 46,
   "id": "3e0a954f",
   "metadata": {},
   "outputs": [
    {
     "name": "stderr",
     "output_type": "stream",
     "text": [
      "/home/chhahn/.conda/envs/sbi/lib/python3.7/site-packages/ipykernel_launcher.py:10: RuntimeWarning: divide by zero encountered in true_divide\n",
      "  # Remove the CWD from sys.path while we load stuff.\n",
      "/home/chhahn/.conda/envs/sbi/lib/python3.7/site-packages/ipykernel_launcher.py:10: RuntimeWarning: divide by zero encountered in true_divide\n",
      "  # Remove the CWD from sys.path while we load stuff.\n",
      "/home/chhahn/.conda/envs/sbi/lib/python3.7/site-packages/ipykernel_launcher.py:10: RuntimeWarning: divide by zero encountered in true_divide\n",
      "  # Remove the CWD from sys.path while we load stuff.\n",
      "/home/chhahn/.conda/envs/sbi/lib/python3.7/site-packages/ipykernel_launcher.py:10: RuntimeWarning: divide by zero encountered in true_divide\n",
      "  # Remove the CWD from sys.path while we load stuff.\n"
     ]
    },
    {
     "data": {
      "image/png": "[encoded data removed]",
      "text/plain": [
       "<Figure size 576x432 with 1 Axes>"
      ]
     },
     "metadata": {
      "needs_background": "light"
     },
     "output_type": "display_data"
    }
   ],
   "source": [
    "fig = plt.figure(figsize=(8,6))\n",
    "sub = fig.add_subplot(111)\n",
    "for i, zmin, zmax in zip(range(4), zmins, zmaxs):\n",
    "    # Vmax based importance weights\n",
    "    zlim = (bgs['Z_HP'].data > zmin) & (bgs['Z_HP'].data < zmax)\n",
    "\n",
    "    v_zmin = Planck13.comoving_volume(zmin).value * Planck13.h**3 * f_area # (Mpc/h)^3\n",
    "    v_zmax = Planck13.comoving_volume(zmax).value * Planck13.h**3 * f_area# (Mpc/h)^3\n",
    "    \n",
    "    w_import = (v_zmax - v_zmin) / (vmaxes.clip(v_zmin, v_zmax) - v_zmin) \n",
    "    w_import *= bgs['provabgs_w_zfail'].data * bgs['provabgs_w_fibassign']\n",
    "\n",
    "    # calculate normalization\n",
    "    norm = np.sum(w_import[zlim]) / (v_zmax - v_zmin)\n",
    "    #psmf_model = best_models_z[i] \n",
    "    psmf_model = torch.load(os.path.join(dat_dir, 'psmf.gmm.bgs_bright.z%.2f_%.2f.best.pt' % (zmin, zmax)), map_location=device)\n",
    "    with torch.no_grad(): \n",
    "        post_prime = psmf_model.sample((100000,))\n",
    "    \n",
    "    # calculate normalization    \n",
    "    #_ = sub.hist(np.median(logM_posteriors[zlim], axis=1), \n",
    "    #             weights=w_import[zlim]*norm, #10000./np.sum(w_import[zlim]), \n",
    "    #             range=(6., 13.), bins=40, histtype='step', \n",
    "    #             color='k', linestyle='--', linewidth=1) \n",
    "    h, be = np.histogram(np.array(post_prime.detach().cpu()), \n",
    "                 weights=np.repeat(norm, 100000) / 100000, range=(6., 13.), bins=40)\n",
    "    \n",
    "    sub.step(be[:-1], h, where='pre', color='C%i' % i, linestyle='--')\n",
    "    sub.step(be[:-1][be[:-1] > mlim[2*i+1]], h[be[:-1] > mlim[2*i+1]], where='pre', color='C%i' % i, linestyle='-')\n",
    "    sub.plot([], [], c='C%i' % i, label='$%.2f < z < %.2f$' % (zmin, zmax))\n",
    "    #sub.axvline(mlim[2*i+1], color='C%i' % i, linestyle=':')\n",
    "sub.legend(loc='lower left', fontsize=20)\n",
    "sub.set_xlabel(r'$\\log M_*$', fontsize=25)\n",
    "sub.set_xlim(7., 12.5)\n",
    "sub.set_ylabel(r'$p(\\log M_*)$ [$({\\rm Mpc}/h)^{-3}{\\rm dex}^{-1}$]', fontsize=25)\n",
    "sub.set_yscale('log')\n",
    "sub.set_ylim(5e-7, 4e-2)\n",
    "plt.show()"
   ]
  },
  {
   "cell_type": "markdown",
   "id": "8a6f1402",
   "metadata": {},
   "source": [
    "# jack knife uncertainties"
   ]
  },
  {
   "cell_type": "code",
   "execution_count": 47,
   "id": "a1b70a3f",
   "metadata": {},
   "outputs": [],
   "source": [
    "fields = [\n",
    "    ((bgs['RA'] > 140) & (bgs['RA'] < 160)), \n",
    "    ((bgs['RA'] > 160) & (bgs['RA'] < 185) & (bgs['DEC'] > -10) & (bgs['DEC'] < 10)), \n",
    "    ((bgs['RA'] > 205) & (bgs['RA'] < 212) & (bgs['DEC'] > 2) & (bgs['DEC'] < 8)), \n",
    "    ((bgs['RA'] > 210) & (bgs['RA'] < 224) & (bgs['DEC'] > -5) & (bgs['DEC'] < 5) & ~((bgs['RA'] > 205) & (bgs['RA'] < 212) & (bgs['DEC'] > 2) & (bgs['DEC'] < 8))),\n",
    "    ((bgs['RA'] > 190) & (bgs['RA'] < 200) & (bgs['DEC'] > 20) & (bgs['DEC'] < 30)), \n",
    "    ((bgs['RA'] > 210) & (bgs['RA'] < 225) & (bgs['DEC'] > 30) & (bgs['DEC'] < 40)),     \n",
    "    ((bgs['RA'] > 250) & (bgs['RA'] < 260) & (bgs['DEC'] > 30) & (bgs['DEC'] < 40)),\n",
    "    ((bgs['RA'] > 230) & (bgs['RA'] < 255) & (bgs['DEC'] > 40) & (bgs['DEC'] < 45)),    \n",
    "    ((bgs['RA'] > 210) & (bgs['RA'] < 225) & (bgs['DEC'] > 45) & (bgs['DEC'] < 58)),        \n",
    "    ((bgs['RA'] > 235) & (bgs['RA'] < 255) & (bgs['DEC'] > 50) & (bgs['DEC'] < 60)), \n",
    "    ((bgs['RA'] > 180) & (bgs['RA'] < 200) & (bgs['DEC'] > 55) & (bgs['DEC'] < 70)), \n",
    "    ((bgs['RA'] > 260) & (bgs['RA'] < 280) & (bgs['DEC'] > 55) & (bgs['DEC'] < 70))    \n",
    "]\n",
    "\n",
    "A_fields = [164.965, 156.064, 164.917, 138.785, 155.972, 164.848, 165.120, 148.024, \n",
    "            165.015, 165.030, 164.890, 156.806]"
   ]
  },
  {
   "cell_type": "code",
   "execution_count": 48,
   "id": "1d9cf2be",
   "metadata": {},
   "outputs": [
    {
     "data": {
      "text/plain": [
       "Text(0, 0.5, 'Dec')"
      ]
     },
     "execution_count": 48,
     "metadata": {},
     "output_type": "execute_result"
    },
    {
     "data": {
      "image/png": "[encoded data removed]",
      "text/plain": [
       "<Figure size 576x432 with 1 Axes>"
      ]
     },
     "metadata": {
      "needs_background": "light"
     },
     "output_type": "display_data"
    }
   ],
   "source": [
    "fig = plt.figure(figsize=(8,6))\n",
    "sub = fig.add_subplot(111)\n",
    "sub.scatter(bgs['RA'], bgs['DEC'], s=1)\n",
    "for field in fields: \n",
    "    sub.scatter(bgs['RA'][field], bgs['DEC'][field], s=1)\n",
    "sub.set_xlabel('RA', fontsize=25)\n",
    "sub.set_xlim(140, 280)\n",
    "sub.set_ylabel('Dec', fontsize=25)\n",
    "#sub.set_ylim(-10, 10)"
   ]
  },
  {
   "cell_type": "code",
   "execution_count": 22,
   "id": "11f3fd4f",
   "metadata": {
    "scrolled": true
   },
   "outputs": [
    {
     "name": "stdout",
     "output_type": "stream",
     "text": [
      "GMM with 10 components\n"
     ]
    },
    {
     "name": "stderr",
     "output_type": "stream",
     "text": [
      "/home/chhahn/.conda/envs/sbi/lib/python3.7/site-packages/ipykernel_launcher.py:16: RuntimeWarning: divide by zero encountered in true_divide\n",
      "  app.launch_new_instance()\n"
     ]
    },
    {
     "data": {
      "application/vnd.jupyter.widget-view+json": {
       "model_id": "5d03210546fe409fb1b305e6d3b2ed16",
       "version_major": 2,
       "version_minor": 0
      },
      "text/plain": [
       "  0%|          | 0/1000 [00:00<?, ?it/s]"
      ]
     },
     "metadata": {},
     "output_type": "display_data"
    },
    {
     "name": "stdout",
     "output_type": "stream",
     "text": [
      ">>>257 \t -1.06015e+01\n",
      "GMM with 72 components\n"
     ]
    },
    {
     "data": {
      "application/vnd.jupyter.widget-view+json": {
       "model_id": "e247dcf170a1421fa4e630281bfe1771",
       "version_major": 2,
       "version_minor": 0
      },
      "text/plain": [
       "  0%|          | 0/1000 [00:00<?, ?it/s]"
      ]
     },
     "metadata": {},
     "output_type": "display_data"
    },
    {
     "name": "stdout",
     "output_type": "stream",
     "text": [
      ">>>372 \t -1.06241e+01\n",
      "GMM with 20 components\n"
     ]
    },
    {
     "data": {
      "application/vnd.jupyter.widget-view+json": {
       "model_id": "8067c06465be4753938732dd2c92d0e2",
       "version_major": 2,
       "version_minor": 0
      },
      "text/plain": [
       "  0%|          | 0/1000 [00:00<?, ?it/s]"
      ]
     },
     "metadata": {},
     "output_type": "display_data"
    },
    {
     "name": "stdout",
     "output_type": "stream",
     "text": [
      ">>>244 \t -1.06011e+01\n",
      "GMM with 63 components\n"
     ]
    },
    {
     "data": {
      "application/vnd.jupyter.widget-view+json": {
       "model_id": "28f0c6604b3f412baddd225c4be4ccbb",
       "version_major": 2,
       "version_minor": 0
      },
      "text/plain": [
       "  0%|          | 0/1000 [00:00<?, ?it/s]"
      ]
     },
     "metadata": {},
     "output_type": "display_data"
    },
    {
     "name": "stdout",
     "output_type": "stream",
     "text": [
      ">>>254 \t -1.04617e+01\n",
      "GMM with 50 components\n"
     ]
    },
    {
     "data": {
      "application/vnd.jupyter.widget-view+json": {
       "model_id": "251bab70a9774bd19dd987df9ef74893",
       "version_major": 2,
       "version_minor": 0
      },
      "text/plain": [
       "  0%|          | 0/1000 [00:00<?, ?it/s]"
      ]
     },
     "metadata": {},
     "output_type": "display_data"
    },
    {
     "name": "stdout",
     "output_type": "stream",
     "text": [
      ">>>231 \t -1.04598e+01\n",
      "GMM with 11 components\n"
     ]
    },
    {
     "data": {
      "application/vnd.jupyter.widget-view+json": {
       "model_id": "784c26c211f64bdbaf1b76fe9211cd73",
       "version_major": 2,
       "version_minor": 0
      },
      "text/plain": [
       "  0%|          | 0/1000 [00:00<?, ?it/s]"
      ]
     },
     "metadata": {},
     "output_type": "display_data"
    },
    {
     "name": "stdout",
     "output_type": "stream",
     "text": [
      ">>>235 \t -1.04547e+01\n",
      "GMM with 92 components\n"
     ]
    },
    {
     "data": {
      "application/vnd.jupyter.widget-view+json": {
       "model_id": "069aee4f27a04263a82b3cec7cd10df2",
       "version_major": 2,
       "version_minor": 0
      },
      "text/plain": [
       "  0%|          | 0/1000 [00:00<?, ?it/s]"
      ]
     },
     "metadata": {},
     "output_type": "display_data"
    },
    {
     "name": "stdout",
     "output_type": "stream",
     "text": [
      ">>>219 \t -1.04544e+01\n",
      "GMM with 53 components\n"
     ]
    },
    {
     "data": {
      "application/vnd.jupyter.widget-view+json": {
       "model_id": "d38f1a8f60cb4809a3bb86b87f067c7d",
       "version_major": 2,
       "version_minor": 0
      },
      "text/plain": [
       "  0%|          | 0/1000 [00:00<?, ?it/s]"
      ]
     },
     "metadata": {},
     "output_type": "display_data"
    },
    {
     "name": "stdout",
     "output_type": "stream",
     "text": [
      ">>>259 \t -1.04570e+01\n",
      "GMM with 76 components\n"
     ]
    },
    {
     "data": {
      "application/vnd.jupyter.widget-view+json": {
       "model_id": "65551c574067418a944e65f93787ef7a",
       "version_major": 2,
       "version_minor": 0
      },
      "text/plain": [
       "  0%|          | 0/1000 [00:00<?, ?it/s]"
      ]
     },
     "metadata": {},
     "output_type": "display_data"
    },
    {
     "name": "stdout",
     "output_type": "stream",
     "text": [
      ">>>226 \t -1.04557e+01\n",
      "GMM with 45 components\n"
     ]
    },
    {
     "data": {
      "application/vnd.jupyter.widget-view+json": {
       "model_id": "d53439c22bab498f96787df28adc527c",
       "version_major": 2,
       "version_minor": 0
      },
      "text/plain": [
       "  0%|          | 0/1000 [00:00<?, ?it/s]"
      ]
     },
     "metadata": {},
     "output_type": "display_data"
    },
    {
     "name": "stdout",
     "output_type": "stream",
     "text": [
      ">>>234 \t -1.07164e+01\n",
      "GMM with 74 components\n"
     ]
    },
    {
     "data": {
      "application/vnd.jupyter.widget-view+json": {
       "model_id": "8d885ab6765a45ee87d408bfaaec04c4",
       "version_major": 2,
       "version_minor": 0
      },
      "text/plain": [
       "  0%|          | 0/1000 [00:00<?, ?it/s]"
      ]
     },
     "metadata": {},
     "output_type": "display_data"
    },
    {
     "name": "stdout",
     "output_type": "stream",
     "text": [
      ">>>238 \t -1.07129e+01\n",
      "GMM with 18 components\n"
     ]
    },
    {
     "data": {
      "application/vnd.jupyter.widget-view+json": {
       "model_id": "036ff2558ef745bdad058d0cc670040d",
       "version_major": 2,
       "version_minor": 0
      },
      "text/plain": [
       "  0%|          | 0/1000 [00:00<?, ?it/s]"
      ]
     },
     "metadata": {},
     "output_type": "display_data"
    },
    {
     "name": "stdout",
     "output_type": "stream",
     "text": [
      ">>>245 \t -1.07158e+01\n",
      "GMM with 5 components\n"
     ]
    },
    {
     "data": {
      "application/vnd.jupyter.widget-view+json": {
       "model_id": "c5cbd6673258487a9761d3d7fb94abce",
       "version_major": 2,
       "version_minor": 0
      },
      "text/plain": [
       "  0%|          | 0/1000 [00:00<?, ?it/s]"
      ]
     },
     "metadata": {},
     "output_type": "display_data"
    },
    {
     "name": "stdout",
     "output_type": "stream",
     "text": [
      ">>>226 \t -1.03898e+01\n",
      "GMM with 11 components\n"
     ]
    },
    {
     "data": {
      "application/vnd.jupyter.widget-view+json": {
       "model_id": "51f1bf188a814d24b54baf0126c8c15c",
       "version_major": 2,
       "version_minor": 0
      },
      "text/plain": [
       "  0%|          | 0/1000 [00:00<?, ?it/s]"
      ]
     },
     "metadata": {},
     "output_type": "display_data"
    },
    {
     "name": "stdout",
     "output_type": "stream",
     "text": [
      ">>>229 \t -1.03905e+01\n",
      "GMM with 52 components\n"
     ]
    },
    {
     "data": {
      "application/vnd.jupyter.widget-view+json": {
       "model_id": "24004de9d1e3430f8464d36b34132509",
       "version_major": 2,
       "version_minor": 0
      },
      "text/plain": [
       "  0%|          | 0/1000 [00:00<?, ?it/s]"
      ]
     },
     "metadata": {},
     "output_type": "display_data"
    },
    {
     "name": "stdout",
     "output_type": "stream",
     "text": [
      ">>>224 \t -1.03910e+01\n",
      "GMM with 46 components\n"
     ]
    },
    {
     "data": {
      "application/vnd.jupyter.widget-view+json": {
       "model_id": "8a79f554862043809fba4c569f73c635",
       "version_major": 2,
       "version_minor": 0
      },
      "text/plain": [
       "  0%|          | 0/1000 [00:00<?, ?it/s]"
      ]
     },
     "metadata": {},
     "output_type": "display_data"
    },
    {
     "name": "stdout",
     "output_type": "stream",
     "text": [
      ">>>227 \t -1.05903e+01\n",
      "GMM with 79 components\n"
     ]
    },
    {
     "data": {
      "application/vnd.jupyter.widget-view+json": {
       "model_id": "d41384c8077d4e08b76cb4fe3a2dc893",
       "version_major": 2,
       "version_minor": 0
      },
      "text/plain": [
       "  0%|          | 0/1000 [00:00<?, ?it/s]"
      ]
     },
     "metadata": {},
     "output_type": "display_data"
    },
    {
     "name": "stdout",
     "output_type": "stream",
     "text": [
      ">>>248 \t -1.05937e+01\n",
      "GMM with 24 components\n"
     ]
    },
    {
     "data": {
      "application/vnd.jupyter.widget-view+json": {
       "model_id": "597cf2fcd9ac473da83aeadbfbf2edd5",
       "version_major": 2,
       "version_minor": 0
      },
      "text/plain": [
       "  0%|          | 0/1000 [00:00<?, ?it/s]"
      ]
     },
     "metadata": {},
     "output_type": "display_data"
    },
    {
     "name": "stdout",
     "output_type": "stream",
     "text": [
      ">>>273 \t -1.05906e+01\n",
      "GMM with 81 components\n"
     ]
    },
    {
     "data": {
      "application/vnd.jupyter.widget-view+json": {
       "model_id": "b38fa5d9bbfc40459c392184bfe9848e",
       "version_major": 2,
       "version_minor": 0
      },
      "text/plain": [
       "  0%|          | 0/1000 [00:00<?, ?it/s]"
      ]
     },
     "metadata": {},
     "output_type": "display_data"
    },
    {
     "name": "stdout",
     "output_type": "stream",
     "text": [
      ">>>187 \t -8.93754e+00\n",
      "GMM with 83 components\n"
     ]
    },
    {
     "data": {
      "application/vnd.jupyter.widget-view+json": {
       "model_id": "89edf4669d5348b89dad85ceaf6f8203",
       "version_major": 2,
       "version_minor": 0
      },
      "text/plain": [
       "  0%|          | 0/1000 [00:00<?, ?it/s]"
      ]
     },
     "metadata": {},
     "output_type": "display_data"
    },
    {
     "name": "stdout",
     "output_type": "stream",
     "text": [
      ">>>201 \t -8.93896e+00\n",
      "GMM with 57 components\n"
     ]
    },
    {
     "data": {
      "application/vnd.jupyter.widget-view+json": {
       "model_id": "ebcdee29f7d346908571411f616b070d",
       "version_major": 2,
       "version_minor": 0
      },
      "text/plain": [
       "  0%|          | 0/1000 [00:00<?, ?it/s]"
      ]
     },
     "metadata": {},
     "output_type": "display_data"
    },
    {
     "name": "stdout",
     "output_type": "stream",
     "text": [
      ">>>195 \t -8.93843e+00\n",
      "GMM with 7 components\n"
     ]
    },
    {
     "data": {
      "application/vnd.jupyter.widget-view+json": {
       "model_id": "a58c5509eca94e949b57f2805312e3e4",
       "version_major": 2,
       "version_minor": 0
      },
      "text/plain": [
       "  0%|          | 0/1000 [00:00<?, ?it/s]"
      ]
     },
     "metadata": {},
     "output_type": "display_data"
    },
    {
     "name": "stdout",
     "output_type": "stream",
     "text": [
      ">>>234 \t -1.05528e+01\n",
      "GMM with 67 components\n"
     ]
    },
    {
     "data": {
      "application/vnd.jupyter.widget-view+json": {
       "model_id": "e14440f133cf4f088dc157d4a854a7fd",
       "version_major": 2,
       "version_minor": 0
      },
      "text/plain": [
       "  0%|          | 0/1000 [00:00<?, ?it/s]"
      ]
     },
     "metadata": {},
     "output_type": "display_data"
    },
    {
     "name": "stdout",
     "output_type": "stream",
     "text": [
      ">>>281 \t -1.05654e+01\n",
      "GMM with 89 components\n"
     ]
    },
    {
     "data": {
      "application/vnd.jupyter.widget-view+json": {
       "model_id": "a1725e6c6b074297ada67416ef9180ee",
       "version_major": 2,
       "version_minor": 0
      },
      "text/plain": [
       "  0%|          | 0/1000 [00:00<?, ?it/s]"
      ]
     },
     "metadata": {},
     "output_type": "display_data"
    },
    {
     "name": "stdout",
     "output_type": "stream",
     "text": [
      ">>>238 \t -1.05584e+01\n",
      "GMM with 45 components\n"
     ]
    },
    {
     "data": {
      "application/vnd.jupyter.widget-view+json": {
       "model_id": "f8368f1df03f49f6b2cc3ed2682b45fb",
       "version_major": 2,
       "version_minor": 0
      },
      "text/plain": [
       "  0%|          | 0/1000 [00:00<?, ?it/s]"
      ]
     },
     "metadata": {},
     "output_type": "display_data"
    },
    {
     "name": "stdout",
     "output_type": "stream",
     "text": [
      ">>>295 \t -8.15918e+00\n",
      "GMM with 89 components\n"
     ]
    },
    {
     "data": {
      "application/vnd.jupyter.widget-view+json": {
       "model_id": "46811fa9548d4ff7a989ce5e046f4be2",
       "version_major": 2,
       "version_minor": 0
      },
      "text/plain": [
       "  0%|          | 0/1000 [00:00<?, ?it/s]"
      ]
     },
     "metadata": {},
     "output_type": "display_data"
    },
    {
     "name": "stdout",
     "output_type": "stream",
     "text": [
      ">>>353 \t -8.16162e+00\n",
      "GMM with 96 components\n"
     ]
    },
    {
     "data": {
      "application/vnd.jupyter.widget-view+json": {
       "model_id": "f4ffb85a86e647e2a458492dbffb4d5f",
       "version_major": 2,
       "version_minor": 0
      },
      "text/plain": [
       "  0%|          | 0/1000 [00:00<?, ?it/s]"
      ]
     },
     "metadata": {},
     "output_type": "display_data"
    },
    {
     "name": "stdout",
     "output_type": "stream",
     "text": [
      ">>>348 \t -8.16146e+00\n",
      "GMM with 61 components\n"
     ]
    },
    {
     "data": {
      "application/vnd.jupyter.widget-view+json": {
       "model_id": "1eedafaf1fa74db88307446b7856414c",
       "version_major": 2,
       "version_minor": 0
      },
      "text/plain": [
       "  0%|          | 0/1000 [00:00<?, ?it/s]"
      ]
     },
     "metadata": {},
     "output_type": "display_data"
    },
    {
     "name": "stdout",
     "output_type": "stream",
     "text": [
      ">>>414 \t -8.49792e+00\n",
      "GMM with 93 components\n"
     ]
    },
    {
     "data": {
      "application/vnd.jupyter.widget-view+json": {
       "model_id": "48ad6da07ad84c3d8edbd92a3663d655",
       "version_major": 2,
       "version_minor": 0
      },
      "text/plain": [
       "  0%|          | 0/1000 [00:00<?, ?it/s]"
      ]
     },
     "metadata": {},
     "output_type": "display_data"
    },
    {
     "name": "stdout",
     "output_type": "stream",
     "text": [
      ">>>373 \t -8.49598e+00\n",
      "GMM with 16 components\n"
     ]
    },
    {
     "data": {
      "application/vnd.jupyter.widget-view+json": {
       "model_id": "21c0c578fb5945429624565aab334d9d",
       "version_major": 2,
       "version_minor": 0
      },
      "text/plain": [
       "  0%|          | 0/1000 [00:00<?, ?it/s]"
      ]
     },
     "metadata": {},
     "output_type": "display_data"
    },
    {
     "name": "stdout",
     "output_type": "stream",
     "text": [
      ">>>341 \t -8.49689e+00\n",
      "GMM with 38 components\n"
     ]
    },
    {
     "data": {
      "application/vnd.jupyter.widget-view+json": {
       "model_id": "e34015c408ee411c97ce55e5d5ca58cb",
       "version_major": 2,
       "version_minor": 0
      },
      "text/plain": [
       "  0%|          | 0/1000 [00:00<?, ?it/s]"
      ]
     },
     "metadata": {},
     "output_type": "display_data"
    },
    {
     "name": "stdout",
     "output_type": "stream",
     "text": [
      ">>>366 \t -8.20959e+00\n",
      "GMM with 57 components\n"
     ]
    },
    {
     "data": {
      "application/vnd.jupyter.widget-view+json": {
       "model_id": "0196936e8f804943be43ac70e38030ba",
       "version_major": 2,
       "version_minor": 0
      },
      "text/plain": [
       "  0%|          | 0/1000 [00:00<?, ?it/s]"
      ]
     },
     "metadata": {},
     "output_type": "display_data"
    },
    {
     "name": "stdout",
     "output_type": "stream",
     "text": [
      ">>>387 \t -8.20979e+00\n",
      "GMM with 14 components\n"
     ]
    },
    {
     "data": {
      "application/vnd.jupyter.widget-view+json": {
       "model_id": "f109d16507c142a3a5c66c8771365f87",
       "version_major": 2,
       "version_minor": 0
      },
      "text/plain": [
       "  0%|          | 0/1000 [00:00<?, ?it/s]"
      ]
     },
     "metadata": {},
     "output_type": "display_data"
    },
    {
     "name": "stdout",
     "output_type": "stream",
     "text": [
      ">>>416 \t -8.20957e+00\n",
      "GMM with 38 components\n"
     ]
    },
    {
     "data": {
      "application/vnd.jupyter.widget-view+json": {
       "model_id": "42e9b8c2cc594515bd66017f34209aff",
       "version_major": 2,
       "version_minor": 0
      },
      "text/plain": [
       "  0%|          | 0/1000 [00:00<?, ?it/s]"
      ]
     },
     "metadata": {},
     "output_type": "display_data"
    },
    {
     "name": "stdout",
     "output_type": "stream",
     "text": [
      ">>>362 \t -8.34552e+00\n",
      "GMM with 77 components\n"
     ]
    },
    {
     "data": {
      "application/vnd.jupyter.widget-view+json": {
       "model_id": "7e299e68ca264f159b1b557edef4e3f6",
       "version_major": 2,
       "version_minor": 0
      },
      "text/plain": [
       "  0%|          | 0/1000 [00:00<?, ?it/s]"
      ]
     },
     "metadata": {},
     "output_type": "display_data"
    },
    {
     "name": "stdout",
     "output_type": "stream",
     "text": [
      ">>>440 \t -8.34865e+00\n",
      "GMM with 27 components\n"
     ]
    },
    {
     "data": {
      "application/vnd.jupyter.widget-view+json": {
       "model_id": "46ea8dd932654eb0ade38b2e67fbb6da",
       "version_major": 2,
       "version_minor": 0
      },
      "text/plain": [
       "  0%|          | 0/1000 [00:00<?, ?it/s]"
      ]
     },
     "metadata": {},
     "output_type": "display_data"
    },
    {
     "name": "stdout",
     "output_type": "stream",
     "text": [
      ">>>341 \t -8.34533e+00\n",
      "GMM with 40 components\n"
     ]
    },
    {
     "data": {
      "application/vnd.jupyter.widget-view+json": {
       "model_id": "740be78650534f6ca44082b26bddb08c",
       "version_major": 2,
       "version_minor": 0
      },
      "text/plain": [
       "  0%|          | 0/1000 [00:00<?, ?it/s]"
      ]
     },
     "metadata": {},
     "output_type": "display_data"
    },
    {
     "name": "stdout",
     "output_type": "stream",
     "text": [
      ">>>353 \t -8.20198e+00\n",
      "GMM with 98 components\n"
     ]
    },
    {
     "data": {
      "application/vnd.jupyter.widget-view+json": {
       "model_id": "877c33cb331d40dea51be0d45e0bda2c",
       "version_major": 2,
       "version_minor": 0
      },
      "text/plain": [
       "  0%|          | 0/1000 [00:00<?, ?it/s]"
      ]
     },
     "metadata": {},
     "output_type": "display_data"
    },
    {
     "name": "stdout",
     "output_type": "stream",
     "text": [
      ">>>360 \t -8.20166e+00\n",
      "GMM with 37 components\n"
     ]
    },
    {
     "data": {
      "application/vnd.jupyter.widget-view+json": {
       "model_id": "7ee8503efff447f8b33970f9597271b2",
       "version_major": 2,
       "version_minor": 0
      },
      "text/plain": [
       "  0%|          | 0/1000 [00:00<?, ?it/s]"
      ]
     },
     "metadata": {},
     "output_type": "display_data"
    },
    {
     "name": "stdout",
     "output_type": "stream",
     "text": [
      ">>>329 \t -8.20006e+00\n",
      "GMM with 10 components\n"
     ]
    },
    {
     "data": {
      "application/vnd.jupyter.widget-view+json": {
       "model_id": "61b167729f4841dd83545e305091df25",
       "version_major": 2,
       "version_minor": 0
      },
      "text/plain": [
       "  0%|          | 0/1000 [00:00<?, ?it/s]"
      ]
     },
     "metadata": {},
     "output_type": "display_data"
    },
    {
     "name": "stdout",
     "output_type": "stream",
     "text": [
      ">>>308 \t -8.10852e+00\n",
      "GMM with 22 components\n"
     ]
    },
    {
     "data": {
      "application/vnd.jupyter.widget-view+json": {
       "model_id": "1e7c5de9fcbc4098b1c62996546cf3b2",
       "version_major": 2,
       "version_minor": 0
      },
      "text/plain": [
       "  0%|          | 0/1000 [00:00<?, ?it/s]"
      ]
     },
     "metadata": {},
     "output_type": "display_data"
    },
    {
     "name": "stdout",
     "output_type": "stream",
     "text": [
      ">>>379 \t -8.11256e+00\n",
      "GMM with 40 components\n"
     ]
    },
    {
     "data": {
      "application/vnd.jupyter.widget-view+json": {
       "model_id": "6563b171f6684d94ae93c63415953d27",
       "version_major": 2,
       "version_minor": 0
      },
      "text/plain": [
       "  0%|          | 0/1000 [00:00<?, ?it/s]"
      ]
     },
     "metadata": {},
     "output_type": "display_data"
    },
    {
     "name": "stdout",
     "output_type": "stream",
     "text": [
      ">>>326 \t -8.11237e+00\n",
      "GMM with 11 components\n"
     ]
    },
    {
     "data": {
      "application/vnd.jupyter.widget-view+json": {
       "model_id": "b1895f2ab7e643619d5f2ba6b65e9b8c",
       "version_major": 2,
       "version_minor": 0
      },
      "text/plain": [
       "  0%|          | 0/1000 [00:00<?, ?it/s]"
      ]
     },
     "metadata": {},
     "output_type": "display_data"
    },
    {
     "name": "stdout",
     "output_type": "stream",
     "text": [
      ">>>517 \t -8.13251e+00\n",
      "GMM with 50 components\n"
     ]
    },
    {
     "data": {
      "application/vnd.jupyter.widget-view+json": {
       "model_id": "3b883a3cebd04355a3b1ce757cd31824",
       "version_major": 2,
       "version_minor": 0
      },
      "text/plain": [
       "  0%|          | 0/1000 [00:00<?, ?it/s]"
      ]
     },
     "metadata": {},
     "output_type": "display_data"
    },
    {
     "name": "stdout",
     "output_type": "stream",
     "text": [
      ">>>430 \t -8.13313e+00\n",
      "GMM with 46 components\n"
     ]
    },
    {
     "data": {
      "application/vnd.jupyter.widget-view+json": {
       "model_id": "f60ec1add38542949cca49b9bfed2a63",
       "version_major": 2,
       "version_minor": 0
      },
      "text/plain": [
       "  0%|          | 0/1000 [00:00<?, ?it/s]"
      ]
     },
     "metadata": {},
     "output_type": "display_data"
    },
    {
     "name": "stdout",
     "output_type": "stream",
     "text": [
      ">>>352 \t -8.13143e+00\n",
      "GMM with 57 components\n"
     ]
    },
    {
     "data": {
      "application/vnd.jupyter.widget-view+json": {
       "model_id": "2b445ca59e064941947b860f55ec1927",
       "version_major": 2,
       "version_minor": 0
      },
      "text/plain": [
       "  0%|          | 0/1000 [00:00<?, ?it/s]"
      ]
     },
     "metadata": {},
     "output_type": "display_data"
    },
    {
     "name": "stdout",
     "output_type": "stream",
     "text": [
      ">>>354 \t -8.20543e+00\n",
      "GMM with 65 components\n"
     ]
    },
    {
     "data": {
      "application/vnd.jupyter.widget-view+json": {
       "model_id": "2620f25c16054ad687279b99e8142065",
       "version_major": 2,
       "version_minor": 0
      },
      "text/plain": [
       "  0%|          | 0/1000 [00:00<?, ?it/s]"
      ]
     },
     "metadata": {},
     "output_type": "display_data"
    },
    {
     "name": "stdout",
     "output_type": "stream",
     "text": [
      ">>>318 \t -8.20498e+00\n",
      "GMM with 69 components\n"
     ]
    },
    {
     "data": {
      "application/vnd.jupyter.widget-view+json": {
       "model_id": "5f5d1d9bc59a4fe9a795c47a976fd5f7",
       "version_major": 2,
       "version_minor": 0
      },
      "text/plain": [
       "  0%|          | 0/1000 [00:00<?, ?it/s]"
      ]
     },
     "metadata": {},
     "output_type": "display_data"
    },
    {
     "name": "stdout",
     "output_type": "stream",
     "text": [
      ">>>340 \t -8.20432e+00\n",
      "GMM with 36 components\n"
     ]
    },
    {
     "data": {
      "application/vnd.jupyter.widget-view+json": {
       "model_id": "01f77e9a26c94f37b76dd6877ac06eb1",
       "version_major": 2,
       "version_minor": 0
      },
      "text/plain": [
       "  0%|          | 0/1000 [00:00<?, ?it/s]"
      ]
     },
     "metadata": {},
     "output_type": "display_data"
    },
    {
     "name": "stdout",
     "output_type": "stream",
     "text": [
      ">>>356 \t -8.08991e+00\n",
      "GMM with 89 components\n"
     ]
    },
    {
     "data": {
      "application/vnd.jupyter.widget-view+json": {
       "model_id": "d4db36d22d9f44f9b65c2844dfcca80e",
       "version_major": 2,
       "version_minor": 0
      },
      "text/plain": [
       "  0%|          | 0/1000 [00:00<?, ?it/s]"
      ]
     },
     "metadata": {},
     "output_type": "display_data"
    },
    {
     "name": "stdout",
     "output_type": "stream",
     "text": [
      ">>>452 \t -8.09482e+00\n",
      "GMM with 15 components\n"
     ]
    },
    {
     "data": {
      "application/vnd.jupyter.widget-view+json": {
       "model_id": "df1945f625d64c72bfc0863a1ccaabd0",
       "version_major": 2,
       "version_minor": 0
      },
      "text/plain": [
       "  0%|          | 0/1000 [00:00<?, ?it/s]"
      ]
     },
     "metadata": {},
     "output_type": "display_data"
    },
    {
     "name": "stdout",
     "output_type": "stream",
     "text": [
      ">>>282 \t -8.08747e+00\n",
      "GMM with 28 components\n"
     ]
    },
    {
     "data": {
      "application/vnd.jupyter.widget-view+json": {
       "model_id": "26cbf535e50944d3872e1d19d1eb6f08",
       "version_major": 2,
       "version_minor": 0
      },
      "text/plain": [
       "  0%|          | 0/1000 [00:00<?, ?it/s]"
      ]
     },
     "metadata": {},
     "output_type": "display_data"
    },
    {
     "name": "stdout",
     "output_type": "stream",
     "text": [
      ">>>350 \t -8.15432e+00\n",
      "GMM with 31 components\n"
     ]
    },
    {
     "data": {
      "application/vnd.jupyter.widget-view+json": {
       "model_id": "74fa7842c1e745de94759ef66e6fdea4",
       "version_major": 2,
       "version_minor": 0
      },
      "text/plain": [
       "  0%|          | 0/1000 [00:00<?, ?it/s]"
      ]
     },
     "metadata": {},
     "output_type": "display_data"
    },
    {
     "name": "stdout",
     "output_type": "stream",
     "text": [
      ">>>308 \t -8.15379e+00\n",
      "GMM with 46 components\n"
     ]
    },
    {
     "data": {
      "application/vnd.jupyter.widget-view+json": {
       "model_id": "d714085c547b4b4894e4560b93b6a76e",
       "version_major": 2,
       "version_minor": 0
      },
      "text/plain": [
       "  0%|          | 0/1000 [00:00<?, ?it/s]"
      ]
     },
     "metadata": {},
     "output_type": "display_data"
    },
    {
     "name": "stdout",
     "output_type": "stream",
     "text": [
      ">>>412 \t -8.15743e+00\n",
      "GMM with 29 components\n"
     ]
    },
    {
     "data": {
      "application/vnd.jupyter.widget-view+json": {
       "model_id": "58148489be4440b9b639587794994047",
       "version_major": 2,
       "version_minor": 0
      },
      "text/plain": [
       "  0%|          | 0/1000 [00:00<?, ?it/s]"
      ]
     },
     "metadata": {},
     "output_type": "display_data"
    },
    {
     "name": "stdout",
     "output_type": "stream",
     "text": [
      ">>>253 \t -6.75020e+00\n",
      "GMM with 76 components\n"
     ]
    },
    {
     "data": {
      "application/vnd.jupyter.widget-view+json": {
       "model_id": "9987ff1323f5497896dfd8464f1ef817",
       "version_major": 2,
       "version_minor": 0
      },
      "text/plain": [
       "  0%|          | 0/1000 [00:00<?, ?it/s]"
      ]
     },
     "metadata": {},
     "output_type": "display_data"
    },
    {
     "name": "stdout",
     "output_type": "stream",
     "text": [
      ">>>252 \t -6.75075e+00\n",
      "GMM with 22 components\n"
     ]
    },
    {
     "data": {
      "application/vnd.jupyter.widget-view+json": {
       "model_id": "a41070a80ef642b3a0909c6caddffda9",
       "version_major": 2,
       "version_minor": 0
      },
      "text/plain": [
       "  0%|          | 0/1000 [00:00<?, ?it/s]"
      ]
     },
     "metadata": {},
     "output_type": "display_data"
    },
    {
     "name": "stdout",
     "output_type": "stream",
     "text": [
      ">>>338 \t -6.75085e+00\n",
      "GMM with 26 components\n"
     ]
    },
    {
     "data": {
      "application/vnd.jupyter.widget-view+json": {
       "model_id": "05ff40e2a1cf416a8814ecbd4ecbe8b4",
       "version_major": 2,
       "version_minor": 0
      },
      "text/plain": [
       "  0%|          | 0/1000 [00:00<?, ?it/s]"
      ]
     },
     "metadata": {},
     "output_type": "display_data"
    },
    {
     "name": "stdout",
     "output_type": "stream",
     "text": [
      ">>>529 \t -8.19961e+00\n",
      "GMM with 49 components\n"
     ]
    },
    {
     "data": {
      "application/vnd.jupyter.widget-view+json": {
       "model_id": "dca8fc32194e474f8c35e2360529adbd",
       "version_major": 2,
       "version_minor": 0
      },
      "text/plain": [
       "  0%|          | 0/1000 [00:00<?, ?it/s]"
      ]
     },
     "metadata": {},
     "output_type": "display_data"
    },
    {
     "name": "stdout",
     "output_type": "stream",
     "text": [
      ">>>510 \t -8.19911e+00\n",
      "GMM with 72 components\n"
     ]
    },
    {
     "data": {
      "application/vnd.jupyter.widget-view+json": {
       "model_id": "290cffff92404cc4866a37b540d85123",
       "version_major": 2,
       "version_minor": 0
      },
      "text/plain": [
       "  0%|          | 0/1000 [00:00<?, ?it/s]"
      ]
     },
     "metadata": {},
     "output_type": "display_data"
    },
    {
     "name": "stdout",
     "output_type": "stream",
     "text": [
      ">>>467 \t -8.19773e+00\n",
      "GMM with 46 components\n"
     ]
    },
    {
     "data": {
      "application/vnd.jupyter.widget-view+json": {
       "model_id": "b889b54410c347ed99791fdf3762eadc",
       "version_major": 2,
       "version_minor": 0
      },
      "text/plain": [
       "  0%|          | 0/1000 [00:00<?, ?it/s]"
      ]
     },
     "metadata": {},
     "output_type": "display_data"
    },
    {
     "name": "stdout",
     "output_type": "stream",
     "text": [
      ">>>400 \t -7.98907e+00\n",
      "GMM with 32 components\n"
     ]
    },
    {
     "data": {
      "application/vnd.jupyter.widget-view+json": {
       "model_id": "f60e565d44ae49acbcb29e0cbc500223",
       "version_major": 2,
       "version_minor": 0
      },
      "text/plain": [
       "  0%|          | 0/1000 [00:00<?, ?it/s]"
      ]
     },
     "metadata": {},
     "output_type": "display_data"
    },
    {
     "name": "stdout",
     "output_type": "stream",
     "text": [
      ">>>402 \t -7.98825e+00\n",
      "GMM with 68 components\n"
     ]
    },
    {
     "data": {
      "application/vnd.jupyter.widget-view+json": {
       "model_id": "0d3639320b014527b4675150155091dc",
       "version_major": 2,
       "version_minor": 0
      },
      "text/plain": [
       "  0%|          | 0/1000 [00:00<?, ?it/s]"
      ]
     },
     "metadata": {},
     "output_type": "display_data"
    },
    {
     "name": "stdout",
     "output_type": "stream",
     "text": [
      ">>>427 \t -7.99083e+00\n",
      "GMM with 16 components\n"
     ]
    },
    {
     "data": {
      "application/vnd.jupyter.widget-view+json": {
       "model_id": "24f843fbf9354d8791c97986f4178426",
       "version_major": 2,
       "version_minor": 0
      },
      "text/plain": [
       "  0%|          | 0/1000 [00:00<?, ?it/s]"
      ]
     },
     "metadata": {},
     "output_type": "display_data"
    },
    {
     "name": "stdout",
     "output_type": "stream",
     "text": [
      ">>>403 \t -8.90810e+00\n",
      "GMM with 46 components\n"
     ]
    },
    {
     "data": {
      "application/vnd.jupyter.widget-view+json": {
       "model_id": "24271e2f7d0046189803dcd3be00dc29",
       "version_major": 2,
       "version_minor": 0
      },
      "text/plain": [
       "  0%|          | 0/1000 [00:00<?, ?it/s]"
      ]
     },
     "metadata": {},
     "output_type": "display_data"
    },
    {
     "name": "stdout",
     "output_type": "stream",
     "text": [
      ">>>434 \t -8.91073e+00\n",
      "GMM with 73 components\n"
     ]
    },
    {
     "data": {
      "application/vnd.jupyter.widget-view+json": {
       "model_id": "fe0bb9848ec942c4bafc6aa014ebb986",
       "version_major": 2,
       "version_minor": 0
      },
      "text/plain": [
       "  0%|          | 0/1000 [00:00<?, ?it/s]"
      ]
     },
     "metadata": {},
     "output_type": "display_data"
    },
    {
     "name": "stdout",
     "output_type": "stream",
     "text": [
      ">>>398 \t -8.90709e+00\n",
      "GMM with 69 components\n"
     ]
    },
    {
     "data": {
      "application/vnd.jupyter.widget-view+json": {
       "model_id": "2ccd21179d894a4093d4eb6621f7de80",
       "version_major": 2,
       "version_minor": 0
      },
      "text/plain": [
       "  0%|          | 0/1000 [00:00<?, ?it/s]"
      ]
     },
     "metadata": {},
     "output_type": "display_data"
    },
    {
     "name": "stdout",
     "output_type": "stream",
     "text": [
      ">>>411 \t -7.99868e+00\n",
      "GMM with 32 components\n"
     ]
    },
    {
     "data": {
      "application/vnd.jupyter.widget-view+json": {
       "model_id": "115f8879999d4782980f797f5649faf0",
       "version_major": 2,
       "version_minor": 0
      },
      "text/plain": [
       "  0%|          | 0/1000 [00:00<?, ?it/s]"
      ]
     },
     "metadata": {},
     "output_type": "display_data"
    },
    {
     "name": "stdout",
     "output_type": "stream",
     "text": [
      ">>>432 \t -7.99659e+00\n",
      "GMM with 28 components\n"
     ]
    },
    {
     "data": {
      "application/vnd.jupyter.widget-view+json": {
       "model_id": "1b2006675ec3448d8eaea0373745952c",
       "version_major": 2,
       "version_minor": 0
      },
      "text/plain": [
       "  0%|          | 0/1000 [00:00<?, ?it/s]"
      ]
     },
     "metadata": {},
     "output_type": "display_data"
    },
    {
     "name": "stdout",
     "output_type": "stream",
     "text": [
      ">>>372 \t -8.00070e+00\n",
      "GMM with 9 components\n"
     ]
    },
    {
     "data": {
      "application/vnd.jupyter.widget-view+json": {
       "model_id": "37dc31fb3e034617ad2b376b4e258161",
       "version_major": 2,
       "version_minor": 0
      },
      "text/plain": [
       "  0%|          | 0/1000 [00:00<?, ?it/s]"
      ]
     },
     "metadata": {},
     "output_type": "display_data"
    },
    {
     "name": "stdout",
     "output_type": "stream",
     "text": [
      ">>>403 \t -8.43737e+00\n",
      "GMM with 35 components\n"
     ]
    },
    {
     "data": {
      "application/vnd.jupyter.widget-view+json": {
       "model_id": "f4aa66bc1ed94c2781a4a7a51adbbeed",
       "version_major": 2,
       "version_minor": 0
      },
      "text/plain": [
       "  0%|          | 0/1000 [00:00<?, ?it/s]"
      ]
     },
     "metadata": {},
     "output_type": "display_data"
    },
    {
     "name": "stdout",
     "output_type": "stream",
     "text": [
      ">>>429 \t -8.43227e+00\n",
      "GMM with 78 components\n"
     ]
    },
    {
     "data": {
      "application/vnd.jupyter.widget-view+json": {
       "model_id": "5481f26426d94c48aa5b2a70bc82620a",
       "version_major": 2,
       "version_minor": 0
      },
      "text/plain": [
       "  0%|          | 0/1000 [00:00<?, ?it/s]"
      ]
     },
     "metadata": {},
     "output_type": "display_data"
    },
    {
     "name": "stdout",
     "output_type": "stream",
     "text": [
      ">>>456 \t -8.43902e+00\n",
      "GMM with 69 components\n"
     ]
    },
    {
     "data": {
      "application/vnd.jupyter.widget-view+json": {
       "model_id": "02f865ccd4ab46d7b9b9e7455c85e41e",
       "version_major": 2,
       "version_minor": 0
      },
      "text/plain": [
       "  0%|          | 0/1000 [00:00<?, ?it/s]"
      ]
     },
     "metadata": {},
     "output_type": "display_data"
    },
    {
     "name": "stdout",
     "output_type": "stream",
     "text": [
      ">>>422 \t -8.11556e+00\n",
      "GMM with 24 components\n"
     ]
    },
    {
     "data": {
      "application/vnd.jupyter.widget-view+json": {
       "model_id": "d01cd3d499254bbd85c23abf497c449e",
       "version_major": 2,
       "version_minor": 0
      },
      "text/plain": [
       "  0%|          | 0/1000 [00:00<?, ?it/s]"
      ]
     },
     "metadata": {},
     "output_type": "display_data"
    },
    {
     "name": "stdout",
     "output_type": "stream",
     "text": [
      ">>>396 \t -8.11811e+00\n",
      "GMM with 22 components\n"
     ]
    },
    {
     "data": {
      "application/vnd.jupyter.widget-view+json": {
       "model_id": "49b0e2ed25f7402a8d41a095752835b1",
       "version_major": 2,
       "version_minor": 0
      },
      "text/plain": [
       "  0%|          | 0/1000 [00:00<?, ?it/s]"
      ]
     },
     "metadata": {},
     "output_type": "display_data"
    },
    {
     "name": "stdout",
     "output_type": "stream",
     "text": [
      ">>>367 \t -8.11184e+00\n",
      "GMM with 68 components\n"
     ]
    },
    {
     "data": {
      "application/vnd.jupyter.widget-view+json": {
       "model_id": "d4bf57c51315459db28c92f59c7d39e2",
       "version_major": 2,
       "version_minor": 0
      },
      "text/plain": [
       "  0%|          | 0/1000 [00:00<?, ?it/s]"
      ]
     },
     "metadata": {},
     "output_type": "display_data"
    },
    {
     "name": "stdout",
     "output_type": "stream",
     "text": [
      ">>>397 \t -8.01441e+00\n",
      "GMM with 49 components\n"
     ]
    },
    {
     "data": {
      "application/vnd.jupyter.widget-view+json": {
       "model_id": "55678d873c044236868ac19632e549ce",
       "version_major": 2,
       "version_minor": 0
      },
      "text/plain": [
       "  0%|          | 0/1000 [00:00<?, ?it/s]"
      ]
     },
     "metadata": {},
     "output_type": "display_data"
    },
    {
     "name": "stdout",
     "output_type": "stream",
     "text": [
      ">>>388 \t -8.01549e+00\n",
      "GMM with 56 components\n"
     ]
    },
    {
     "data": {
      "application/vnd.jupyter.widget-view+json": {
       "model_id": "37e708b2c58f4a2bb8a89ccd86042c4b",
       "version_major": 2,
       "version_minor": 0
      },
      "text/plain": [
       "  0%|          | 0/1000 [00:00<?, ?it/s]"
      ]
     },
     "metadata": {},
     "output_type": "display_data"
    },
    {
     "name": "stdout",
     "output_type": "stream",
     "text": [
      ">>>405 \t -8.02002e+00\n",
      "GMM with 81 components\n"
     ]
    },
    {
     "data": {
      "application/vnd.jupyter.widget-view+json": {
       "model_id": "6d34a4f114ce42bc93576af0adb3365f",
       "version_major": 2,
       "version_minor": 0
      },
      "text/plain": [
       "  0%|          | 0/1000 [00:00<?, ?it/s]"
      ]
     },
     "metadata": {},
     "output_type": "display_data"
    },
    {
     "name": "stdout",
     "output_type": "stream",
     "text": [
      ">>>352 \t -7.86735e+00\n",
      "GMM with 81 components\n"
     ]
    },
    {
     "data": {
      "application/vnd.jupyter.widget-view+json": {
       "model_id": "a225ad0dd1bc456d889859f1e9a489cb",
       "version_major": 2,
       "version_minor": 0
      },
      "text/plain": [
       "  0%|          | 0/1000 [00:00<?, ?it/s]"
      ]
     },
     "metadata": {},
     "output_type": "display_data"
    },
    {
     "name": "stdout",
     "output_type": "stream",
     "text": [
      ">>>396 \t -7.88445e+00\n",
      "GMM with 42 components\n"
     ]
    },
    {
     "data": {
      "application/vnd.jupyter.widget-view+json": {
       "model_id": "95d776e7851d4ae28ab9604c391affb8",
       "version_major": 2,
       "version_minor": 0
      },
      "text/plain": [
       "  0%|          | 0/1000 [00:00<?, ?it/s]"
      ]
     },
     "metadata": {},
     "output_type": "display_data"
    },
    {
     "name": "stdout",
     "output_type": "stream",
     "text": [
      ">>>365 \t -7.87067e+00\n",
      "GMM with 42 components\n"
     ]
    },
    {
     "data": {
      "application/vnd.jupyter.widget-view+json": {
       "model_id": "d11d8aaf1eca4da78c3057dd01bda91f",
       "version_major": 2,
       "version_minor": 0
      },
      "text/plain": [
       "  0%|          | 0/1000 [00:00<?, ?it/s]"
      ]
     },
     "metadata": {},
     "output_type": "display_data"
    },
    {
     "name": "stdout",
     "output_type": "stream",
     "text": [
      ">>>313 \t -8.30609e+00\n",
      "GMM with 99 components\n"
     ]
    },
    {
     "data": {
      "application/vnd.jupyter.widget-view+json": {
       "model_id": "fe575d85991b421a893244a6e17c2cab",
       "version_major": 2,
       "version_minor": 0
      },
      "text/plain": [
       "  0%|          | 0/1000 [00:00<?, ?it/s]"
      ]
     },
     "metadata": {},
     "output_type": "display_data"
    },
    {
     "name": "stdout",
     "output_type": "stream",
     "text": [
      ">>>329 \t -8.32095e+00\n",
      "GMM with 79 components\n"
     ]
    },
    {
     "data": {
      "application/vnd.jupyter.widget-view+json": {
       "model_id": "926b52474490456cb2d0411a9d78e4bf",
       "version_major": 2,
       "version_minor": 0
      },
      "text/plain": [
       "  0%|          | 0/1000 [00:00<?, ?it/s]"
      ]
     },
     "metadata": {},
     "output_type": "display_data"
    },
    {
     "name": "stdout",
     "output_type": "stream",
     "text": [
      ">>>336 \t -8.33213e+00\n",
      "GMM with 85 components\n"
     ]
    },
    {
     "data": {
      "application/vnd.jupyter.widget-view+json": {
       "model_id": "fb9bfe9531ab40cf927788f5d8399376",
       "version_major": 2,
       "version_minor": 0
      },
      "text/plain": [
       "  0%|          | 0/1000 [00:00<?, ?it/s]"
      ]
     },
     "metadata": {},
     "output_type": "display_data"
    },
    {
     "name": "stdout",
     "output_type": "stream",
     "text": [
      ">>>418 \t -7.96472e+00\n",
      "GMM with 7 components\n"
     ]
    },
    {
     "data": {
      "application/vnd.jupyter.widget-view+json": {
       "model_id": "5ba2d170680d4e9598bf9a63c524a1de",
       "version_major": 2,
       "version_minor": 0
      },
      "text/plain": [
       "  0%|          | 0/1000 [00:00<?, ?it/s]"
      ]
     },
     "metadata": {},
     "output_type": "display_data"
    },
    {
     "name": "stdout",
     "output_type": "stream",
     "text": [
      ">>>407 \t -7.96657e+00\n",
      "GMM with 17 components\n"
     ]
    },
    {
     "data": {
      "application/vnd.jupyter.widget-view+json": {
       "model_id": "1d6e47e8a861463f9d4c78019dd34992",
       "version_major": 2,
       "version_minor": 0
      },
      "text/plain": [
       "  0%|          | 0/1000 [00:00<?, ?it/s]"
      ]
     },
     "metadata": {},
     "output_type": "display_data"
    },
    {
     "name": "stdout",
     "output_type": "stream",
     "text": [
      ">>>396 \t -7.96553e+00\n",
      "GMM with 57 components\n"
     ]
    },
    {
     "data": {
      "application/vnd.jupyter.widget-view+json": {
       "model_id": "4f2743bdca5f41db9b28a5808b655afb",
       "version_major": 2,
       "version_minor": 0
      },
      "text/plain": [
       "  0%|          | 0/1000 [00:00<?, ?it/s]"
      ]
     },
     "metadata": {},
     "output_type": "display_data"
    },
    {
     "name": "stdout",
     "output_type": "stream",
     "text": [
      ">>>417 \t -8.00430e+00\n",
      "GMM with 45 components\n"
     ]
    },
    {
     "data": {
      "application/vnd.jupyter.widget-view+json": {
       "model_id": "0410567edfc147c393eef5687a56a343",
       "version_major": 2,
       "version_minor": 0
      },
      "text/plain": [
       "  0%|          | 0/1000 [00:00<?, ?it/s]"
      ]
     },
     "metadata": {},
     "output_type": "display_data"
    },
    {
     "name": "stdout",
     "output_type": "stream",
     "text": [
      ">>>432 \t -8.00717e+00\n",
      "GMM with 31 components\n"
     ]
    },
    {
     "data": {
      "application/vnd.jupyter.widget-view+json": {
       "model_id": "dbafcee557a14dcd9780a346746bb28f",
       "version_major": 2,
       "version_minor": 0
      },
      "text/plain": [
       "  0%|          | 0/1000 [00:00<?, ?it/s]"
      ]
     },
     "metadata": {},
     "output_type": "display_data"
    },
    {
     "name": "stdout",
     "output_type": "stream",
     "text": [
      ">>>390 \t -8.00863e+00\n",
      "GMM with 24 components\n"
     ]
    },
    {
     "data": {
      "application/vnd.jupyter.widget-view+json": {
       "model_id": "017f39860351482dbbde6924f8c0ace3",
       "version_major": 2,
       "version_minor": 0
      },
      "text/plain": [
       "  0%|          | 0/1000 [00:00<?, ?it/s]"
      ]
     },
     "metadata": {},
     "output_type": "display_data"
    },
    {
     "name": "stdout",
     "output_type": "stream",
     "text": [
      ">>>418 \t -8.75348e+00\n",
      "GMM with 48 components\n"
     ]
    },
    {
     "data": {
      "application/vnd.jupyter.widget-view+json": {
       "model_id": "5406028849874823b73d65a96ee2553e",
       "version_major": 2,
       "version_minor": 0
      },
      "text/plain": [
       "  0%|          | 0/1000 [00:00<?, ?it/s]"
      ]
     },
     "metadata": {},
     "output_type": "display_data"
    },
    {
     "name": "stdout",
     "output_type": "stream",
     "text": [
      ">>>413 \t -8.75631e+00\n",
      "GMM with 44 components\n"
     ]
    },
    {
     "data": {
      "application/vnd.jupyter.widget-view+json": {
       "model_id": "68c04143189d4f178e3769c7ecf4ef96",
       "version_major": 2,
       "version_minor": 0
      },
      "text/plain": [
       "  0%|          | 0/1000 [00:00<?, ?it/s]"
      ]
     },
     "metadata": {},
     "output_type": "display_data"
    },
    {
     "name": "stdout",
     "output_type": "stream",
     "text": [
      ">>>408 \t -8.75420e+00\n",
      "GMM with 99 components\n"
     ]
    },
    {
     "data": {
      "application/vnd.jupyter.widget-view+json": {
       "model_id": "c1967c457f384706a4d4e07402c21917",
       "version_major": 2,
       "version_minor": 0
      },
      "text/plain": [
       "  0%|          | 0/1000 [00:00<?, ?it/s]"
      ]
     },
     "metadata": {},
     "output_type": "display_data"
    },
    {
     "name": "stdout",
     "output_type": "stream",
     "text": [
      ">>>420 \t -8.19579e+00\n",
      "GMM with 82 components\n"
     ]
    },
    {
     "data": {
      "application/vnd.jupyter.widget-view+json": {
       "model_id": "ec63254404d542d3b6fea8abd405117e",
       "version_major": 2,
       "version_minor": 0
      },
      "text/plain": [
       "  0%|          | 0/1000 [00:00<?, ?it/s]"
      ]
     },
     "metadata": {},
     "output_type": "display_data"
    },
    {
     "name": "stdout",
     "output_type": "stream",
     "text": [
      ">>>397 \t -8.19260e+00\n",
      "GMM with 82 components\n"
     ]
    },
    {
     "data": {
      "application/vnd.jupyter.widget-view+json": {
       "model_id": "b5ccd1ed9f5c412c9620a492545478a7",
       "version_major": 2,
       "version_minor": 0
      },
      "text/plain": [
       "  0%|          | 0/1000 [00:00<?, ?it/s]"
      ]
     },
     "metadata": {},
     "output_type": "display_data"
    },
    {
     "name": "stdout",
     "output_type": "stream",
     "text": [
      ">>>411 \t -8.19613e+00\n"
     ]
    }
   ],
   "source": [
    "lr = 1e-3\n",
    "num_iter = 1000\n",
    "patience = 20\n",
    "\n",
    "for zmin, zmax in zip(zmins, zmaxs):\n",
    "    for i_jack, field in enumerate(fields): # loop through jackknife fields\n",
    "        fgmm = os.path.join(dat_dir, 'psmf.gmm.bgs_bright.z%.2f_%.2f.jack%i.best.pt' % (zmin, zmax, i_jack))\n",
    "        if os.path.isfile(fgmm): continue\n",
    "        \n",
    "        # Vmax based importance weights\n",
    "        zlim = (bgs['Z_HP'].data > zmin) & (bgs['Z_HP'].data < zmax) & ~field\n",
    "\n",
    "        v_zmin = Planck13.comoving_volume(zmin).value * Planck13.h**3 # (Mpc/h)^3\n",
    "        v_zmax = Planck13.comoving_volume(zmax).value * Planck13.h**3 # (Mpc/h)^3\n",
    "\n",
    "        w_import = (v_zmax - v_zmin) / (vmaxes.clip(v_zmin, v_zmax) - v_zmin) \n",
    "        w_import *= bgs['provabgs_w_zfail'].data * bgs['provabgs_w_fibassign']\n",
    "\n",
    "        x_data = torch.tensor(logM_posteriors[zlim].astype(np.float32)).to(device)\n",
    "        w_data = torch.tensor(w_import[zlim].astype(np.float32)).to(device)\n",
    "\n",
    "        batch_size = 128\n",
    "        Ntrain = int(0.9 * x_data.shape[0])\n",
    "        Nvalid = x_data.shape[0] - Ntrain # int(0.1 * x_data.shape[0])\n",
    "\n",
    "        trainloader = torch.utils.data.DataLoader(\n",
    "                torch.utils.data.TensorDataset(x_data[:Ntrain], w_data[:Ntrain]),\n",
    "                batch_size=batch_size,\n",
    "                shuffle=True)\n",
    "\n",
    "        validloader = torch.utils.data.DataLoader(\n",
    "                torch.utils.data.TensorDataset(x_data[Ntrain:], w_data[Ntrain:]),\n",
    "                batch_size=batch_size)\n",
    "\n",
    "        best_flows, best_valid_losses = [], []\n",
    "        for i in range(3): \n",
    "            ncomp = int(np.random.uniform(5, 100))\n",
    "            flow = GaussianMixtureModel(n_components=ncomp)\n",
    "            flow.to(device)\n",
    "            print('GMM with %i components' % ncomp)\n",
    "\n",
    "            # parameters = [weights, means, stdevs]\n",
    "            optimizer = optim.Adam(flow.parameters(), lr=lr)\n",
    "            scheduler = optim.lr_scheduler.OneCycleLR(optimizer, lr, total_steps=num_iter)\n",
    "\n",
    "            best_epoch, best_valid_loss = 0, np.inf\n",
    "            valid_losses = []\n",
    "\n",
    "            t = trange(num_iter, leave=False)\n",
    "            for epoch in t:\n",
    "                train_loss = 0.\n",
    "                for batch in trainloader: \n",
    "                    optimizer.zero_grad()\n",
    "                    _post, _w = batch\n",
    "                    _post = _post.to(device)\n",
    "                    _w = _w.to(device)\n",
    "\n",
    "                    loss = Loss(flow, _post, _w)\n",
    "                    loss.backward()\n",
    "                    train_loss += loss.item()\n",
    "                    optimizer.step()\n",
    "                train_loss /= len(trainloader.dataset)\n",
    "\n",
    "                with torch.no_grad():\n",
    "                    valid_loss = 0.\n",
    "                    for batch in validloader: \n",
    "                        _post, _w = batch\n",
    "                        _post = _post.to(device)\n",
    "                        _w = _w.to(device)\n",
    "\n",
    "                        loss = Loss(flow, _post, _w)                \n",
    "                        valid_loss += loss.item()\n",
    "                    valid_loss /= len(validloader.dataset)           \n",
    "                    valid_losses.append(valid_loss)\n",
    "\n",
    "                scheduler.step()\n",
    "\n",
    "                t.set_description('Epoch: %i TRAINING Loss: %.2e VALIDATION Loss: %.2e' % \n",
    "                                  (epoch, train_loss, valid_loss), refresh=False)\n",
    "\n",
    "                if valid_loss < best_valid_loss: \n",
    "                    best_valid_loss = valid_loss\n",
    "                    best_epoch = epoch\n",
    "                    best_flow = copy.deepcopy(flow)\n",
    "                else: \n",
    "                    if best_epoch < epoch - patience: \n",
    "                        print('>>>%i \\t %.5e' % (epoch, best_valid_loss))\n",
    "                        break\n",
    "\n",
    "            best_flows.append(best_flow)\n",
    "            best_valid_losses.append(best_valid_loss)\n",
    "            \n",
    "        ibest = np.argmin(best_valid_losses)\n",
    "        torch.save(best_flows[ibest], fgmm)"
   ]
  },
  {
   "cell_type": "code",
   "execution_count": 83,
   "id": "955f0568",
   "metadata": {},
   "outputs": [],
   "source": [
    "m13_logms = np.linspace(9., 12., 31) + np.log10((Planck13.h / 0.7)**2)\n",
    "m13_logsmf = np.array([-1.899, -1.923, -1.970, -2.031, -2.055, -2.106, -2.144, -2.179, -2.188, -2.216, -2.234, -2.236, -2.262, -2.252, -2.285, -2.317, -2.365, -2.419, -2.504, -2.607, -2.728, -2.888, -3.104, -3.332, -3.606, -3.953, -4.363, -4.778, -5.255, -5.87, -6.49])\n",
    "m13_logsmf_sig = np.array([0.052, 0.048, 0.059, 0.052, 0.050, 0.053, 0.046, 0.051, 0.046, 0.048, 0.047, 0.045, 0.046, 0.049, 0.045, 0.046, 0.049, 0.049, 0.047, 0.046, 0.046, 0.043, 0.041, 0.042, 0.042, 0.047, 0.050, 0.057, 0.066, 0.1, 0.2])"
   ]
  },
  {
   "cell_type": "code",
   "execution_count": 89,
   "id": "b14a6a59",
   "metadata": {},
   "outputs": [
    {
     "name": "stderr",
     "output_type": "stream",
     "text": [
      "/home/chhahn/.conda/envs/sbi/lib/python3.7/site-packages/ipykernel_launcher.py:11: RuntimeWarning: divide by zero encountered in true_divide\n",
      "  # This is added back by InteractiveShellApp.init_path()\n",
      "/home/chhahn/.conda/envs/sbi/lib/python3.7/site-packages/ipykernel_launcher.py:11: RuntimeWarning: divide by zero encountered in true_divide\n",
      "  # This is added back by InteractiveShellApp.init_path()\n",
      "/home/chhahn/.conda/envs/sbi/lib/python3.7/site-packages/ipykernel_launcher.py:11: RuntimeWarning: divide by zero encountered in true_divide\n",
      "  # This is added back by InteractiveShellApp.init_path()\n",
      "/home/chhahn/.conda/envs/sbi/lib/python3.7/site-packages/ipykernel_launcher.py:11: RuntimeWarning: divide by zero encountered in true_divide\n",
      "  # This is added back by InteractiveShellApp.init_path()\n",
      "/home/chhahn/.conda/envs/sbi/lib/python3.7/site-packages/ipykernel_launcher.py:11: RuntimeWarning: divide by zero encountered in true_divide\n",
      "  # This is added back by InteractiveShellApp.init_path()\n"
     ]
    },
    {
     "data": {
      "image/png": "[encoded data removed]",
      "text/plain": [
       "<Figure size 576x432 with 1 Axes>"
      ]
     },
     "metadata": {
      "needs_background": "light"
     },
     "output_type": "display_data"
    }
   ],
   "source": [
    "fig = plt.figure(figsize=(8,6))\n",
    "sub = fig.add_subplot(111)\n",
    "for i, zmin, zmax in zip(range(5), zmins, zmaxs):    \n",
    "    # calculate normalization\n",
    "    # Vmax based importance weights\n",
    "    zlim = (bgs['Z_HP'].data > zmin) & (bgs['Z_HP'].data < zmax)\n",
    "\n",
    "    v_zmin = Planck13.comoving_volume(zmin).value * Planck13.h**3 * f_area # (Mpc/h)^3\n",
    "    v_zmax = Planck13.comoving_volume(zmax).value * Planck13.h**3 * f_area# (Mpc/h)^3\n",
    "    \n",
    "    w_import = (v_zmax - v_zmin) / (vmaxes.clip(v_zmin, v_zmax) - v_zmin) \n",
    "    w_import *= bgs['provabgs_w_zfail'].data * bgs['provabgs_w_fibassign']\n",
    "\n",
    "    # calculate normalization\n",
    "    norm = np.sum(w_import[zlim]) / (v_zmax - v_zmin)\n",
    "    psmf_model = torch.load(os.path.join(dat_dir, 'psmf.gmm.bgs_bright.z%.2f_%.2f.best.pt' % (zmin, zmax)), \n",
    "                            map_location=device)\n",
    "    with torch.no_grad(): \n",
    "        post_prime = psmf_model.sample((100000,))\n",
    "\n",
    "    h, be = np.histogram(np.array(post_prime.detach().cpu()), \n",
    "                 weights=np.repeat(norm, 100000) / 100000, range=(6., 13.), bins=40)\n",
    "    \n",
    "    h_jack = []\n",
    "    for i_jack, field, A_field in zip(range(len(fields)), fields, A_fields): \n",
    "        # calculate normalization\n",
    "        zlim = (bgs['Z_HP'].data > zmin) & (bgs['Z_HP'].data < zmax) & ~field\n",
    "        norm = np.sum(w_import[zlim]) / ((v_zmax - v_zmin) / f_area * (A_field/(4.*np.pi*(180/np.pi)**2)))\n",
    "\n",
    "        fgmm = os.path.join(dat_dir, 'psmf.gmm.bgs_bright.z%.2f_%.2f.jack%i.best.pt' % (zmin, zmax, i_jack))\n",
    "        psmf_model = torch.load(fgmm, map_location=device)\n",
    "        with torch.no_grad(): \n",
    "            post_prime = psmf_model.sample((100000,))\n",
    "        _h, _ = np.histogram(np.array(post_prime.detach().cpu()), \n",
    "                             weights=np.repeat(norm, 100000) / 100000, range=(6., 13.), bins=40)\n",
    "        h_jack.append(_h)\n",
    "    h_jack = np.array(h_jack)\n",
    "    \n",
    "    #sub.plot(0.5*(be[:-1] + be[1:]), h, c='C%i' % i)\n",
    "    #for h_j in h_jack:\n",
    "    #    sub.plot(0.5*(be[:-1] + be[1:]), h_j, c='C%i' % i, ls='--')\n",
    "    sig_jack = np.sqrt(float(len(fields)-1)/float(len(fields)) * np.sum((h_jack - np.mean(h_jack, axis=0))**2, axis=0))\n",
    "        #_ = sub.hist(np.array(post_prime.detach().cpu()), range=(6., 13.), bins=40, \n",
    "        #             color='C%i' % i, histtype='step', linewidth=1)\n",
    "    #sub.errorbar(0.5*(be[:-1] + be[1:]), h, yerr=sig_jack, c='C%i' % i)\n",
    "    sub.plot(0.5*(be[:-1] + be[1:]), h, color='C%i' % i, ls='--')\n",
    "    sub.plot(0.5*(be[:-1] + be[1:])[be[:-1] > mlim[2*i+1]], h[be[:-1] > mlim[2*i+1]], c='C%i' % i, ls='-')\n",
    "    sub.fill_between(0.5*(be[:-1] + be[1:]), h-sig_jack, h+sig_jack, color='C%i' % i, edgecolor='none', alpha=0.5)\n",
    "    sub.plot([], [], c='C%i' % i, label='$%.2f < z < %.2f$' % (zmin, zmax))\n",
    "    \n",
    "    #sub.step(be[:-1], h, where='pre', color='C%i' % i, linestyle='--')\n",
    "    #sub.step(be[:-1][be[:-1] > mlim[2*i+1]], h[be[:-1] > mlim[2*i+1]], where='pre', color='C%i' % i, linestyle='-')\n",
    "sub.errorbar(m13_logms, 10**m13_logsmf, \n",
    "             yerr=[10**m13_logsmf - 10**(m13_logsmf - m13_logsmf_sig), 10**(m13_logsmf + m13_logsmf_sig) - 10**m13_logsmf],\n",
    "             fmt='.k', markersize=3, label='Moustakas+(2013) SDSS')\n",
    "\n",
    "sub.legend(loc='lower left', fontsize=20, markerscale=5, frameon=True)\n",
    "sub.set_xlabel(r'$\\log M_*$  [$M_\\odot$]', fontsize=25)\n",
    "sub.set_xlim(7., 12.5)\n",
    "sub.set_ylabel(r'$p(\\log M_*)$  [$({\\rm Mpc}/h)^{-3}{\\rm dex}^{-1}$]', fontsize=25)\n",
    "sub.set_yscale('log')\n",
    "sub.set_ylim(5e-7, 4e-2)\n",
    "sub.text(0.95, 0.95, r'1\\% of BGS', ha='right', va='top', fontsize=30, transform=sub.transAxes)\n",
    "plt.show()"
   ]
  },
  {
   "cell_type": "code",
   "execution_count": null,
   "id": "ea12a6c2",
   "metadata": {},
   "outputs": [],
   "source": []
  }
 ],
 "metadata": {
  "kernelspec": {
   "display_name": "sbi",
   "language": "python",
   "name": "sbi"
  },
  "language_info": {
   "codemirror_mode": {
    "name": "ipython",
    "version": 3
   },
   "file_extension": ".py",
   "mimetype": "text/x-python",
   "name": "python",
   "nbconvert_exporter": "python",
   "pygments_lexer": "ipython3",
   "version": "3.7.10"
  }
 },
 "nbformat": 4,
 "nbformat_minor": 5
}
